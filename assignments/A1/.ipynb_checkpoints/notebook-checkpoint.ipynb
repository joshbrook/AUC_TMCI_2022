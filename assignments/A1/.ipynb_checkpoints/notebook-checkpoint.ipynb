{
 "cells": [
  {
   "cell_type": "markdown",
   "metadata": {},
   "source": [
    "# Assignment 1"
   ]
  },
  {
   "cell_type": "markdown",
   "metadata": {},
   "source": [
    "## Guidelines\n",
    "\n",
    "> Remember to add an explanation of what you do using markdown, and to comment your code. Please *be brief*.\n",
    ">\n",
    "> If you re-use a substantial portion of code you find online, e.g on Stackoverflow, you need to add a link to it and make the borrowing explicit. The same applies of you take it and modify it, even substantially. There is nothing bad in doing that, providing you are acknowledging it and make it clear you know what you're doing.\n",
    ">\n",
    "> Make sure your notebooks have been run when you sumit, as I won't run them myself. Submit both the `.ipynb` file along with an `.html` export of the same. Submit all necessary auxilliary files as well. Please compress your submission into a `.zip` archive. Only `.zip` files can be submitted."
   ]
  },
  {
   "cell_type": "markdown",
   "metadata": {},
   "source": [
    "## Grading policy\n",
    "> As follows:\n",
    ">\n",
    "> * 70 points for correctly completing the assignment.\n",
    ">\n",
    "> * 20 points for appropriately writing and organizing your code in terms of structure, readibility (also by humans), comments and minimal documentation. It is important to be concise but also to explain what you did and why, when not obvious.\n",
    "> \n",
    "> * 10 points for doing something extra, e.g., if you go beyond expectations (overall or on something specific). Some ideas for extras might be mentioned in the exercises, or you can come up with your own. You don't need to do them all to get the bonus. The sum of points is 90, doing (some of) the extras can bring you to 100, so the extras are not necessary to get an A.\n",
    "> \n",
    "\n",
    "**The AUC code of conduct applies to this assignment: please only submit your own work.**"
   ]
  },
  {
   "cell_type": "markdown",
   "metadata": {},
   "source": [
    "---"
   ]
  },
  {
   "cell_type": "markdown",
   "metadata": {},
   "source": [
    "# Warm up (25 points)"
   ]
  },
  {
   "cell_type": "markdown",
   "metadata": {
    "collapsed": true
   },
   "source": [
    "## Question 1 (2 points)\n",
    "\n",
    "Explain why `list1` and `list2` behave differently when they are passed to the `append_to_nested_list()` function."
   ]
  },
  {
   "cell_type": "code",
   "execution_count": 272,
   "metadata": {},
   "outputs": [
    {
     "name": "stdout",
     "output_type": "stream",
     "text": [
      "[['Python'], [], []]\n",
      "[['Python'], ['Python'], ['Python']]\n"
     ]
    }
   ],
   "source": [
    "def append_to_nested_list(a_list):\n",
    "    a_list[0].append(\"Python\")\n",
    "    return a_list\n",
    "    \n",
    "list1 = [[], [], []]\n",
    "list2 = [[]] * 3\n",
    "\n",
    "print(append_to_nested_list(list1))\n",
    "print(append_to_nested_list(list2))"
   ]
  },
  {
   "cell_type": "code",
   "execution_count": 305,
   "metadata": {},
   "outputs": [
    {
     "name": "stdout",
     "output_type": "stream",
     "text": [
      "False\n",
      "True\n"
     ]
    }
   ],
   "source": [
    "# your code here\n",
    "\n",
    "print(list1[0] is list1[1])\n",
    "print(list2[0] is list2[1])"
   ]
  },
  {
   "cell_type": "markdown",
   "metadata": {},
   "source": [
    "`list1` creates 3 separate lists in memory, meaning they can all be edited independantly, whereas `list2` allocates all three lists to the same place in memory, meaning changing one will change all of them.\n"
   ]
  },
  {
   "cell_type": "markdown",
   "metadata": {},
   "source": [
    "## Question 2 (3 points)\n",
    "\n",
    "Write a function that counts the frequency of all words that start and end with the same character (e.g. comic) in a text file and test it on `data/melville-md.txt`. \n",
    "\n",
    "Ensure that the words are treated case-insensitive."
   ]
  },
  {
   "cell_type": "code",
   "execution_count": 198,
   "metadata": {},
   "outputs": [
    {
     "name": "stdout",
     "output_type": "stream",
     "text": [
      "The frequency of all words that start and end with the same character in this file is 14305 \n",
      "\n",
      "Results from the first 100 words:\n",
      "i\n",
      "thought\n",
      "i\n",
      "a\n",
      "a\n",
      "i\n",
      "i\n",
      "growing\n",
      "a\n",
      "i\n",
      "rear\n",
      "i\n"
     ]
    }
   ],
   "source": [
    "# your code here\n",
    "\n",
    "import nltk\n",
    "import string\n",
    "\n",
    "file = open(\"data/melville-md.txt\", \"r\", encoding='utf-8')\n",
    "raw = file.read()\n",
    "file.close()\n",
    "\n",
    "# searching for the positions of the real start and end of the text, in order to strip the excess\n",
    "raw.find(\"Call me Ishmael\")\n",
    "raw.find(\"This file should be named 2701-h.htm or 2701-h.zip\")\n",
    "raw = raw[28029:1219900].lower()\n",
    "\n",
    "# removing punctuation and splitting on spaces\n",
    "t = str.maketrans(\"\", \"\", string.punctuation)\n",
    "words = raw.translate(t).split()\n",
    "\n",
    "# counting frequency \n",
    "freq = len([word for word in words if word[0] == word[-1]])\n",
    "    \n",
    "# final result\n",
    "print(\"The frequency of all words that start and end with the same character in this file is\", freq, \"\\n\")\n",
    "\n",
    "# testing\n",
    "print(\"Results from the first 100 words:\")\n",
    "for word in words[:100]:\n",
    "    if word[0] == word[-1]:\n",
    "        print(word)"
   ]
  },
  {
   "cell_type": "markdown",
   "metadata": {},
   "source": [
    "### Comments\n",
    "Text from Project Gutenberg contains a header and a footer with the name of the text, references, and the author, etc. I had to manually search for the positions of the real start and end of the text, in order to strip the excess\n",
    "\n",
    "This code returns all the single 'a's and 'I's as they techincally start and end with the same letter. I decided to allow this as it doesn't strictly negate any of the directives in the question, however, a check for this could be easily implemented through a simple `if len(word) > 1` in the loop."
   ]
  },
  {
   "cell_type": "markdown",
   "metadata": {},
   "source": [
    "## Question 3 (3 points)\n",
    "\n",
    "Rewrite the following code such that:\n",
    "\n",
    "- the sequence of fruit names are randomly presented (without replacement). Use a function in the [random](https://docs.python.org/3.7/library/random.html) module for this.\n",
    "\n",
    "\n",
    "- the article \"an\" is used when a fruit name begins with a vowel."
   ]
  },
  {
   "cell_type": "code",
   "execution_count": 7,
   "metadata": {
    "scrolled": true
   },
   "outputs": [
    {
     "name": "stdout",
     "output_type": "stream",
     "text": [
      "We have a apple\n",
      "We have a apricot\n",
      "We have a avocado\n",
      "We have a banana\n",
      "We have a bilberry\n",
      "We have a blackberry\n",
      "We have a blackcurrant\n",
      "We have a blueberry\n",
      "We have a boysenberry\n",
      "We have a currant\n",
      "We have a cherry\n",
      "We have a cherimoya\n",
      "We have a cloudberry\n",
      "We have a coconut\n",
      "We have a cranberry\n",
      "We have a cucumber\n",
      "We have a damson\n",
      "We have a date\n",
      "We have a dragonfruit\n",
      "We have a durian\n",
      "We have a elderberry\n",
      "We have a feijoa\n",
      "We have a fig\n",
      "We have a gooseberry\n",
      "We have a grape\n",
      "We have a raisin\n",
      "We have a grapefruit\n",
      "We have a guava\n",
      "We have a honeyberry\n",
      "We have a huckleberry\n",
      "We have a jabuticaba\n",
      "We have a jackfruit\n",
      "We have a jambul\n",
      "We have a jujube\n",
      "We have a kiwano\n",
      "We have a kiwifruit\n",
      "We have a kumquat\n",
      "We have a lemon\n",
      "We have a lime\n",
      "We have a loquat\n",
      "We have a longan\n",
      "We have a lychee\n",
      "We have a mango\n",
      "We have a mangosteen\n",
      "We have a marionberry\n",
      "We have a melon\n",
      "We have a cantaloupe\n",
      "We have a honeydew\n",
      "We have a watermelon\n",
      "We have a mulberry\n",
      "We have a nectarine\n",
      "We have a nance\n",
      "We have a orange\n",
      "We have a clementine\n",
      "We have a mandarine\n",
      "We have a tangerine\n",
      "We have a papaya\n",
      "We have a passionfruit\n",
      "We have a peach\n",
      "We have a pear\n",
      "We have a persimmon\n",
      "We have a physalis\n",
      "We have a plantain\n",
      "We have a plum\n",
      "We have a prune\n",
      "We have a pineapple\n",
      "We have a plumcot\n",
      "We have a pomegranate\n",
      "We have a pomelo\n",
      "We have a quince\n",
      "We have a raspberry\n",
      "We have a salmonberry\n",
      "We have a rambutan\n",
      "We have a redcurrant\n",
      "We have a salak\n",
      "We have a satsuma\n",
      "We have a soursop\n",
      "We have a strawberry\n",
      "We have a tamarillo\n",
      "We have a tamarind\n",
      "We have a yuzu\n"
     ]
    }
   ],
   "source": [
    "available_fruit = ['apple', 'apricot', 'avocado', 'banana', 'bilberry', 'blackberry', 'blackcurrant', 'blueberry', 'boysenberry', 'currant', 'cherry', 'cherimoya', 'cloudberry', 'coconut', 'cranberry', 'cucumber', 'damson', 'date', 'dragonfruit', 'durian', 'elderberry', 'feijoa', 'fig', 'gooseberry', 'grape', 'raisin', 'grapefruit', 'guava', 'honeyberry', 'huckleberry', 'jabuticaba', 'jackfruit', 'jambul', 'jujube', 'kiwano', 'kiwifruit', 'kumquat', 'lemon', 'lime', 'loquat', 'longan', 'lychee', 'mango', 'mangosteen', 'marionberry', 'melon', 'cantaloupe', 'honeydew', 'watermelon', 'mulberry', 'nectarine', 'nance', 'orange', 'clementine', 'mandarine', 'tangerine', 'papaya', 'passionfruit', 'peach', 'pear', 'persimmon', 'physalis', 'plantain', 'plum', 'prune', 'pineapple', 'plumcot', 'pomegranate', 'pomelo', 'quince', 'raspberry', 'salmonberry', 'rambutan', 'redcurrant', 'salak', 'satsuma', 'soursop', 'strawberry', 'tamarillo', 'tamarind', 'yuzu']\n",
    "\n",
    "for fruit in available_fruit:\n",
    "    print(\"We have a \" + fruit)"
   ]
  },
  {
   "cell_type": "code",
   "execution_count": 2,
   "metadata": {
    "scrolled": true
   },
   "outputs": [
    {
     "name": "stdout",
     "output_type": "stream",
     "text": [
      "We have a kumquat\n",
      "We have a boysenberry\n",
      "We have a melon\n",
      "We have a nance\n",
      "We have an orange\n",
      "We have an avocado\n",
      "We have a soursop\n",
      "We have a date\n",
      "We have a redcurrant\n",
      "We have a nectarine\n",
      "We have a durian\n",
      "We have a grape\n",
      "We have a lemon\n",
      "We have a pomegranate\n",
      "We have a mulberry\n",
      "We have a mandarine\n",
      "We have a honeyberry\n",
      "We have a kiwano\n",
      "We have a physalis\n",
      "We have a jabuticaba\n",
      "We have a coconut\n",
      "We have a cherry\n",
      "We have a pineapple\n",
      "We have a quince\n",
      "We have a strawberry\n",
      "We have a satsuma\n",
      "We have a cherimoya\n",
      "We have a banana\n",
      "We have a cantaloupe\n",
      "We have a tamarind\n",
      "We have a fig\n",
      "We have a lychee\n",
      "We have a grapefruit\n",
      "We have a jujube\n",
      "We have a raisin\n",
      "We have a plumcot\n",
      "We have a pomelo\n",
      "We have a honeydew\n",
      "We have a kiwifruit\n",
      "We have a plum\n",
      "We have a tangerine\n",
      "We have a plantain\n",
      "We have a papaya\n",
      "We have a salmonberry\n",
      "We have a yuzu\n",
      "We have a longan\n",
      "We have a guava\n",
      "We have an apricot\n",
      "We have an elderberry\n",
      "We have a cranberry\n",
      "We have a feijoa\n",
      "We have a lime\n",
      "We have a loquat\n",
      "We have a blackberry\n",
      "We have a mango\n",
      "We have a jackfruit\n",
      "We have a prune\n",
      "We have a currant\n",
      "We have a clementine\n",
      "We have a dragonfruit\n",
      "We have a passionfruit\n",
      "We have a watermelon\n",
      "We have a marionberry\n",
      "We have a cucumber\n",
      "We have a bilberry\n",
      "We have a mangosteen\n",
      "We have a tamarillo\n",
      "We have a damson\n",
      "We have a blackcurrant\n",
      "We have a raspberry\n",
      "We have an apple\n",
      "We have a gooseberry\n",
      "We have a blueberry\n",
      "We have a jambul\n",
      "We have a huckleberry\n",
      "We have a pear\n",
      "We have a persimmon\n",
      "We have a salak\n",
      "We have a cloudberry\n",
      "We have a rambutan\n",
      "We have a peach\n"
     ]
    }
   ],
   "source": [
    "# your code here\n",
    "\n",
    "import random\n",
    "\n",
    "available_fruit = ['apple', 'apricot', 'avocado', 'banana', 'bilberry', 'blackberry', 'blackcurrant', 'blueberry', 'boysenberry', 'currant', 'cherry', 'cherimoya', 'cloudberry', 'coconut', 'cranberry', 'cucumber', 'damson', 'date', 'dragonfruit', 'durian', 'elderberry', 'feijoa', 'fig', 'gooseberry', 'grape', 'raisin', 'grapefruit', 'guava', 'honeyberry', 'huckleberry', 'jabuticaba', 'jackfruit', 'jambul', 'jujube', 'kiwano', 'kiwifruit', 'kumquat', 'lemon', 'lime', 'loquat', 'longan', 'lychee', 'mango', 'mangosteen', 'marionberry', 'melon', 'cantaloupe', 'honeydew', 'watermelon', 'mulberry', 'nectarine', 'nance', 'orange', 'clementine', 'mandarine', 'tangerine', 'papaya', 'passionfruit', 'peach', 'pear', 'persimmon', 'physalis', 'plantain', 'plum', 'prune', 'pineapple', 'plumcot', 'pomegranate', 'pomelo', 'quince', 'raspberry', 'salmonberry', 'rambutan', 'redcurrant', 'salak', 'satsuma', 'soursop', 'strawberry', 'tamarillo', 'tamarind', 'yuzu']\n",
    "\n",
    "random.shuffle(available_fruit)\n",
    "\n",
    "for fruit in available_fruit:\n",
    "    if fruit[0] in \"aeiou\":\n",
    "        print(f\"We have an {fruit}\")\n",
    "    else:\n",
    "        print(f\"We have a {fruit}\")"
   ]
  },
  {
   "cell_type": "markdown",
   "metadata": {},
   "source": [
    "## Question 4 (7 points)\n",
    "\n",
    "The following code has been written to extract all word-initial consonant clusters in a text (e.g. \"br\" in \"bread). Each sequence is obtained by matching any sequence of letters that does not include 'aeiou' and that occurs after a whitespace or the start of the line and that consists of 2 or more such characters.\n",
    "\n",
    "It works by reading an input file line by line, and finding all matches of a regular expression in this line (case insensitive).\n",
    "\n",
    "Unfortunately, the method only counts, and we do not find out which word-initial consonants are present in the text. Can you find a way to save all matching consonant clusters to the dictionary named \"consonantclusters\" with their frequency as the value, and then print this dictionary? Note that there can be multiple results per line. Try to avoid capturing the space(s) before the consonant cluster also.\n",
    "\n",
    "**Possible extra:** Print the consonant clusters sorted by frequency and in a nice looking way."
   ]
  },
  {
   "cell_type": "code",
   "execution_count": 200,
   "metadata": {},
   "outputs": [],
   "source": [
    "import codecs\n",
    "import re"
   ]
  },
  {
   "cell_type": "code",
   "execution_count": 206,
   "metadata": {},
   "outputs": [
    {
     "name": "stdout",
     "output_type": "stream",
     "text": [
      "51523\n"
     ]
    }
   ],
   "source": [
    "consonantclusters = {}\n",
    "consonantclustercount = 0\n",
    "with codecs.open(\"data/melville-md.txt\", \"r\", encoding=\"utf8\") as infile:\n",
    "    consonantclusterregex = re.compile(r'(^|\\s)(?:(?![aeiouy])[a-z]){2,}')\n",
    "    for line in infile:\n",
    "        result = consonantclusterregex.findall(line.lower())\n",
    "        if result:\n",
    "            consonantclustercount += len(result)\n",
    "print(consonantclustercount)"
   ]
  },
  {
   "cell_type": "code",
   "execution_count": 301,
   "metadata": {},
   "outputs": [
    {
     "data": {
      "image/png": "[encoded data removed]",
      "text/plain": [
       "<Figure size 432x288 with 1 Axes>"
      ]
     },
     "metadata": {
      "needs_background": "light"
     },
     "output_type": "display_data"
    },
    {
     "name": "stdout",
     "output_type": "stream",
     "text": [
      "10 most frequent consonant clusters:\n"
     ]
    },
    {
     "data": {
      "text/html": [
       "<div>\n",
       "<style scoped>\n",
       "    .dataframe tbody tr th:only-of-type {\n",
       "        vertical-align: middle;\n",
       "    }\n",
       "\n",
       "    .dataframe tbody tr th {\n",
       "        vertical-align: top;\n",
       "    }\n",
       "\n",
       "    .dataframe thead th {\n",
       "        text-align: right;\n",
       "    }\n",
       "</style>\n",
       "<table border=\"1\" class=\"dataframe\">\n",
       "  <thead>\n",
       "    <tr style=\"text-align: right;\">\n",
       "      <th></th>\n",
       "      <th>th</th>\n",
       "      <th>nd</th>\n",
       "      <th>ng</th>\n",
       "      <th>st</th>\n",
       "      <th>ll</th>\n",
       "      <th>wh</th>\n",
       "      <th>nt</th>\n",
       "      <th>sh</th>\n",
       "      <th>ch</th>\n",
       "      <th>ss</th>\n",
       "    </tr>\n",
       "  </thead>\n",
       "  <tbody>\n",
       "    <tr>\n",
       "      <th>frequency</th>\n",
       "      <td>29397</td>\n",
       "      <td>9987</td>\n",
       "      <td>8791</td>\n",
       "      <td>6356</td>\n",
       "      <td>5763</td>\n",
       "      <td>5578</td>\n",
       "      <td>4386</td>\n",
       "      <td>3064</td>\n",
       "      <td>2691</td>\n",
       "      <td>2294</td>\n",
       "    </tr>\n",
       "  </tbody>\n",
       "</table>\n",
       "</div>"
      ],
      "text/plain": [
       "              th    nd    ng    st    ll    wh    nt    sh    ch    ss\n",
       "frequency  29397  9987  8791  6356  5763  5578  4386  3064  2691  2294"
      ]
     },
     "metadata": {},
     "output_type": "display_data"
    }
   ],
   "source": [
    "# your code here\n",
    "\n",
    "# import file\n",
    "file = codecs.open(\"data/melville-md.txt\", \"r\", encoding=\"utf8\")\n",
    "raw = file.read()\n",
    "file.close()\n",
    "\n",
    "# trim text as before and remove newline characters\n",
    "raw = raw[28029:1219900].lower()\n",
    "raw = raw.replace('\\n', ' ')\n",
    "\n",
    "# find consonant clusters\n",
    "ccregex = re.compile(r'(?:(?![aeiouy])[a-z]){2,}')\n",
    "cclist = ccregex.findall(raw)\n",
    "\n",
    "# make dict and count from the consonant cluster list\n",
    "freqs = nltk.FreqDist(cclist)\n",
    "consonantclusters = dict(freqs)\n",
    "consonantclustercount = len(cclist)\n",
    "\n",
    "# transform freq dist to dataframe for pretty displaying\n",
    "df = pd.DataFrame.from_dict(consonantclusters, orient=\"index\", columns=[\"frequency\"])\n",
    "df = df.sort_values(by='frequency', ascending=False)\n",
    "\n",
    "freqs.plot(30)\n",
    "\n",
    "print(\"10 most frequent consonant clusters:\")\n",
    "display(df.head(10).T)"
   ]
  },
  {
   "cell_type": "markdown",
   "metadata": {
    "collapsed": true
   },
   "source": [
    "## Question 5 (10 points)\n",
    "\n",
    "Please use the frequencies in `late_arrival_causes` to create a duplicate of the plot below, as close as possible. This is called a Pareto chart.\n",
    "\n",
    "Note: the line plot above the bars shows the cumulative frequency.\n",
    "\n",
    "**Possible extra:** suggest, motivate and implement an alternative visualization for the same data."
   ]
  },
  {
   "cell_type": "markdown",
   "metadata": {},
   "source": [
    "![pareto chart](images/pareto-chart.png)"
   ]
  },
  {
   "cell_type": "code",
   "execution_count": 184,
   "metadata": {},
   "outputs": [],
   "source": [
    "late_arrival_causes = {\"Child Care\" : 44, \"Emergency\" : 7, \"Overslept\" : 11, \"Traffic\" : 56, \"Transport\" : 27, \"Weather\" : 20}"
   ]
  },
  {
   "cell_type": "code",
   "execution_count": 302,
   "metadata": {},
   "outputs": [
    {
     "data": {
      "image/png": "[encoded data removed]",
      "text/plain": [
       "<Figure size 720x480 with 2 Axes>"
      ]
     },
     "metadata": {
      "needs_background": "light"
     },
     "output_type": "display_data"
    }
   ],
   "source": [
    "# your code here\n",
    "\n",
    "import pandas as pd\n",
    "import matplotlib.pyplot as plt\n",
    "\n",
    "# converting dict to dataframe\n",
    "vals = list(late_arrival_causes.values())\n",
    "keys = list(late_arrival_causes)\n",
    "\n",
    "df = pd.DataFrame({\"count\":vals}, index=keys)\n",
    "df = df.sort_values(by='count', ascending=False)\n",
    "\n",
    "# adding cumulative percentage count\n",
    "df['cumulative'] = df['count'].cumsum() / df['count'].sum() * 100\n",
    "\n",
    "# bar plot\n",
    "fig, ax = plt.subplots()\n",
    "ax.bar(df.index, df['count'], color=\"grey\")\n",
    "\n",
    "# cumulative percentage line\n",
    "ax2 = ax.twinx()\n",
    "ax2.plot(df.index, df['cumulative'], color=\"orange\", marker=\".\", ms=10)\n",
    "\n",
    "# formatting\n",
    "ax.set_ylabel('count', color=\"grey\")\n",
    "ax2.set_ylabel('cumulative percentage', color=\"orange\")\n",
    "ax.set_xlabel('reason')\n",
    "ax.set_ylim(0,183)\n",
    "ax2.set_ylim(0,110)\n",
    "fig.set_dpi(120)\n",
    "plt.title(\"Late Arrivals by Reported Cause\")\n",
    "\n",
    "plt.show()"
   ]
  },
  {
   "cell_type": "markdown",
   "metadata": {},
   "source": [
    "Some of this code was adapted from a [post](https://www.statology.org/pareto-chart-python/) about pareto charts on Statology\n",
    "\n",
    "Z. (2021, October 24). How to Create a Pareto Chart in Python (Step-by-Step). Statology. "
   ]
  },
  {
   "cell_type": "markdown",
   "metadata": {},
   "source": [
    "---"
   ]
  },
  {
   "cell_type": "markdown",
   "metadata": {},
   "source": [
    "# Preprocessing pipelines (40 points)"
   ]
  },
  {
   "cell_type": "markdown",
   "metadata": {},
   "source": [
    "## Question 6 (25 points)\n",
    "\n",
    "- Download a 19th-century edition (or earlier, but not later!) of a book you like from the [Internet Archive](https://archive.org) in `.txt` format. For example, [Frankenstein](https://archive.org/details/ghostseer01schiuoft/page/n6). Add the link to the edition you used to your answer, as well as the `.txt` file to your submission.\n",
    "\n",
    "- Write code that:\n",
    "\n",
    "    1. Reads the text in memory.\n",
    "    \n",
    "    1. Pre-processes the text with a tokenizer from [NLTK](https://www.nltk.org/api/nltk.tokenize.html) (remember to motivate your choice).\n",
    "    \n",
    "    1. Filter out words that consist of strictly less than 4 alphabetic characters.\n",
    "\n",
    "    1. Counts the frequencies of all the words in the corpus (words should be counted case-insensitive).\n",
    "\n",
    "    1. Writes each word-frequency pair to a csv file (from most frequent to rarest).\n",
    "\n",
    "*Briefly* comment on your results, especially looking at very frequent and very unfrequent words. What is problematic about these old editions? Can you find some limitations of the tokenizer in use, and think about how you would improve on it?\n",
    "\n",
    "**Possible extra:** plot the relative frequency of the top N words (e.g., use the Pareto chart you did above, or another suitable plot) and discuss whether the distribution might follow the [Zipf's law](https://en.wikipedia.org/wiki/Zipf%27s_law).\n",
    "\n",
    "**Possible extra:** add lemmatization or stemming and part-of-speech tagging."
   ]
  },
  {
   "cell_type": "markdown",
   "metadata": {},
   "source": [
    "# Text\n",
    "\n",
    "Alighieri, D. (1321). The Divine Comedy, Vol. 1 (Inferno) (English trans.). Harvard University Press.\n",
    "\n",
    "https://oll.libertyfund.org/title/langdon-the-divine-comedy-vol-1-inferno-english-trans\n",
    "\n",
    "`inferno.txt`"
   ]
  },
  {
   "cell_type": "code",
   "execution_count": 271,
   "metadata": {
    "scrolled": false
   },
   "outputs": [
    {
     "name": "stdout",
     "output_type": "stream",
     "text": [
      "Top 10 most frequent words:\n"
     ]
    },
    {
     "data": {
      "text/html": [
       "<div>\n",
       "<style scoped>\n",
       "    .dataframe tbody tr th:only-of-type {\n",
       "        vertical-align: middle;\n",
       "    }\n",
       "\n",
       "    .dataframe tbody tr th {\n",
       "        vertical-align: top;\n",
       "    }\n",
       "\n",
       "    .dataframe thead th {\n",
       "        text-align: right;\n",
       "    }\n",
       "</style>\n",
       "<table border=\"1\" class=\"dataframe\">\n",
       "  <thead>\n",
       "    <tr style=\"text-align: right;\">\n",
       "      <th></th>\n",
       "      <th>that</th>\n",
       "      <th>thou</th>\n",
       "      <th>with</th>\n",
       "      <th>which</th>\n",
       "      <th>from</th>\n",
       "      <th>then</th>\n",
       "      <th>when</th>\n",
       "      <th>this</th>\n",
       "      <th>said</th>\n",
       "      <th>there</th>\n",
       "    </tr>\n",
       "  </thead>\n",
       "  <tbody>\n",
       "    <tr>\n",
       "      <th>frequency</th>\n",
       "      <td>647</td>\n",
       "      <td>387</td>\n",
       "      <td>380</td>\n",
       "      <td>303</td>\n",
       "      <td>283</td>\n",
       "      <td>233</td>\n",
       "      <td>210</td>\n",
       "      <td>202</td>\n",
       "      <td>179</td>\n",
       "      <td>176</td>\n",
       "    </tr>\n",
       "  </tbody>\n",
       "</table>\n",
       "</div>"
      ],
      "text/plain": [
       "           that  thou  with  which  from  then  when  this  said  there\n",
       "frequency   647   387   380    303   283   233   210   202   179    176"
      ]
     },
     "metadata": {},
     "output_type": "display_data"
    },
    {
     "name": "stdout",
     "output_type": "stream",
     "text": [
      "\n",
      "Sample of words with only one occurence:\n",
      "\n",
      "['duct', 'object', 'behooveth', 'practice', 'cradles', 'polydorus', 'haunches', 'complete', 'hunt', 'scraping'] \n",
      "\n"
     ]
    },
    {
     "data": {
      "image/png": "[encoded data removed]",
      "text/plain": [
       "<Figure size 900x600 with 2 Axes>"
      ]
     },
     "metadata": {
      "needs_background": "light"
     },
     "output_type": "display_data"
    }
   ],
   "source": [
    "# your code here\n",
    "\n",
    "import nltk\n",
    "import pandas as pd\n",
    "import matplotlib.pyplot as plt\n",
    "from nltk.tokenize import RegexpTokenizer\n",
    "\n",
    "# importing text\n",
    "file = open(\"data/inferno.txt\", \"r\", encoding='utf-8')\n",
    "raw = file.read()\n",
    "file.close()\n",
    "\n",
    "# tokenization\n",
    "regextk = RegexpTokenizer(r'\\w+')\n",
    "tokens = regextk.tokenize(raw.lower())\n",
    "\n",
    "# removing words with strictly less than 4 characters\n",
    "words = [ word for word in tokens if len(word) >= 4 ]\n",
    "\n",
    "# noticed that this version of the text had \"Edition: current; Page [[n]]\" at the beginning of each chapter,\n",
    "# so I dropped these words, as they are not part of the actual text\n",
    "words = [ word for word in words if word not in [\"current\", \"page\", \"edition\"] ]\n",
    "\n",
    "# creating a frequency distribution for the remaining words\n",
    "counts = nltk.FreqDist(words)\n",
    "\n",
    "# creating a dataframe of the frequency distribution for each word in the text\n",
    "df = pd.DataFrame.from_dict(counts, orient=\"index\", columns=[\"frequency\"])\n",
    "df = df.sort_values(by=\"frequency\", ascending=False)\n",
    "\n",
    "# exporting word freq pairs to csv file\n",
    "df.to_csv(\"wordfreqpairs.csv\")\n",
    "\n",
    "\n",
    "# displaying values\n",
    "print(\"Top 10 most frequent words:\")\n",
    "display(df.head(10).T)\n",
    "\n",
    "print(\"\\nSample of words with only one occurence:\\n\")\n",
    "print(list(df[df.frequency == 1].sample(10).index), \"\\n\")\n",
    "\n",
    "\n",
    "# plotting using pareto chart from previous question\n",
    "\n",
    "# adding cumulative percentage count\n",
    "df = df[:40]\n",
    "df['cumulative'] = df['frequency'].cumsum() / df['frequency'].sum() * 100\n",
    "\n",
    "# bar plot\n",
    "fig, ax = plt.subplots()\n",
    "ax.bar(df.index, df['frequency'], color=\"grey\")\n",
    "\n",
    "# cumulative percentage line\n",
    "ax2 = ax.twinx()\n",
    "ax2.plot(df.index, df['cumulative'], color=\"orange\", marker=\".\", ms=6)\n",
    "\n",
    "# formatting\n",
    "ax.set_ylabel('count', color=\"grey\")\n",
    "ax2.set_ylabel('cumulative percentage', color=\"orange\")\n",
    "fig.set_dpi(150)\n",
    "plt.title(\"Frequency distribution of first 40 words in text\")\n",
    "ax.tick_params(axis='x', labelrotation = 90)\n",
    "\n",
    "plt.show()"
   ]
  },
  {
   "cell_type": "markdown",
   "metadata": {},
   "source": [
    "## Comments and Analysis\n",
    "\n",
    "As shown in the frequency distribution plot, this data seems to conform to Zipf's law quite well, with the highest frequency words appearing exponentially more than the lower frequency ones. The alignment isn't perfect, as the reduced set of word tokens doesn't fully reflect the distribution of all the words in the text, as many high frequency words are shorter than 4 characters.\n",
    "\n",
    "There are clearly quite a few unusual words in this text, many of which are not in use any more. For example, the words thou and thee show up very frequently. Due to the text being translated from its original old Italian, it contains some unique loan words, as well as many unfamiliar names of people and places. \n",
    "\n",
    "The RegExpTokenizer splits a string using a regular expression, which matches either the tokens or the separators between tokens, meaning it can tokenise simply and without extra steps. I like this tokenizer as it is very customisable, and can easily handle alphabetic sequences, abbreviations, money expressions, and punctuation marks."
   ]
  },
  {
   "cell_type": "markdown",
   "metadata": {},
   "source": [
    "## Question 7 (15 points)\n",
    "\n",
    "Do some self-learning: implement the same pipeline of question 6 using [spaCy pipelines](https://spacy.io/usage/processing-pipelines)."
   ]
  },
  {
   "cell_type": "code",
   "execution_count": 303,
   "metadata": {
    "scrolled": false
   },
   "outputs": [
    {
     "data": {
      "text/html": [
       "<div>\n",
       "<style scoped>\n",
       "    .dataframe tbody tr th:only-of-type {\n",
       "        vertical-align: middle;\n",
       "    }\n",
       "\n",
       "    .dataframe tbody tr th {\n",
       "        vertical-align: top;\n",
       "    }\n",
       "\n",
       "    .dataframe thead th {\n",
       "        text-align: right;\n",
       "    }\n",
       "</style>\n",
       "<table border=\"1\" class=\"dataframe\">\n",
       "  <thead>\n",
       "    <tr style=\"text-align: right;\">\n",
       "      <th></th>\n",
       "      <th>frequency</th>\n",
       "    </tr>\n",
       "  </thead>\n",
       "  <tbody>\n",
       "    <tr>\n",
       "      <th>that</th>\n",
       "      <td>647</td>\n",
       "    </tr>\n",
       "    <tr>\n",
       "      <th>thou</th>\n",
       "      <td>387</td>\n",
       "    </tr>\n",
       "    <tr>\n",
       "      <th>with</th>\n",
       "      <td>380</td>\n",
       "    </tr>\n",
       "    <tr>\n",
       "      <th>which</th>\n",
       "      <td>303</td>\n",
       "    </tr>\n",
       "    <tr>\n",
       "      <th>from</th>\n",
       "      <td>283</td>\n",
       "    </tr>\n",
       "    <tr>\n",
       "      <th>...</th>\n",
       "      <td>...</td>\n",
       "    </tr>\n",
       "    <tr>\n",
       "      <th>deadens</th>\n",
       "      <td>1</td>\n",
       "    </tr>\n",
       "    <tr>\n",
       "      <th>pure</th>\n",
       "      <td>1</td>\n",
       "    </tr>\n",
       "    <tr>\n",
       "      <th>outworn</th>\n",
       "      <td>1</td>\n",
       "    </tr>\n",
       "    <tr>\n",
       "      <th>whilom</th>\n",
       "      <td>1</td>\n",
       "    </tr>\n",
       "    <tr>\n",
       "      <th>u.s.a</th>\n",
       "      <td>1</td>\n",
       "    </tr>\n",
       "  </tbody>\n",
       "</table>\n",
       "<p>4870 rows × 1 columns</p>\n",
       "</div>"
      ],
      "text/plain": [
       "         frequency\n",
       "that           647\n",
       "thou           387\n",
       "with           380\n",
       "which          303\n",
       "from           283\n",
       "...            ...\n",
       "deadens          1\n",
       "pure             1\n",
       "outworn          1\n",
       "whilom           1\n",
       "u.s.a            1\n",
       "\n",
       "[4870 rows x 1 columns]"
      ]
     },
     "metadata": {},
     "output_type": "display_data"
    }
   ],
   "source": [
    "# your code here\n",
    "\n",
    "import spacy\n",
    "from collections import Counter\n",
    "\n",
    "nlp = spacy.load(\"en_core_web_sm\")\n",
    "\n",
    "file = open(\"data/inferno.txt\", \"r\", encoding='utf-8')\n",
    "raw = file.read()\n",
    "file.close()\n",
    "\n",
    "doc = nlp(raw.lower())\n",
    "\n",
    "words = [token.text\n",
    "         for token in doc\n",
    "         if len(token) >= 4 and not token.is_punct]\n",
    "\n",
    "words = [ word for word in words if word not in [\"current\", \"page\", \"edition\"] ]\n",
    "\n",
    "freq = Counter(words)\n",
    "\n",
    "df = pd.DataFrame.from_dict(freq, orient=\"index\", columns=[\"frequency\"])\n",
    "df = df.sort_values(by=\"frequency\", ascending=False)\n",
    "\n",
    "df.to_csv(\"spacywordfreq.csv\")\n",
    "\n",
    "display(df)"
   ]
  },
  {
   "cell_type": "markdown",
   "metadata": {},
   "source": [
    "---"
   ]
  },
  {
   "cell_type": "markdown",
   "metadata": {},
   "source": [
    "# Text similarity (25 points)"
   ]
  },
  {
   "cell_type": "markdown",
   "metadata": {},
   "source": [
    "## Question 8 (25 points)\n",
    "\n",
    "The **Levenshtein Distance** (see [Wikipedia](https://en.wikipedia.org/wiki/Levenshtein_distance) and J&M, Ch. 2.5) calculates the distance between two strings as the number of deletions, insertions, or substitutions required to transform one into the other. This is also called edit distance. **Write a reasonably efficient function to calculate this metric**.\n",
    "\n",
    "Examples: \n",
    "\n",
    "* `levenshtein(\" Hello \", \"hello\")` returns 3 (case sensitive)\n",
    "* `levenshtein(\"aeiou\", \"aeiouuu\")` returns 2\n",
    "\n",
    "Remarks:\n",
    "\n",
    "- **Important:** a (naive) recursive implementation is going to be very slow, so one way to ensure the function is efficient is by making it *iterative*. That said, there are also ways to speed up a recursive implementation. In the end, how you implement it is up to you, as long as it works.\n",
    "\n",
    "\n",
    "- The Wikipedia article discusses the difference between a (slow) recursive strategy and a (fast) iterative one.\n",
    "\n",
    "\n",
    "- Test your function with `%timeit` on two words with a high distance, e.g. \"levenshteindistance\" vs. \"ecnatsidniethsnevel\". If your function takes seconds to compute the distance, it's too slow. A moderately fast iterative function finishes in 100-200 ns on my computer.\n",
    "\n",
    "\n",
    "- This exercise only consists of writing a single function, so the threshold for **code originality** is higher here than in other exercises. The code for this exercise must be your own. If I find the code submitted to this exercise somewhere online (even with small changes like new variable names) it will be graded 0 points. Submitting a slow function that you wrote yourself is better than submitting a fast, but copied function.\n",
    "\n",
    "\n",
    "- Carefully comment your code in order to explain what your function is doing. **In this case, uncommented code will not be graded at all**."
   ]
  },
  {
   "cell_type": "code",
   "execution_count": 296,
   "metadata": {},
   "outputs": [
    {
     "name": "stdout",
     "output_type": "stream",
     "text": [
      "14\n",
      "190 µs ± 71.9 µs per loop (mean ± std. dev. of 7 runs, 10000 loops each)\n"
     ]
    }
   ],
   "source": [
    "# naive approach\n",
    "\n",
    "# % pip install pyenchant\n",
    "\n",
    "from enchant.utils import levenshtein\n",
    "\n",
    "s1 = \"levenshteindistance\"\n",
    "s2 = \"ecnatsidniethsnevel\"\n",
    "\n",
    "print(levenshtein(s1,s2))\n",
    "\n",
    "%timeit levenshtein(s1,s2)"
   ]
  },
  {
   "cell_type": "markdown",
   "metadata": {},
   "source": [
    "My first thought was to import a library with an already-written function, in order to get a feel for how it works and how fast it should be running"
   ]
  },
  {
   "cell_type": "code",
   "execution_count": 137,
   "metadata": {},
   "outputs": [
    {
     "data": {
      "text/plain": [
       "4"
      ]
     },
     "execution_count": 137,
     "metadata": {},
     "output_type": "execute_result"
    }
   ],
   "source": [
    "def levenshtein(a, b):\n",
    "    if not a: return len(b)\n",
    "    if not b: return len(a)\n",
    "    return min(levenshtein(a[1:], b[1:])+(a[0] != b[0]),\n",
    "               levenshtein(a[1:], b)+1,\n",
    "               levenshtein(a, b[1:])+1)\n",
    "    \n",
    "levenshtein(\"cat\",\"cello\")"
   ]
  },
  {
   "cell_type": "markdown",
   "metadata": {},
   "source": [
    "Above is a recursive function which I found [here](https://blog.finxter.com/how-to-calculate-the-levenshtein-distance-in-python/).\n",
    "As assumed, it works well for short distances, but takes expoentially longer for longer ones. I didn't have the patience to let it run for anything with a distance greater than 10. I will definitely be using an iterative method for my implementation."
   ]
  },
  {
   "cell_type": "code",
   "execution_count": 293,
   "metadata": {},
   "outputs": [
    {
     "name": "stdout",
     "output_type": "stream",
     "text": [
      "The Levenshtein Distance between 'levenshteindistance' and 'ecnatsidniethsnevel' is 14\n",
      "\n",
      "268 µs ± 11.5 µs per loop (mean ± std. dev. of 7 runs, 1000 loops each)\n"
     ]
    }
   ],
   "source": [
    "def initmatrix(l1, l2):\n",
    "    \"Initialises a 2D zero matrix in which column 0 has values range(len1) and row 0 has values range(len2)\"\n",
    "    \n",
    "    mx = [] # new variable to store a 2D array (matrix)\n",
    "    \n",
    "    # set all values in matrix to 0\n",
    "    for i in range(l1):\n",
    "        mx.append([0] * l2) \n",
    "        \n",
    "    # set column 0 to be range(l1)\n",
    "    for i in range(l1):\n",
    "        mx[i][0] = i\n",
    "      \n",
    "    # set row 0 to be range(l2)\n",
    "    for j in range(l2):\n",
    "        mx[0][j] = j\n",
    "        \n",
    "    return mx\n",
    "\n",
    "\n",
    "def replace(mx, i, j, s1, s2):\n",
    "    \"Chooses minimum distance operation for a character from each string and sets it as the value in that position of the matrix\"\n",
    "    \n",
    "    # deletion\n",
    "    a = mx[i - 1][j] + 1\n",
    "    \n",
    "    # insertion\n",
    "    b = mx[i][j - 1] + 1\n",
    "    \n",
    "    # substitution\n",
    "    c = mx[i - 1][j - 1] + (s1[i - 1] != s2[j - 1]) # True == 1, False == 0\n",
    "    \n",
    "    # choose minimum value and assign to position ij\n",
    "    mx[i][j] = min(a, b, c)\n",
    "    \n",
    "    \n",
    "def lev(s1,s2):\n",
    "    \"Calculates the Levenshtein distance between strings s1 and s2 by iteration\"\n",
    "    \n",
    "    # set up variables\n",
    "    l1 = len(s1)\n",
    "    l2 = len(s2)\n",
    "    \n",
    "    # initialise matrix\n",
    "    mx = initmatrix(l1 + 1, l2 + 1)\n",
    "\n",
    "    # iterate over the matrix and replace values\n",
    "    for i in range(l1):\n",
    "        for j in range(l2):\n",
    "            replace(mx, i + 1, j + 1, s1, s2)\n",
    "            \n",
    "    return mx[l1][l2]\n",
    "\n",
    "\n",
    "s1 = \"levenshteindistance\"\n",
    "s2 = \"ecnatsidniethsnevel\"\n",
    "\n",
    "print(f\"The Levenshtein Distance between '{s1}' and '{s2}' is {lev(s1,s2)}\\n\")\n",
    "%timeit lev(s1,s2)"
   ]
  },
  {
   "cell_type": "markdown",
   "metadata": {},
   "source": [
    "## Comments and Analysis\n",
    "\n",
    "This code takes some inspiration from the pseudocode of the Iterative Implementation with a Full Matrix from the Wikipedia page on the [Levenshtein Distance](https://en.wikipedia.org/wiki/Levenshtein_distance), in particular the formulas for insertion, deletion, and substitution within the matrix, which cannot be changed in a meaningful way while remaining efficient.\n",
    "\n",
    "This implementation computes the Levenshtein Distance based on the Wagner-Fischer model, which is an alogrithm that initialises a matrix to hold each edit distance between all prefixes of two strings, and thus the distance between the two full strings will simply be the last value computed\n",
    "\n",
    "I decided to break up the steps of the function, in particular the initialisation of the matrix, and the operations for replacing values within it, in order to keep the code more well organised, and to make the final function more readable."
   ]
  },
  {
   "cell_type": "code",
   "execution_count": 132,
   "metadata": {
    "scrolled": true
   },
   "outputs": [
    {
     "data": {
      "text/plain": [
       "[[0, 1, 2, 3, 4, 5, 6, 7],\n",
       " [1, 0, 0, 0, 0, 0, 0, 0],\n",
       " [2, 0, 0, 0, 0, 0, 0, 0],\n",
       " [3, 0, 0, 0, 0, 0, 0, 0],\n",
       " [4, 0, 0, 0, 0, 0, 0, 0],\n",
       " [5, 0, 0, 0, 0, 0, 0, 0],\n",
       " [6, 0, 0, 0, 0, 0, 0, 0],\n",
       " [7, 0, 0, 0, 0, 0, 0, 0],\n",
       " [8, 0, 0, 0, 0, 0, 0, 0],\n",
       " [9, 0, 0, 0, 0, 0, 0, 0]]"
      ]
     },
     "execution_count": 132,
     "metadata": {},
     "output_type": "execute_result"
    }
   ],
   "source": [
    "initmatrix(10,8)"
   ]
  }
 ],
 "metadata": {
  "kernelspec": {
   "display_name": "Python 3 (ipykernel)",
   "language": "python",
   "name": "python3"
  },
  "language_info": {
   "codemirror_mode": {
    "name": "ipython",
    "version": 3
   },
   "file_extension": ".py",
   "mimetype": "text/x-python",
   "name": "python",
   "nbconvert_exporter": "python",
   "pygments_lexer": "ipython3",
   "version": "3.8.5"
  },
  "toc": {
   "base_numbering": 1,
   "nav_menu": {},
   "number_sections": true,
   "sideBar": true,
   "skip_h1_title": false,
   "title_cell": "Table of Contents",
   "title_sidebar": "Contents",
   "toc_cell": false,
   "toc_position": {},
   "toc_section_display": true,
   "toc_window_display": true
  }
 },
 "nbformat": 4,
 "nbformat_minor": 2
}
