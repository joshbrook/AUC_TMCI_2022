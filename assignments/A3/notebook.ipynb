{
 "cells": [
  {
   "cell_type": "markdown",
   "metadata": {
    "id": "AQzYGMVl4-1n"
   },
   "source": [
    "# Assignment 3"
   ]
  },
  {
   "cell_type": "markdown",
   "metadata": {
    "id": "Dloey_mk4-1q"
   },
   "source": [
    "## Guidelines\n",
    "\n",
    "> Remember to add an explanation of what you do using markdown, and to comment your code. Please *be brief*.\n",
    ">\n",
    "> If you re-use a substantial portion of code you find online, e.g on Stackoverflow, you need to add a link to it and make the borrowing explicit. The same applies of you take it and modify it, even substantially. There is nothing bad in doing that, providing you are acknowledging it and make it clear you know what you're doing.\n",
    ">\n",
    "> Make sure your notebooks have been run when you sumit, as I won't run them myself. Submit both the `.ipynb` file along with an `.html` export of the same. Submit all necessary auxilliary files as well. Please compress your submission into a `.zip` archive. Only `.zip` files can be submitted."
   ]
  },
  {
   "cell_type": "markdown",
   "metadata": {
    "id": "zfy-TozC4-1s"
   },
   "source": [
    "## Grading policy\n",
    "> As follows:\n",
    ">\n",
    "> * 80 points for correctly completing the assignment.\n",
    ">\n",
    "> * 20 points for appropriately writing and organizing your code in terms of structure, readibility (also by humans), comments and minimal documentation. It is important to be concise but also to explain what you did and why, when not obvious.\n",
    "> \n",
    "> Note that there are no extras for this assignment, as all 100 points are accrued via questions. \n",
    "\n",
    "**The AUC code of conduct applies to this assignment: please only submit your own work.**"
   ]
  },
  {
   "cell_type": "markdown",
   "metadata": {
    "id": "qRnI9EF74-1t"
   },
   "source": [
    "---"
   ]
  },
  {
   "cell_type": "markdown",
   "metadata": {
    "id": "MmAFtiS14-1u"
   },
   "source": [
    "# Introduction\n",
    "\n",
    "In this assignment, you will build and compare classifiers for measuring the **sentiment of tweets related to COVID-19**.\n",
    "\n",
    "The dataset you will work with is [publicly available in Kaggle](https://www.kaggle.com/datatattle/covid-19-nlp-text-classification) (and attached to the assignment for your convenience). Make sure to check its minimal Kaggle documentation before starting.\n",
    "\n",
    "This is a real dataset, and therefore messy. It is possible that you won't achieve great results on the classification task with your classifier. That is normal, don't worry about it! You also may find text encoding issues with this dataset. Try to find a simple solution to this problem, I don't think there is an easy way to fix it completely for these files.\n",
    "\n",
    "*Please note: this dataset should not but might contain content which could be considered as offensive.*"
   ]
  },
  {
   "cell_type": "markdown",
   "metadata": {
    "id": "Rv4avAae4-1v"
   },
   "source": [
    "---"
   ]
  },
  {
   "cell_type": "markdown",
   "metadata": {
    "id": "TTwyDa3M4-1v"
   },
   "source": [
    "# Skeleton pipeline (25 points)"
   ]
  },
  {
   "cell_type": "markdown",
   "metadata": {
    "id": "nXgFtpSY4-1x"
   },
   "source": [
    "## Question 1 (10 points)\n",
    "\n",
    "Your dataset contains tweets, including handlers, hashtags, URLs, etc. Set-up a **minimal pre-processing pipeline** for them (focus on the `OriginalTweet` column), possibly including:\n",
    "\n",
    "* Tokenization\n",
    "* Filtering\n",
    "* Lemmatization/Stemming\n",
    "\n",
    "Please note that what to include is up to you, motivate your choices and remember that more is not necessarily better: if you are not sure why you are doing something, it might be better not to. Feel free to use NLTK, spaCy or anything else you like here."
   ]
  },
  {
   "cell_type": "code",
   "execution_count": 1,
   "metadata": {
    "id": "x0DzGcra4-1x"
   },
   "outputs": [],
   "source": [
    "import pandas as pd"
   ]
  },
  {
   "cell_type": "code",
   "execution_count": 6,
   "metadata": {
    "id": "WZ2OPwtS4-10"
   },
   "outputs": [],
   "source": [
    "df_train = pd.read_csv(\"data/Corona_NLP_train.csv\", encoding='ISO-8859-1')"
   ]
  },
  {
   "cell_type": "code",
   "execution_count": 7,
   "metadata": {
    "id": "NX9JD8-64-11",
    "outputId": "364b106d-3110-4615-9d22-64c418544405"
   },
   "outputs": [
    {
     "data": {
      "text/html": [
       "<div>\n",
       "<style scoped>\n",
       "    .dataframe tbody tr th:only-of-type {\n",
       "        vertical-align: middle;\n",
       "    }\n",
       "\n",
       "    .dataframe tbody tr th {\n",
       "        vertical-align: top;\n",
       "    }\n",
       "\n",
       "    .dataframe thead th {\n",
       "        text-align: right;\n",
       "    }\n",
       "</style>\n",
       "<table border=\"1\" class=\"dataframe\">\n",
       "  <thead>\n",
       "    <tr style=\"text-align: right;\">\n",
       "      <th></th>\n",
       "      <th>UserName</th>\n",
       "      <th>ScreenName</th>\n",
       "      <th>Location</th>\n",
       "      <th>TweetAt</th>\n",
       "      <th>OriginalTweet</th>\n",
       "      <th>Sentiment</th>\n",
       "    </tr>\n",
       "  </thead>\n",
       "  <tbody>\n",
       "    <tr>\n",
       "      <th>0</th>\n",
       "      <td>3799</td>\n",
       "      <td>48751</td>\n",
       "      <td>London</td>\n",
       "      <td>16-03-2020</td>\n",
       "      <td>@MeNyrbie @Phil_Gahan @Chrisitv https://t.co/i...</td>\n",
       "      <td>Neutral</td>\n",
       "    </tr>\n",
       "    <tr>\n",
       "      <th>1</th>\n",
       "      <td>3800</td>\n",
       "      <td>48752</td>\n",
       "      <td>UK</td>\n",
       "      <td>16-03-2020</td>\n",
       "      <td>advice Talk to your neighbours family to excha...</td>\n",
       "      <td>Positive</td>\n",
       "    </tr>\n",
       "    <tr>\n",
       "      <th>2</th>\n",
       "      <td>3801</td>\n",
       "      <td>48753</td>\n",
       "      <td>Vagabonds</td>\n",
       "      <td>16-03-2020</td>\n",
       "      <td>Coronavirus Australia: Woolworths to give elde...</td>\n",
       "      <td>Positive</td>\n",
       "    </tr>\n",
       "    <tr>\n",
       "      <th>3</th>\n",
       "      <td>3802</td>\n",
       "      <td>48754</td>\n",
       "      <td>NaN</td>\n",
       "      <td>16-03-2020</td>\n",
       "      <td>My food stock is not the only one which is emp...</td>\n",
       "      <td>Positive</td>\n",
       "    </tr>\n",
       "    <tr>\n",
       "      <th>4</th>\n",
       "      <td>3803</td>\n",
       "      <td>48755</td>\n",
       "      <td>NaN</td>\n",
       "      <td>16-03-2020</td>\n",
       "      <td>Me, ready to go at supermarket during the #COV...</td>\n",
       "      <td>Extremely Negative</td>\n",
       "    </tr>\n",
       "  </tbody>\n",
       "</table>\n",
       "</div>"
      ],
      "text/plain": [
       "   UserName  ScreenName   Location     TweetAt  \\\n",
       "0      3799       48751     London  16-03-2020   \n",
       "1      3800       48752         UK  16-03-2020   \n",
       "2      3801       48753  Vagabonds  16-03-2020   \n",
       "3      3802       48754        NaN  16-03-2020   \n",
       "4      3803       48755        NaN  16-03-2020   \n",
       "\n",
       "                                       OriginalTweet           Sentiment  \n",
       "0  @MeNyrbie @Phil_Gahan @Chrisitv https://t.co/i...             Neutral  \n",
       "1  advice Talk to your neighbours family to excha...            Positive  \n",
       "2  Coronavirus Australia: Woolworths to give elde...            Positive  \n",
       "3  My food stock is not the only one which is emp...            Positive  \n",
       "4  Me, ready to go at supermarket during the #COV...  Extremely Negative  "
      ]
     },
     "execution_count": 7,
     "metadata": {},
     "output_type": "execute_result"
    }
   ],
   "source": [
    "df_train.head()"
   ]
  },
  {
   "cell_type": "markdown",
   "metadata": {
    "id": "jcGyC86g4-13"
   },
   "source": [
    "*Note: we only really use the `OriginalTweet` and `Sentiment` columns for this assignment.*"
   ]
  },
  {
   "cell_type": "code",
   "execution_count": 93,
   "metadata": {
    "id": "AbGfZgBN4-14"
   },
   "outputs": [
    {
     "data": {
      "text/plain": [
       "([('coronavirus', 'NN'),\n",
       "  ('australia:', 'VBZ'),\n",
       "  ('woolworths', 'NNS'),\n",
       "  ('to', 'TO'),\n",
       "  ('give', 'VB'),\n",
       "  ('elderly,', 'NN'),\n",
       "  ('disabled', 'VBN'),\n",
       "  ('dedicated', 'VBD'),\n",
       "  ('shopping', 'NN'),\n",
       "  ('hours', 'NNS'),\n",
       "  ('amid', 'IN'),\n",
       "  ('covid-19', 'JJ'),\n",
       "  ('outbreak', 'NN')],\n",
       " 'Positive')"
      ]
     },
     "execution_count": 93,
     "metadata": {},
     "output_type": "execute_result"
    }
   ],
   "source": [
    "# your code here\n",
    "\n",
    "# % pip install PyDictionary\n",
    "\n",
    "import nltk\n",
    "from nltk.stem import WordNetLemmatizer\n",
    "from nltk.tokenize import RegexpTokenizer\n",
    "\n",
    "tweets = list(zip(df_train[\"OriginalTweet\"], df_train[\"Sentiment\"]))\n",
    "\n",
    "regextk = RegexpTokenizer('\\s+', gaps=True)\n",
    "\n",
    "tokens = [(regextk.tokenize(tweet), sentiment) for tweet, sentiment in tweets]\n",
    "\n",
    "filtered_tweets = []\n",
    "for tweet in tokens:\n",
    "    newtweet = []\n",
    "    for word in tweet[0]:\n",
    "        # dropping @-tags and links\n",
    "        if not ('@' in word or 'https' in word):\n",
    "            newtweet.append(word.lower())\n",
    "    \n",
    "    # dropping tweets with less than 5 words\n",
    "    if len(newtweet) > 5:\n",
    "        filtered_tweets.append((newtweet, tweet[1]))\n",
    "\n",
    "tagged = [(nltk.pos_tag(tweet), sentiment) for tweet, sentiment in filtered_tweets]\n",
    "\n",
    "tagged[1]"
   ]
  },
  {
   "cell_type": "code",
   "execution_count": 94,
   "metadata": {},
   "outputs": [
    {
     "data": {
      "text/plain": [
       "(['coronavirus',\n",
       "  'australia',\n",
       "  'woolworth',\n",
       "  'give',\n",
       "  'elderly',\n",
       "  'disable',\n",
       "  'dedicate',\n",
       "  'shopping',\n",
       "  'hour',\n",
       "  'covid-19',\n",
       "  'outbreak'],\n",
       " 'Positive')"
      ]
     },
     "execution_count": 94,
     "metadata": {},
     "output_type": "execute_result"
    }
   ],
   "source": [
    "import string\n",
    "from nltk.corpus import wordnet as wn\n",
    "\n",
    "def wn_pos(tag):\n",
    "    \"converts treebank tags into wordbank tags for lemmatization\"\n",
    "    if tag.startswith('J'):\n",
    "        return wn.ADJ\n",
    "    if tag.startswith('V'):\n",
    "        return wn.VERB\n",
    "    if tag.startswith('N'):\n",
    "        return wn.NOUN\n",
    "    if tag.startswith('R'):\n",
    "        return wn.ADV\n",
    "    return None\n",
    "\n",
    "lem_tweets = []\n",
    "lem = WordNetLemmatizer()\n",
    "\n",
    "for tweet in tagged:\n",
    "    lemmas = []\n",
    "    \n",
    "    for word, tag in tweet[0]:\n",
    "        wn_tag = wn_pos(tag)\n",
    "        \n",
    "        if word[-1] in string.punctuation:\n",
    "                word = word[:-1]\n",
    "    \n",
    "        # drop non-tagged words\n",
    "        if wn_pos(tag) is not None:\n",
    "            # append lemmatized word to list using PoS tag for more accurate lemmatization\n",
    "            lemmas.append(lem.lemmatize(word, wn_tag))\n",
    "                \n",
    "    lem_tweets.append((lemmas, tweet[1]))\n",
    "\n",
    "lemmas = [lem for tweet in lem_tweets for lem in tweet]\n",
    "\n",
    "lem_tweets[1]"
   ]
  },
  {
   "cell_type": "code",
   "execution_count": 98,
   "metadata": {},
   "outputs": [
    {
     "data": {
      "text/html": [
       "<div>\n",
       "<style scoped>\n",
       "    .dataframe tbody tr th:only-of-type {\n",
       "        vertical-align: middle;\n",
       "    }\n",
       "\n",
       "    .dataframe tbody tr th {\n",
       "        vertical-align: top;\n",
       "    }\n",
       "\n",
       "    .dataframe thead th {\n",
       "        text-align: right;\n",
       "    }\n",
       "</style>\n",
       "<table border=\"1\" class=\"dataframe\">\n",
       "  <thead>\n",
       "    <tr style=\"text-align: right;\">\n",
       "      <th></th>\n",
       "      <th>Tweet</th>\n",
       "      <th>Sentiment</th>\n",
       "    </tr>\n",
       "  </thead>\n",
       "  <tbody>\n",
       "    <tr>\n",
       "      <th>22676</th>\n",
       "      <td>dollar #saraimrieart #covid_19 #coronavirus #t...</td>\n",
       "      <td>Neutral</td>\n",
       "    </tr>\n",
       "    <tr>\n",
       "      <th>1132</th>\n",
       "      <td>y'all this one ever look down grocery store wo...</td>\n",
       "      <td>Positive</td>\n",
       "    </tr>\n",
       "    <tr>\n",
       "      <th>38402</th>\n",
       "      <td>i haven t fill tank week russia need do bc low...</td>\n",
       "      <td>Extremely Negative</td>\n",
       "    </tr>\n",
       "    <tr>\n",
       "      <th>36931</th>\n",
       "      <td>sanitizer italy wuhan grocery join</td>\n",
       "      <td>Positive</td>\n",
       "    </tr>\n",
       "    <tr>\n",
       "      <th>6446</th>\n",
       "      <td>new report deloitte #china chain store &amp;amp fr...</td>\n",
       "      <td>Negative</td>\n",
       "    </tr>\n",
       "  </tbody>\n",
       "</table>\n",
       "</div>"
      ],
      "text/plain": [
       "                                                   Tweet           Sentiment\n",
       "22676  dollar #saraimrieart #covid_19 #coronavirus #t...             Neutral\n",
       "1132   y'all this one ever look down grocery store wo...            Positive\n",
       "38402  i haven t fill tank week russia need do bc low...  Extremely Negative\n",
       "36931                 sanitizer italy wuhan grocery join            Positive\n",
       "6446   new report deloitte #china chain store &amp fr...            Negative"
      ]
     },
     "execution_count": 98,
     "metadata": {},
     "output_type": "execute_result"
    }
   ],
   "source": [
    "joined_lem_tweets = []\n",
    "for tweet in lem_tweets:\n",
    "    joined_lem_tweets.append((\" \".join(tweet[0]), tweet[1]))\n",
    "    \n",
    "lem_df = pd.DataFrame(joined_lem_tweets, columns=[\"Tweet\", \"Sentiment\"])\n",
    "lem_df.sample(5)"
   ]
  },
  {
   "cell_type": "markdown",
   "metadata": {
    "id": "eeR26J-N4-15"
   },
   "source": [
    "---"
   ]
  },
  {
   "cell_type": "markdown",
   "metadata": {
    "id": "JyDE26-i4-15"
   },
   "source": [
    "## Question 2 (5 points)\n",
    "\n",
    "**Split your data into a train and a validation set**. You can use 85% for training and 15% for validation, or similar proportions. Remember to shuffle your data before splitting, specifying a seed to be able to replicate your results."
   ]
  },
  {
   "cell_type": "code",
   "execution_count": 178,
   "metadata": {
    "id": "9vWDVkRB4-16"
   },
   "outputs": [],
   "source": [
    "# your code here\n",
    "\n",
    "from sklearn.model_selection import train_test_split\n",
    "\n",
    "seed = 69\n",
    "\n",
    "train = lem_df.sample(frac=.85, random_state=seed)\n",
    "\n",
    "val = lem_df.drop(train.index)"
   ]
  },
  {
   "cell_type": "markdown",
   "metadata": {
    "id": "QpfNtdX04-16"
   },
   "source": [
    "---"
   ]
  },
  {
   "cell_type": "markdown",
   "metadata": {
    "id": "I328Auig4-17"
   },
   "source": [
    "## Question 3 (10 points)\n",
    "\n",
    "Write a function which, given as input a set of predictions and a set of ground truth labels, prints out a **classification report** including:\n",
    "* Name of the method\n",
    "* Accuracy\n",
    "* Precision, recall and F1 measure\n",
    "* An example of a correctly classified datapoint\n",
    "* An example of a wrongly classified datapoint"
   ]
  },
  {
   "cell_type": "code",
   "execution_count": 224,
   "metadata": {
    "id": "uGTHtBPu4-18"
   },
   "outputs": [],
   "source": [
    "# your code here\n",
    "\n",
    "from sklearn.metrics import precision_score, recall_score, f1_score\n",
    "\n",
    "def class_report(clf, preds, truths, df):\n",
    "    print(\"Method:\", clf)\n",
    "    print(\"Accuracy:\", np.mean(preds == truths))\n",
    "    print(\"Precision:\", precision_score(preds, truths, average=\"weighted\"))\n",
    "    print(\"Recall:\", recall_score(preds, truths, average=\"weighted\"))\n",
    "    print(\"F1 Score:\", f1_score(preds, truths, average=\"weighted\"))\n",
    "    \n",
    "    correct = \n",
    "    print(\"Correctly classified tweet:\", )"
   ]
  },
  {
   "cell_type": "markdown",
   "metadata": {
    "id": "PZG3nFTa4-18"
   },
   "source": [
    "---"
   ]
  },
  {
   "cell_type": "markdown",
   "metadata": {
    "id": "YwLrjSBV4-18"
   },
   "source": [
    "# Classifying (55 points)"
   ]
  },
  {
   "cell_type": "markdown",
   "metadata": {
    "id": "n_gI9lIS4-19"
   },
   "source": [
    "## Question 4 (15 points)\n",
    "\n",
    "An important first step when dealing with a real-world task is establishing a **solid baseline**. The baseline allows to a) develop the first full pipeline for your task, and b) to have something to compare against when you develop more advanced models.\n",
    "\n",
    "Pick a method to use as a baseline. *A good option might be a TF-IDF Logistic Regression*. Feel free to use scikit-learn or another library of choice. See [here](https://scikit-learn.org/stable/supervised_learning.html#supervised-learning) for more options.\n",
    "\n",
    "Use your classification report function and the validation set to report on the performance of your baseline. *Pay attention: the validation data only needs to be transformed, and must not be used to fit any transformation. For example, if you have used a TF-IDF vectorizer by fitting it to your train data and then transformed it, use the same fitted vectorizer to transform your validation data.*"
   ]
  },
  {
   "cell_type": "code",
   "execution_count": 177,
   "metadata": {
    "id": "DOyDJ8494-1-"
   },
   "outputs": [],
   "source": [
    "# your code here\n",
    "\n",
    "from sklearn.feature_extraction.text import TfidfTransformer, CountVectorizer\n",
    "\n",
    "count = CountVectorizer()\n",
    "train_counts = count.fit_transform(train[\"Tweet\"])\n",
    "\n",
    "tfidf_transformer = TfidfTransformer()\n",
    "train_tfidf = tfidf_transformer.fit_transform(train_counts)"
   ]
  },
  {
   "cell_type": "code",
   "execution_count": 227,
   "metadata": {},
   "outputs": [
    {
     "data": {
      "text/html": [
       "<div>\n",
       "<style scoped>\n",
       "    .dataframe tbody tr th:only-of-type {\n",
       "        vertical-align: middle;\n",
       "    }\n",
       "\n",
       "    .dataframe tbody tr th {\n",
       "        vertical-align: top;\n",
       "    }\n",
       "\n",
       "    .dataframe thead th {\n",
       "        text-align: right;\n",
       "    }\n",
       "</style>\n",
       "<table border=\"1\" class=\"dataframe\">\n",
       "  <thead>\n",
       "    <tr style=\"text-align: right;\">\n",
       "      <th></th>\n",
       "      <th>Tweet</th>\n",
       "      <th>Predicted</th>\n",
       "      <th>Actual</th>\n",
       "    </tr>\n",
       "  </thead>\n",
       "  <tbody>\n",
       "    <tr>\n",
       "      <th>0</th>\n",
       "      <td>advice talk neighbour family exchange phone nu...</td>\n",
       "      <td>Positive</td>\n",
       "      <td>Positive</td>\n",
       "    </tr>\n",
       "    <tr>\n",
       "      <th>1</th>\n",
       "      <td>coronavirus australia woolworth give elderly d...</td>\n",
       "      <td>Positive</td>\n",
       "      <td>Positive</td>\n",
       "    </tr>\n",
       "    <tr>\n",
       "      <th>2</th>\n",
       "      <td>food stock be not only be empty.. please don't...</td>\n",
       "      <td>Positive</td>\n",
       "      <td>Positive</td>\n",
       "    </tr>\n",
       "    <tr>\n",
       "      <th>3</th>\n",
       "      <td>me ready go supermarket #covid19 not i'm paran...</td>\n",
       "      <td>Positive</td>\n",
       "      <td>Extremely Negative</td>\n",
       "    </tr>\n",
       "    <tr>\n",
       "      <th>4</th>\n",
       "      <td>news regionâs first confirm covid-19 case com...</td>\n",
       "      <td>Positive</td>\n",
       "      <td>Positive</td>\n",
       "    </tr>\n",
       "    <tr>\n",
       "      <th>...</th>\n",
       "      <td>...</td>\n",
       "      <td>...</td>\n",
       "      <td>...</td>\n",
       "    </tr>\n",
       "    <tr>\n",
       "      <th>6121</th>\n",
       "      <td>food system amp food supply be be test situati...</td>\n",
       "      <td>Negative</td>\n",
       "      <td>Extremely Positive</td>\n",
       "    </tr>\n",
       "    <tr>\n",
       "      <th>6122</th>\n",
       "      <td>work #consumergoods be #coronavirus affect bus...</td>\n",
       "      <td>Positive</td>\n",
       "      <td>Positive</td>\n",
       "    </tr>\n",
       "    <tr>\n",
       "      <th>6123</th>\n",
       "      <td>u.s covid sniper strange american italy covid-...</td>\n",
       "      <td>Positive</td>\n",
       "      <td>Negative</td>\n",
       "    </tr>\n",
       "    <tr>\n",
       "      <th>6124</th>\n",
       "      <td>? consumer india's major city be rush stock up...</td>\n",
       "      <td>Positive</td>\n",
       "      <td>Negative</td>\n",
       "    </tr>\n",
       "    <tr>\n",
       "      <th>6125</th>\n",
       "      <td>not sound pessimistic measure covid-19 nigeria...</td>\n",
       "      <td>Positive</td>\n",
       "      <td>Extremely Negative</td>\n",
       "    </tr>\n",
       "  </tbody>\n",
       "</table>\n",
       "<p>6126 rows × 3 columns</p>\n",
       "</div>"
      ],
      "text/plain": [
       "                                                  Tweet Predicted  \\\n",
       "0     advice talk neighbour family exchange phone nu...  Positive   \n",
       "1     coronavirus australia woolworth give elderly d...  Positive   \n",
       "2     food stock be not only be empty.. please don't...  Positive   \n",
       "3     me ready go supermarket #covid19 not i'm paran...  Positive   \n",
       "4     news regionâs first confirm covid-19 case com...  Positive   \n",
       "...                                                 ...       ...   \n",
       "6121  food system amp food supply be be test situati...  Negative   \n",
       "6122  work #consumergoods be #coronavirus affect bus...  Positive   \n",
       "6123  u.s covid sniper strange american italy covid-...  Positive   \n",
       "6124  ? consumer india's major city be rush stock up...  Positive   \n",
       "6125  not sound pessimistic measure covid-19 nigeria...  Positive   \n",
       "\n",
       "                  Actual  \n",
       "0               Positive  \n",
       "1               Positive  \n",
       "2               Positive  \n",
       "3     Extremely Negative  \n",
       "4               Positive  \n",
       "...                  ...  \n",
       "6121  Extremely Positive  \n",
       "6122            Positive  \n",
       "6123            Negative  \n",
       "6124            Negative  \n",
       "6125  Extremely Negative  \n",
       "\n",
       "[6126 rows x 3 columns]"
      ]
     },
     "metadata": {},
     "output_type": "display_data"
    },
    {
     "name": "stdout",
     "output_type": "stream",
     "text": [
      "Sentiment prediction accuracy: 0.38573294156056154\n"
     ]
    }
   ],
   "source": [
    "import numpy as np\n",
    "from sklearn.naive_bayes import MultinomialNB\n",
    "\n",
    "MNB = MultinomialNB().fit(train_tfidf, train[\"Sentiment\"])\n",
    "\n",
    "val_counts = count.transform(val[\"Tweet\"])\n",
    "val_tfidf = tfidf_transformer.transform(val_counts)\n",
    "\n",
    "mnb_pred = MNB.predict(val_tfidf)\n",
    "\n",
    "NB_df = pd.DataFrame(zip(test[\"Tweet\"], mnb_pred, test[\"Sentiment\"]), columns=[\"Tweet\", \"Predicted\", \"Actual\"])\n",
    "\n",
    "display(NB_df)\n",
    "\n",
    "print(\"Sentiment prediction accuracy:\", np.mean(pred == val[\"Sentiment\"]))"
   ]
  },
  {
   "cell_type": "markdown",
   "metadata": {
    "id": "EnnmO3Kf4-1-"
   },
   "source": [
    "---"
   ]
  },
  {
   "cell_type": "markdown",
   "metadata": {
    "id": "zOE_ZHLv4-1-"
   },
   "source": [
    "## Question 5 (25 points)\n",
    "\n",
    "Try now to **beat your baseline**. Feel free to use scikit-learn or another library of choice. See [here](https://scikit-learn.org/stable/supervised_learning.html#supervised-learning) for more options.\n",
    "\n",
    "How to beat the baseline? There are many ways:\n",
    "1. You could have a better text representation (e.g., using PPMI instead of TF-IDF, note that this is challenging because there is no ready-made scikit-learn vectorizer for this).\n",
    "2. You can pick a more powerful model (e.g., random forests or SVMs).\n",
    "3. You have to find good hyperparameters for your model, and not just use the default ones.\n",
    "\n",
    "Regarding point 3 above, make sure to perform some hyperparameter searching using [grid search](https://scikit-learn.org/stable/modules/generated/sklearn.model_selection.GridSearchCV.html) or [randomized search](https://scikit-learn.org/stable/modules/generated/sklearn.model_selection.RandomizedSearchCV.html).\n",
    "\n",
    "Use your classification report function and the validation set to report on the performance of your baseline. *Pay attention: the validation data only needs to be transformed, and must not be used to fit any transformation. For example, if you have used a TF-IDF vectorizer by fitting it to your train data and then transformed it, use the same fitted vectorizer to transform your validation data.*"
   ]
  },
  {
   "cell_type": "code",
   "execution_count": 184,
   "metadata": {
    "id": "pIcbBVMO4-1_"
   },
   "outputs": [],
   "source": [
    "# your code here\n",
    "\n",
    "from sklearn.ensemble import RandomForestClassifier\n",
    "    \n",
    "rfc = RandomForestClassifier().fit(train_tfidf, train[\"Sentiment\"])\n",
    "\n",
    "rfc_pred = rfc.predict(val_tfidf)"
   ]
  },
  {
   "cell_type": "code",
   "execution_count": 242,
   "metadata": {},
   "outputs": [
    {
     "data": {
      "text/html": [
       "<div>\n",
       "<style scoped>\n",
       "    .dataframe tbody tr th:only-of-type {\n",
       "        vertical-align: middle;\n",
       "    }\n",
       "\n",
       "    .dataframe tbody tr th {\n",
       "        vertical-align: top;\n",
       "    }\n",
       "\n",
       "    .dataframe thead th {\n",
       "        text-align: right;\n",
       "    }\n",
       "</style>\n",
       "<table border=\"1\" class=\"dataframe\">\n",
       "  <thead>\n",
       "    <tr style=\"text-align: right;\">\n",
       "      <th></th>\n",
       "      <th>Tweet</th>\n",
       "      <th>Multinomial NB</th>\n",
       "      <th>Random Forest</th>\n",
       "      <th>Actual</th>\n",
       "    </tr>\n",
       "  </thead>\n",
       "  <tbody>\n",
       "    <tr>\n",
       "      <th>0</th>\n",
       "      <td>advice talk neighbour family exchange phone nu...</td>\n",
       "      <td>Positive</td>\n",
       "      <td>Extremely Positive</td>\n",
       "      <td>Positive</td>\n",
       "    </tr>\n",
       "    <tr>\n",
       "      <th>1</th>\n",
       "      <td>coronavirus australia woolworth give elderly d...</td>\n",
       "      <td>Positive</td>\n",
       "      <td>Positive</td>\n",
       "      <td>Positive</td>\n",
       "    </tr>\n",
       "    <tr>\n",
       "      <th>2</th>\n",
       "      <td>food stock be not only be empty.. please don't...</td>\n",
       "      <td>Positive</td>\n",
       "      <td>Positive</td>\n",
       "      <td>Positive</td>\n",
       "    </tr>\n",
       "    <tr>\n",
       "      <th>3</th>\n",
       "      <td>me ready go supermarket #covid19 not i'm paran...</td>\n",
       "      <td>Positive</td>\n",
       "      <td>Neutral</td>\n",
       "      <td>Extremely Negative</td>\n",
       "    </tr>\n",
       "    <tr>\n",
       "      <th>4</th>\n",
       "      <td>news regionâs first confirm covid-19 case com...</td>\n",
       "      <td>Positive</td>\n",
       "      <td>Extremely Negative</td>\n",
       "      <td>Positive</td>\n",
       "    </tr>\n",
       "    <tr>\n",
       "      <th>...</th>\n",
       "      <td>...</td>\n",
       "      <td>...</td>\n",
       "      <td>...</td>\n",
       "      <td>...</td>\n",
       "    </tr>\n",
       "    <tr>\n",
       "      <th>6121</th>\n",
       "      <td>food system amp food supply be be test situati...</td>\n",
       "      <td>Negative</td>\n",
       "      <td>Extremely Negative</td>\n",
       "      <td>Extremely Positive</td>\n",
       "    </tr>\n",
       "    <tr>\n",
       "      <th>6122</th>\n",
       "      <td>work #consumergoods be #coronavirus affect bus...</td>\n",
       "      <td>Positive</td>\n",
       "      <td>Positive</td>\n",
       "      <td>Positive</td>\n",
       "    </tr>\n",
       "    <tr>\n",
       "      <th>6123</th>\n",
       "      <td>u.s covid sniper strange american italy covid-...</td>\n",
       "      <td>Positive</td>\n",
       "      <td>Neutral</td>\n",
       "      <td>Negative</td>\n",
       "    </tr>\n",
       "    <tr>\n",
       "      <th>6124</th>\n",
       "      <td>? consumer india's major city be rush stock up...</td>\n",
       "      <td>Positive</td>\n",
       "      <td>Positive</td>\n",
       "      <td>Negative</td>\n",
       "    </tr>\n",
       "    <tr>\n",
       "      <th>6125</th>\n",
       "      <td>not sound pessimistic measure covid-19 nigeria...</td>\n",
       "      <td>Positive</td>\n",
       "      <td>Positive</td>\n",
       "      <td>Extremely Negative</td>\n",
       "    </tr>\n",
       "  </tbody>\n",
       "</table>\n",
       "<p>6126 rows × 4 columns</p>\n",
       "</div>"
      ],
      "text/plain": [
       "                                                  Tweet Multinomial NB  \\\n",
       "0     advice talk neighbour family exchange phone nu...       Positive   \n",
       "1     coronavirus australia woolworth give elderly d...       Positive   \n",
       "2     food stock be not only be empty.. please don't...       Positive   \n",
       "3     me ready go supermarket #covid19 not i'm paran...       Positive   \n",
       "4     news regionâs first confirm covid-19 case com...       Positive   \n",
       "...                                                 ...            ...   \n",
       "6121  food system amp food supply be be test situati...       Negative   \n",
       "6122  work #consumergoods be #coronavirus affect bus...       Positive   \n",
       "6123  u.s covid sniper strange american italy covid-...       Positive   \n",
       "6124  ? consumer india's major city be rush stock up...       Positive   \n",
       "6125  not sound pessimistic measure covid-19 nigeria...       Positive   \n",
       "\n",
       "           Random Forest              Actual  \n",
       "0     Extremely Positive            Positive  \n",
       "1               Positive            Positive  \n",
       "2               Positive            Positive  \n",
       "3                Neutral  Extremely Negative  \n",
       "4     Extremely Negative            Positive  \n",
       "...                  ...                 ...  \n",
       "6121  Extremely Negative  Extremely Positive  \n",
       "6122            Positive            Positive  \n",
       "6123             Neutral            Negative  \n",
       "6124            Positive            Negative  \n",
       "6125            Positive  Extremely Negative  \n",
       "\n",
       "[6126 rows x 4 columns]"
      ]
     },
     "metadata": {},
     "output_type": "display_data"
    },
    {
     "name": "stdout",
     "output_type": "stream",
     "text": [
      "Sentiment prediction accuracy:\n",
      " \n",
      "Multinomial Naive Bayes: 0.38573294156056154 \n",
      "Random Forest: 0.5164871041462619\n"
     ]
    }
   ],
   "source": [
    "clf_df = pd.DataFrame(zip(test[\"Tweet\"], pred, rfc_pred, test[\"Sentiment\"]), \n",
    "                     columns=[\"Tweet\", \"Multinomial NB\", \"Random Forest\", \"Actual\"])\n",
    "\n",
    "display(clf_df)\n",
    "\n",
    "print(\"Sentiment prediction accuracy:\\n\", \n",
    "      \"\\nMultinomial Naive Bayes:\", np.mean(pred == val[\"Sentiment\"]), \n",
    "      \"\\nRandom Forest:\", np.mean(rfc_pred == val[\"Sentiment\"]))"
   ]
  },
  {
   "cell_type": "markdown",
   "metadata": {},
   "source": [
    "The Random Forest Classifer takes much longer to train than the Multinomial Naive Bayes used previously, but does provide signifcantly better predictions even without altering the hyperparameters or changing the text representation"
   ]
  },
  {
   "cell_type": "code",
   "execution_count": 235,
   "metadata": {},
   "outputs": [
    {
     "data": {
      "text/plain": [
       "dict_keys(['bootstrap', 'ccp_alpha', 'class_weight', 'criterion', 'max_depth', 'max_features', 'max_leaf_nodes', 'max_samples', 'min_impurity_decrease', 'min_samples_leaf', 'min_samples_split', 'min_weight_fraction_leaf', 'n_estimators', 'n_jobs', 'oob_score', 'random_state', 'verbose', 'warm_start'])"
      ]
     },
     "execution_count": 235,
     "metadata": {},
     "output_type": "execute_result"
    }
   ],
   "source": [
    "rfc.get_params().keys()"
   ]
  },
  {
   "cell_type": "code",
   "execution_count": 236,
   "metadata": {},
   "outputs": [
    {
     "name": "stdout",
     "output_type": "stream",
     "text": [
      "Fitting 5 folds for each of 100 candidates, totalling 500 fits\n"
     ]
    },
    {
     "data": {
      "text/plain": [
       "{'n_estimators': 18,\n",
       " 'min_samples_split': 10,\n",
       " 'min_samples_leaf': 3,\n",
       " 'max_features': 'auto',\n",
       " 'max_depth': 120,\n",
       " 'bootstrap': False}"
      ]
     },
     "execution_count": 236,
     "metadata": {},
     "output_type": "execute_result"
    }
   ],
   "source": [
    "from scipy.stats import uniform\n",
    "from sklearn.model_selection import RandomizedSearchCV\n",
    "\n",
    "n_estimators = [int(x) for x in np.linspace(1, 20, 20)] # number of trees in the random forest\n",
    "max_features = ['auto', 'sqrt'] # number of features in consideration at every split\n",
    "max_depth = [int(x) for x in np.linspace(10, 120, num = 12)] # maximum number of levels allowed in each decision tree\n",
    "min_samples_split = [2, 6, 10] # minimum sample number to split a node\n",
    "min_samples_leaf = [1, 3, 4] # minimum sample number that can be stored in a leaf node\n",
    "bootstrap = [True, False] # method used to sample data points\n",
    "\n",
    "random_grid = {'n_estimators': n_estimators,\n",
    "               'max_features': max_features,\n",
    "               'max_depth': max_depth,\n",
    "               'min_samples_split': min_samples_split,\n",
    "               'min_samples_leaf': min_samples_leaf,\n",
    "               'bootstrap': bootstrap}\n",
    "\n",
    "distributions = dict(C=uniform(loc=0, scale=4), penalty=['l2', 'l1'])\n",
    "\n",
    "rscv = RandomizedSearchCV(rfc, random_grid, n_iter=100, cv=5, verbose=2, n_jobs=-1, random_state=seed)\n",
    "search = rscv.fit(train_tfidf, train[\"Sentiment\"])\n",
    "search.best_params_"
   ]
  },
  {
   "cell_type": "code",
   "execution_count": 241,
   "metadata": {},
   "outputs": [],
   "source": [
    "rfc_opt = RandomForestClassifier(n_estimators=18,\n",
    "                                 min_samples_split=10,\n",
    "                                 min_samples_leaf=3,\n",
    "                                 max_features='auto',\n",
    "                                 max_depth=120,\n",
    "                                 bootstrap=False).fit(train_tfidf, train[\"Sentiment\"])\n",
    "\n",
    "rfc_opt_pred = rfc_opt.predict(val_tfidf)"
   ]
  },
  {
   "cell_type": "code",
   "execution_count": 258,
   "metadata": {},
   "outputs": [
    {
     "data": {
      "text/html": [
       "<div>\n",
       "<style scoped>\n",
       "    .dataframe tbody tr th:only-of-type {\n",
       "        vertical-align: middle;\n",
       "    }\n",
       "\n",
       "    .dataframe tbody tr th {\n",
       "        vertical-align: top;\n",
       "    }\n",
       "\n",
       "    .dataframe thead th {\n",
       "        text-align: right;\n",
       "    }\n",
       "</style>\n",
       "<table border=\"1\" class=\"dataframe\">\n",
       "  <thead>\n",
       "    <tr style=\"text-align: right;\">\n",
       "      <th></th>\n",
       "      <th>Tweet</th>\n",
       "      <th>Multinomial NB</th>\n",
       "      <th>Random Forest</th>\n",
       "      <th>Opitmised RFC</th>\n",
       "      <th>Actual</th>\n",
       "    </tr>\n",
       "  </thead>\n",
       "  <tbody>\n",
       "    <tr>\n",
       "      <th>0</th>\n",
       "      <td>advice talk neighbour family exchange phone nu...</td>\n",
       "      <td>Positive</td>\n",
       "      <td>Extremely Positive</td>\n",
       "      <td>Extremely Positive</td>\n",
       "      <td>Positive</td>\n",
       "    </tr>\n",
       "    <tr>\n",
       "      <th>1</th>\n",
       "      <td>coronavirus australia woolworth give elderly d...</td>\n",
       "      <td>Positive</td>\n",
       "      <td>Positive</td>\n",
       "      <td>Positive</td>\n",
       "      <td>Positive</td>\n",
       "    </tr>\n",
       "    <tr>\n",
       "      <th>2</th>\n",
       "      <td>food stock be not only be empty.. please don't...</td>\n",
       "      <td>Positive</td>\n",
       "      <td>Positive</td>\n",
       "      <td>Negative</td>\n",
       "      <td>Positive</td>\n",
       "    </tr>\n",
       "    <tr>\n",
       "      <th>3</th>\n",
       "      <td>me ready go supermarket #covid19 not i'm paran...</td>\n",
       "      <td>Positive</td>\n",
       "      <td>Neutral</td>\n",
       "      <td>Neutral</td>\n",
       "      <td>Extremely Negative</td>\n",
       "    </tr>\n",
       "    <tr>\n",
       "      <th>4</th>\n",
       "      <td>news regionâs first confirm covid-19 case com...</td>\n",
       "      <td>Positive</td>\n",
       "      <td>Extremely Negative</td>\n",
       "      <td>Extremely Negative</td>\n",
       "      <td>Positive</td>\n",
       "    </tr>\n",
       "    <tr>\n",
       "      <th>...</th>\n",
       "      <td>...</td>\n",
       "      <td>...</td>\n",
       "      <td>...</td>\n",
       "      <td>...</td>\n",
       "      <td>...</td>\n",
       "    </tr>\n",
       "    <tr>\n",
       "      <th>6121</th>\n",
       "      <td>food system amp food supply be be test situati...</td>\n",
       "      <td>Negative</td>\n",
       "      <td>Extremely Negative</td>\n",
       "      <td>Extremely Negative</td>\n",
       "      <td>Extremely Positive</td>\n",
       "    </tr>\n",
       "    <tr>\n",
       "      <th>6122</th>\n",
       "      <td>work #consumergoods be #coronavirus affect bus...</td>\n",
       "      <td>Positive</td>\n",
       "      <td>Positive</td>\n",
       "      <td>Positive</td>\n",
       "      <td>Positive</td>\n",
       "    </tr>\n",
       "    <tr>\n",
       "      <th>6123</th>\n",
       "      <td>u.s covid sniper strange american italy covid-...</td>\n",
       "      <td>Positive</td>\n",
       "      <td>Neutral</td>\n",
       "      <td>Neutral</td>\n",
       "      <td>Negative</td>\n",
       "    </tr>\n",
       "    <tr>\n",
       "      <th>6124</th>\n",
       "      <td>? consumer india's major city be rush stock up...</td>\n",
       "      <td>Positive</td>\n",
       "      <td>Positive</td>\n",
       "      <td>Positive</td>\n",
       "      <td>Negative</td>\n",
       "    </tr>\n",
       "    <tr>\n",
       "      <th>6125</th>\n",
       "      <td>not sound pessimistic measure covid-19 nigeria...</td>\n",
       "      <td>Positive</td>\n",
       "      <td>Positive</td>\n",
       "      <td>Positive</td>\n",
       "      <td>Extremely Negative</td>\n",
       "    </tr>\n",
       "  </tbody>\n",
       "</table>\n",
       "<p>6126 rows × 5 columns</p>\n",
       "</div>"
      ],
      "text/plain": [
       "                                                  Tweet Multinomial NB  \\\n",
       "0     advice talk neighbour family exchange phone nu...       Positive   \n",
       "1     coronavirus australia woolworth give elderly d...       Positive   \n",
       "2     food stock be not only be empty.. please don't...       Positive   \n",
       "3     me ready go supermarket #covid19 not i'm paran...       Positive   \n",
       "4     news regionâs first confirm covid-19 case com...       Positive   \n",
       "...                                                 ...            ...   \n",
       "6121  food system amp food supply be be test situati...       Negative   \n",
       "6122  work #consumergoods be #coronavirus affect bus...       Positive   \n",
       "6123  u.s covid sniper strange american italy covid-...       Positive   \n",
       "6124  ? consumer india's major city be rush stock up...       Positive   \n",
       "6125  not sound pessimistic measure covid-19 nigeria...       Positive   \n",
       "\n",
       "           Random Forest       Opitmised RFC              Actual  \n",
       "0     Extremely Positive  Extremely Positive            Positive  \n",
       "1               Positive            Positive            Positive  \n",
       "2               Positive            Negative            Positive  \n",
       "3                Neutral             Neutral  Extremely Negative  \n",
       "4     Extremely Negative  Extremely Negative            Positive  \n",
       "...                  ...                 ...                 ...  \n",
       "6121  Extremely Negative  Extremely Negative  Extremely Positive  \n",
       "6122            Positive            Positive            Positive  \n",
       "6123             Neutral             Neutral            Negative  \n",
       "6124            Positive            Positive            Negative  \n",
       "6125            Positive            Positive  Extremely Negative  \n",
       "\n",
       "[6126 rows x 5 columns]"
      ]
     },
     "metadata": {},
     "output_type": "display_data"
    },
    {
     "name": "stdout",
     "output_type": "stream",
     "text": [
      "Sentiment prediction accuracy:\n",
      " \n",
      "Multinomial Naive Bayes: 0.38573294156056154 \n",
      "Random Forest: 0.5164871041462619 \n",
      "Optimised RFC: 0.5021221025138752\n"
     ]
    }
   ],
   "source": [
    "clf_df = pd.DataFrame(zip(test[\"Tweet\"], pred, rfc_pred, rfc_opt_pred, test[\"Sentiment\"]), \n",
    "                     columns=[\"Tweet\", \"Multinomial NB\", \"Random Forest\", \"Opitmised RFC\", \"Actual\"])\n",
    "\n",
    "display(clf_df)\n",
    "\n",
    "print(\"Sentiment prediction accuracy:\\n\", \n",
    "      \"\\nMultinomial Naive Bayes:\", np.mean(pred == val[\"Sentiment\"]), \n",
    "      \"\\nRandom Forest:\", np.mean(rfc_pred == val[\"Sentiment\"]),\n",
    "      \"\\nOptimised RFC:\", np.mean(rfc_opt_pred == val[\"Sentiment\"]))"
   ]
  },
  {
   "cell_type": "markdown",
   "metadata": {},
   "source": [
    "The best parameters found by the randomized search seem to actually give worse accuracy. Not sure what's up here"
   ]
  },
  {
   "cell_type": "markdown",
   "metadata": {
    "id": "S9zmQoa74-1_"
   },
   "source": [
    "---"
   ]
  },
  {
   "cell_type": "markdown",
   "metadata": {
    "id": "fV-1eX7y4-1_"
   },
   "source": [
    "## Question 6 (15 points)\n",
    "\n",
    "Design, develop and train a (simple!) **neural network-based classifier** for this task, using scikit-learn or PyTorch. The classifier can have the structure that you prefer, just make sure to motivate your choices. If in doubt, try with a bag of embeddings classifier.\n",
    "\n",
    "*Note: an NN-based classifier with scikit-learn yields 5 points max; one with PyTorch yields 10 points max; one with PyTorch and pre-trained embeddings yields 15 points max.*\n",
    "\n",
    "Use your classification report function and the validation set to report on the performance of your baseline. *Pay attention: the validation data only needs to be transformed, and must not be used to fit any transformation. For example, if you have used a TF-IDF vectorizer by fitting it to your train data and then transformed it, use the same fitted vectorizer to transform your validation data.*s"
   ]
  },
  {
   "cell_type": "code",
   "execution_count": 194,
   "metadata": {
    "id": "tDn5kJj54-2A"
   },
   "outputs": [],
   "source": [
    "# your code here\n",
    "\n",
    "import torch\n",
    "import torch.nn as nn\n",
    "import torch.nn.functional as F"
   ]
  },
  {
   "cell_type": "markdown",
   "metadata": {
    "id": "A8K-n8Ak4-2A"
   },
   "source": [
    "---"
   ]
  },
  {
   "cell_type": "markdown",
   "metadata": {
    "id": "hjiTUFSZ4-2A"
   },
   "source": [
    "# Evaluating your classifiers (20 points)"
   ]
  },
  {
   "cell_type": "markdown",
   "metadata": {
    "id": "H9JXwtnF4-2B"
   },
   "source": [
    "## Question 7 (10 points)\n",
    "\n",
    "Evaluate the performance of your models on the **test set**. Make sure to transform your test data as you did for your train data, and as needed for each classifier. *Pay attention: the test data only needs to be transformed, and must not be used to fit any transformation. For example, if you have used a TF-IDF vectorizer by fitting it to your train data and then transformed your train and validation with it, use the same fitted vectorizer to transform your test data.*\n",
    "\n",
    "* Report the accuracy of each classifier, as well as its precision, recall and F1 score. \n",
    "* Plot a [confusion matrix](https://scikit-learn.org/stable/auto_examples/model_selection/plot_confusion_matrix.html) for your best classifier.\n",
    "* Briefly discuss your results."
   ]
  },
  {
   "cell_type": "code",
   "execution_count": 196,
   "metadata": {
    "id": "FDr66A_j4-2B"
   },
   "outputs": [],
   "source": [
    "df_test = pd.read_csv(\"data/Corona_NLP_test.csv\")"
   ]
  },
  {
   "cell_type": "code",
   "execution_count": 201,
   "metadata": {
    "id": "WFviO9dr4-2B"
   },
   "outputs": [
    {
     "data": {
      "text/html": [
       "<div>\n",
       "<style scoped>\n",
       "    .dataframe tbody tr th:only-of-type {\n",
       "        vertical-align: middle;\n",
       "    }\n",
       "\n",
       "    .dataframe tbody tr th {\n",
       "        vertical-align: top;\n",
       "    }\n",
       "\n",
       "    .dataframe thead th {\n",
       "        text-align: right;\n",
       "    }\n",
       "</style>\n",
       "<table border=\"1\" class=\"dataframe\">\n",
       "  <thead>\n",
       "    <tr style=\"text-align: right;\">\n",
       "      <th></th>\n",
       "      <th>Tweet</th>\n",
       "      <th>Sentiment</th>\n",
       "    </tr>\n",
       "  </thead>\n",
       "  <tbody>\n",
       "    <tr>\n",
       "      <th>40795</th>\n",
       "      <td>donât see grocery store owner blow off steam ...</td>\n",
       "      <td>Neutral</td>\n",
       "    </tr>\n",
       "    <tr>\n",
       "      <th>1512</th>\n",
       "      <td>friend come back overseas be tell self isolate...</td>\n",
       "      <td>Positive</td>\n",
       "    </tr>\n",
       "    <tr>\n",
       "      <th>14360</th>\n",
       "      <td>very silly teen cough grocery store produce ne...</td>\n",
       "      <td>Negative</td>\n",
       "    </tr>\n",
       "    <tr>\n",
       "      <th>13582</th>\n",
       "      <td>preach daily good deed be really show true col...</td>\n",
       "      <td>Extremely Positive</td>\n",
       "    </tr>\n",
       "    <tr>\n",
       "      <th>16502</th>\n",
       "      <td>day day isolation child build castle toilet pa...</td>\n",
       "      <td>Negative</td>\n",
       "    </tr>\n",
       "  </tbody>\n",
       "</table>\n",
       "</div>"
      ],
      "text/plain": [
       "                                                   Tweet           Sentiment\n",
       "40795  donât see grocery store owner blow off steam ...             Neutral\n",
       "1512   friend come back overseas be tell self isolate...            Positive\n",
       "14360  very silly teen cough grocery store produce ne...            Negative\n",
       "13582  preach daily good deed be really show true col...  Extremely Positive\n",
       "16502  day day isolation child build castle toilet pa...            Negative"
      ]
     },
     "execution_count": 201,
     "metadata": {},
     "output_type": "execute_result"
    }
   ],
   "source": [
    "# your code here\n",
    "\n",
    "# exact same procedure as before to transform data\n",
    "\n",
    "test_tweets = list(zip(df_test[\"OriginalTweet\"], df_test[\"Sentiment\"]))\n",
    "\n",
    "test_tokens = [(regextk.tokenize(tweet), sentiment) for tweet, sentiment in test_tweets]\n",
    "\n",
    "filtered_test_tweets = []\n",
    "for tweet in test_tokens:\n",
    "    newtweet = []\n",
    "    for word in tweet[0]:\n",
    "        if not ('@' in word or 'https' in word):\n",
    "            newtweet.append(word.lower())\n",
    "    \n",
    "    if len(newtweet) > 5:\n",
    "        filtered_test_tweets.append((newtweet, tweet[1]))\n",
    "\n",
    "test_tagged = [(nltk.pos_tag(tweet), sentiment) for tweet, sentiment in filtered_test_tweets]\n",
    "\n",
    "test_lem_tweets = []\n",
    "\n",
    "for tweet in test_tagged:\n",
    "    lemmas = []\n",
    "    \n",
    "    for word, tag in tweet[0]:\n",
    "        wn_tag = wn_pos(tag)\n",
    "        \n",
    "        if word[-1] in string.punctuation:\n",
    "                word = word[:-1]\n",
    "    \n",
    "        if wn_pos(tag) is not None:\n",
    "            lemmas.append(lem.lemmatize(word, wn_tag))\n",
    "                \n",
    "    test_lem_tweets.append((lemmas, tweet[1]))\n",
    "    \n",
    "test_joined = []\n",
    "for tweet in test_lem_tweets:\n",
    "    test_joined.append((\" \".join(tweet[0]), tweet[1]))\n",
    "    \n",
    "test = pd.DataFrame(joined_lem_tweets, columns=[\"Tweet\", \"Sentiment\"])\n",
    "test.sample(5)"
   ]
  },
  {
   "cell_type": "code",
   "execution_count": 251,
   "metadata": {},
   "outputs": [],
   "source": [
    "def new_class_report(clf, preds, truths):\n",
    "    print(\"Method:\", clf)\n",
    "    print(\"Accuracy:\", np.mean(preds == truths))\n",
    "    print(\"Precision:\", precision_score(preds, truths, average=\"weighted\"))\n",
    "    print(\"Recall:\", recall_score(preds, truths, average=\"weighted\"))\n",
    "    print(\"F1 Score:\", f1_score(preds, truths, average=\"weighted\"))"
   ]
  },
  {
   "cell_type": "code",
   "execution_count": 252,
   "metadata": {},
   "outputs": [
    {
     "name": "stdout",
     "output_type": "stream",
     "text": [
      "Method: RandomForestClassifier()\n",
      "Accuracy: 0.9273751224289912\n",
      "Precision: 0.9280592333237292\n",
      "Recall: 0.9273751224289912\n",
      "F1 Score: 0.9272915099088903\n",
      "\n",
      "\n",
      "Method: MultinomialNB()\n",
      "Accuracy: 0.49657198824681686\n",
      "Precision: 0.8046034428654657\n",
      "Recall: 0.49657198824681686\n",
      "F1 Score: 0.5660332845213777\n",
      "\n",
      "\n",
      "Method: RandomForestClassifier(bootstrap=False, max_depth=120, min_samples_leaf=3,\n",
      "                       min_samples_split=10, n_estimators=18)\n",
      "Accuracy: 0.6672135161606269\n",
      "Precision: 0.699939100897345\n",
      "Recall: 0.6672135161606269\n",
      "F1 Score: 0.6686920892652245\n",
      "\n",
      "\n"
     ]
    }
   ],
   "source": [
    "test_counts = count.transform(test[\"Tweet\"])\n",
    "test_tfidf = tfidf_transformer.transform(test_counts)\n",
    "\n",
    "clfs = [rfc, MNB, rfc_opt]\n",
    "\n",
    "for clf in clfs:\n",
    "    clf_pred = clf.predict(test_tfidf)\n",
    "    new_class_report(clf, clf_pred, test[\"Sentiment\"])\n",
    "    print(\"\\n\")"
   ]
  },
  {
   "cell_type": "code",
   "execution_count": 257,
   "metadata": {},
   "outputs": [
    {
     "data": {
      "image/png": "[encoded data removed]",
      "text/plain": [
       "<Figure size 432x288 with 2 Axes>"
      ]
     },
     "metadata": {
      "needs_background": "light"
     },
     "output_type": "display_data"
    }
   ],
   "source": [
    "import matplotlib.pyplot as plt\n",
    "from sklearn.metrics import ConfusionMatrixDisplay\n",
    "\n",
    "ConfusionMatrixDisplay.from_predictions(val[\"Sentiment\"], \n",
    "                                        rfc_pred, \n",
    "                                        cmap=plt.cm.Blues, \n",
    "                                        xticks_rotation=90, \n",
    "                                        labels=['Extremely Positive', 'Positive', 'Neutral', 'Negative', 'Extremely Negative'])\n",
    "plt.show()"
   ]
  },
  {
   "cell_type": "markdown",
   "metadata": {
    "id": "JRm9J4-o4-2C"
   },
   "source": [
    "---"
   ]
  },
  {
   "cell_type": "markdown",
   "metadata": {
    "collapsed": true,
    "id": "nKxvAsxg4-2C"
   },
   "source": [
    "## Question 8 (10 points)\n",
    "\n",
    "When the results of two models are similar, and anyway as a good practice, you may want to test whether their results **differ significantly**. If you can afford to do multiple paired runs of both models on different slices of the data (or different samples), a good approach is the [Wilcoxon signed-rank test](https://docs.scipy.org/doc/scipy/reference/generated/scipy.stats.wilcoxon.html).\n",
    "\n",
    "* Select two (or more) of your classifiers which have somewhat similar results on your validation data. Make sure to select two methods which do not take too long to run.\n",
    "* Merge your train and validation data, and implement a function to shuffle and sample a % of datapoints (with labels) from it.\n",
    "* Iterate 5-10 times the following steps:\n",
    "   - Shuffle and sample 80% of your training datapoints.\n",
    "   - Train instances of the two classifiers on the same 80% sample.\n",
    "   - Assess their accuracy on the test dataset and store these results (into two separate lists for each classifier).\n",
    "* Perform a Wilcoxon test on these results and discuss whether the two classifiers are significantly different on this task and dataset."
   ]
  },
  {
   "cell_type": "code",
   "execution_count": 267,
   "metadata": {
    "id": "ONz1PmOM4-2E"
   },
   "outputs": [
    {
     "data": {
      "text/html": [
       "<div>\n",
       "<style scoped>\n",
       "    .dataframe tbody tr th:only-of-type {\n",
       "        vertical-align: middle;\n",
       "    }\n",
       "\n",
       "    .dataframe tbody tr th {\n",
       "        vertical-align: top;\n",
       "    }\n",
       "\n",
       "    .dataframe thead th {\n",
       "        text-align: right;\n",
       "    }\n",
       "</style>\n",
       "<table border=\"1\" class=\"dataframe\">\n",
       "  <thead>\n",
       "    <tr style=\"text-align: right;\">\n",
       "      <th></th>\n",
       "      <th>Tweet</th>\n",
       "      <th>Sentiment</th>\n",
       "    </tr>\n",
       "  </thead>\n",
       "  <tbody>\n",
       "    <tr>\n",
       "      <th>0</th>\n",
       "      <td>advice talk neighbour family exchange phone nu...</td>\n",
       "      <td>Positive</td>\n",
       "    </tr>\n",
       "    <tr>\n",
       "      <th>1</th>\n",
       "      <td>coronavirus australia woolworth give elderly d...</td>\n",
       "      <td>Positive</td>\n",
       "    </tr>\n",
       "    <tr>\n",
       "      <th>2</th>\n",
       "      <td>food stock be not only be empty.. please don't...</td>\n",
       "      <td>Positive</td>\n",
       "    </tr>\n",
       "    <tr>\n",
       "      <th>3</th>\n",
       "      <td>me ready go supermarket #covid19 not i'm paran...</td>\n",
       "      <td>Extremely Negative</td>\n",
       "    </tr>\n",
       "    <tr>\n",
       "      <th>4</th>\n",
       "      <td>news regionâs first confirm covid-19 case com...</td>\n",
       "      <td>Positive</td>\n",
       "    </tr>\n",
       "    <tr>\n",
       "      <th>...</th>\n",
       "      <td>...</td>\n",
       "      <td>...</td>\n",
       "    </tr>\n",
       "    <tr>\n",
       "      <th>40815</th>\n",
       "      <td>question be way buy sell commodity other commo...</td>\n",
       "      <td>Neutral</td>\n",
       "    </tr>\n",
       "    <tr>\n",
       "      <th>40823</th>\n",
       "      <td>good news we'll soon announce high tech g&amp;amp;...</td>\n",
       "      <td>Positive</td>\n",
       "    </tr>\n",
       "    <tr>\n",
       "      <th>40827</th>\n",
       "      <td>do not have supermarket nearby have do get cov...</td>\n",
       "      <td>Neutral</td>\n",
       "    </tr>\n",
       "    <tr>\n",
       "      <th>40828</th>\n",
       "      <td>exactly be go re-open new york city still can'...</td>\n",
       "      <td>Positive</td>\n",
       "    </tr>\n",
       "    <tr>\n",
       "      <th>40829</th>\n",
       "      <td>#gold price rise more 7-year high today due #c...</td>\n",
       "      <td>Positive</td>\n",
       "    </tr>\n",
       "  </tbody>\n",
       "</table>\n",
       "<p>46966 rows × 2 columns</p>\n",
       "</div>"
      ],
      "text/plain": [
       "                                                   Tweet           Sentiment\n",
       "0      advice talk neighbour family exchange phone nu...            Positive\n",
       "1      coronavirus australia woolworth give elderly d...            Positive\n",
       "2      food stock be not only be empty.. please don't...            Positive\n",
       "3      me ready go supermarket #covid19 not i'm paran...  Extremely Negative\n",
       "4      news regionâs first confirm covid-19 case com...            Positive\n",
       "...                                                  ...                 ...\n",
       "40815  question be way buy sell commodity other commo...             Neutral\n",
       "40823  good news we'll soon announce high tech g&amp;...            Positive\n",
       "40827  do not have supermarket nearby have do get cov...             Neutral\n",
       "40828  exactly be go re-open new york city still can'...            Positive\n",
       "40829  #gold price rise more 7-year high today due #c...            Positive\n",
       "\n",
       "[46966 rows x 2 columns]"
      ]
     },
     "execution_count": 267,
     "metadata": {},
     "output_type": "execute_result"
    }
   ],
   "source": [
    "# your code here\n",
    "\n",
    "merged = pd.concat([test, val], axis=0)\n",
    "\n",
    "def shuff(df, pc):\n",
    "    df.sample(frac=pc)\n",
    "    \n",
    "for"
   ]
  },
  {
   "cell_type": "markdown",
   "metadata": {
    "id": "e2z2g9eF4-2E"
   },
   "source": [
    "---"
   ]
  }
 ],
 "metadata": {
  "colab": {
   "collapsed_sections": [],
   "name": "notebook_a3.ipynb",
   "provenance": []
  },
  "kernelspec": {
   "display_name": "Python 3 (ipykernel)",
   "language": "python",
   "name": "python3"
  },
  "language_info": {
   "codemirror_mode": {
    "name": "ipython",
    "version": 3
   },
   "file_extension": ".py",
   "mimetype": "text/x-python",
   "name": "python",
   "nbconvert_exporter": "python",
   "pygments_lexer": "ipython3",
   "version": "3.8.5"
  },
  "toc": {
   "base_numbering": 1,
   "nav_menu": {},
   "number_sections": true,
   "sideBar": true,
   "skip_h1_title": false,
   "title_cell": "Table of Contents",
   "title_sidebar": "Contents",
   "toc_cell": false,
   "toc_position": {},
   "toc_section_display": true,
   "toc_window_display": true
  }
 },
 "nbformat": 4,
 "nbformat_minor": 1
}
