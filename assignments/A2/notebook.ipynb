{
 "cells": [
  {
   "cell_type": "markdown",
   "metadata": {},
   "source": [
    "# Assignment 2"
   ]
  },
  {
   "cell_type": "markdown",
   "metadata": {},
   "source": [
    "## Guidelines\n",
    "\n",
    "> Remember to add an explanation of what you do using markdown, and to comment your code. Please *be brief*.\n",
    ">\n",
    "> If you re-use a substantial portion of code you find online, e.g on Stackoverflow, you need to add a link to it and make the borrowing explicit. The same applies of you take it and modify it, even substantially. There is nothing bad in doing that, providing you are acknowledging it and make it clear you know what you're doing.\n",
    ">\n",
    "> Make sure your notebooks have been run when you sumit, as I won't run them myself. Submit both the `.ipynb` file along with an `.html` export of the same. Submit all necessary auxilliary files as well. Please compress your submission into a `.zip` archive. Only `.zip` files can be submitted."
   ]
  },
  {
   "cell_type": "markdown",
   "metadata": {},
   "source": [
    "## Grading policy\n",
    "> As follows:\n",
    ">\n",
    "> * 70 points for correctly completing the assignment.\n",
    ">\n",
    "> * 20 points for appropriately writing and organizing your code in terms of structure, readibility (also by humans), comments and minimal documentation. It is important to be concise but also to explain what you did and why, when not obvious.\n",
    "> \n",
    "> * 10 points for doing something extra, e.g., if you go beyond expectations (overall or on something specific). Some ideas for extras might be mentioned in the exercises, or you can come up with your own. You don't need to do them all to get the bonus. The sum of points is 90, doing (some of) the extras can bring you to 100, so the extras are not necessary to get an A.\n",
    "> \n",
    "\n",
    "**The AUC code of conduct applies to this assignment: please only submit your own work.**"
   ]
  },
  {
   "cell_type": "markdown",
   "metadata": {},
   "source": [
    "---"
   ]
  },
  {
   "cell_type": "markdown",
   "metadata": {},
   "source": [
    "# Introduction\n",
    "\n",
    "In this assignment, you will build and compare vector models for measuring **semantic similarity**.\n",
    "\n",
    "First, you are going to use different count-based methods to create these models. Secondly you are going to created dense, lower-dimensionality models from them. Thirdly, you are going to use prediction-based models as well.\n",
    "\n",
    "Eventually, you are asked to assess the performance of these models against a human gold standard."
   ]
  },
  {
   "cell_type": "markdown",
   "metadata": {},
   "source": [
    "---"
   ]
  },
  {
   "cell_type": "markdown",
   "metadata": {},
   "source": [
    "# Corpus preparation (10 points)"
   ]
  },
  {
   "cell_type": "markdown",
   "metadata": {},
   "source": [
    "## Question 1 (10 points)\n",
    "\n",
    "Create one distributional space by **counting and filtering** the surface co-occurrences in a symmetric ±5 word collocations span from the following corpus:\n",
    "\n",
    "* A lemmatized version of the Reuters corpus (the choice of the lemmatizer is up to you). For this step, you might need a PoS-tagger: you are welcome to choose one yourself. In case you can't do PoS tagging on your own, you can use the following command to load the provided corpus in `data/reuters.pos` (uploaded as a `.zip` file, so first unzip it):\n",
    "\n",
    "```python\n",
    "with open(\"data/reuters.pos\", \"rb\") as corpus_file:\n",
    "    reuter_PoSTagged = pickle.load(corpus_file)\n",
    "```\n",
    "\n",
    "Remember to make motivated choices for the different strategies in building word vectors as described in class. Be explicit about:\n",
    "\n",
    "1. what lemmas you want to describe (i.e., what will be your target vectors?);\n",
    "2. how you want to describe them (i.e., what will be your contexts?);\n",
    "3. what filtering strategy you are going to choose (i.e., what do you exclude?)."
   ]
  },
  {
   "cell_type": "code",
   "execution_count": 2,
   "metadata": {
    "scrolled": true
   },
   "outputs": [
    {
     "data": {
      "text/plain": [
       "[('much', 'r'),\n",
       " ('more', 'r'),\n",
       " ('serious', 'a'),\n",
       " ('for', None),\n",
       " ('hong', 'n'),\n",
       " ('kong', 'n'),\n",
       " ('be', 'v'),\n",
       " ('the', None),\n",
       " ('disadvantage', 'n'),\n",
       " ('of', None),\n",
       " ('action', 'n'),\n",
       " ('restrain', 'v'),\n",
       " ('trade,', 'n'),\n",
       " ('he', None),\n",
       " ('say', 'v'),\n",
       " ('the', None),\n",
       " ('u.s', 'n')]"
      ]
     },
     "execution_count": 2,
     "metadata": {},
     "output_type": "execute_result"
    }
   ],
   "source": [
    "import nltk\n",
    "import string\n",
    "from nltk.corpus import reuters\n",
    "from nltk.corpus import wordnet as wn\n",
    "from nltk.stem import WordNetLemmatizer\n",
    "from nltk.tokenize import RegexpTokenizer\n",
    "\n",
    "sentences = reuters.raw().lower().split(\". \")\n",
    "\n",
    "regextk = RegexpTokenizer('\\s+', gaps = True)\n",
    "\n",
    "tok_sents = [regextk.tokenize(s) for s in sentences]\n",
    "\n",
    "tagged = [nltk.pos_tag(sent) for sent in tok_sents]\n",
    "\n",
    "\n",
    "def wn_pos(tag):\n",
    "    \"converts treebank tags into wordbank tags for lemmatization\"\n",
    "    if tag.startswith('J'):\n",
    "        return wn.ADJ\n",
    "    \n",
    "    if tag.startswith('V'):\n",
    "        return wn.VERB\n",
    "    \n",
    "    if tag.startswith('N'):\n",
    "        return wn.NOUN\n",
    "    \n",
    "    if tag.startswith('R'):\n",
    "        return wn.ADV\n",
    "    \n",
    "    return None\n",
    "\n",
    "lem_sents = []\n",
    "lem = WordNetLemmatizer()\n",
    "\n",
    "for sent in tagged:\n",
    "    lemmas = []\n",
    "    for word, tag in sent:\n",
    "        try:\n",
    "            wn_tag = wn_pos(tag)\n",
    "            if word[0] in string.punctuation:\n",
    "                word = word[1:]\n",
    "            if word[-1] in string.punctuation:\n",
    "                word = word[:-1]\n",
    "            if wn_tag is None:\n",
    "                # append lemmatized word to list\n",
    "                lemmas.append((lem.lemmatize(word), wn_tag))\n",
    "            else:\n",
    "                # use PoS tag for more accurate lemmatization\n",
    "                lemmas.append((lem.lemmatize(word, wn_tag), wn_tag))\n",
    "        except IndexError:        \n",
    "            pass\n",
    "        \n",
    "    lem_sents.append(lemmas)\n",
    "\n",
    "lemmas = [lem for sentence in lem_sents for lem in sentence]\n",
    "\n",
    "# arbitrary lemmatized sentence as an example\n",
    "lem_sents[10]"
   ]
  },
  {
   "cell_type": "markdown",
   "metadata": {},
   "source": [
    "Above is now a lemmatized version of the reuters corpus, which can be split by sentence or treated as a huge list of words"
   ]
  },
  {
   "cell_type": "code",
   "execution_count": null,
   "metadata": {},
   "outputs": [],
   "source": [
    "# compact alternate implementation with spacy\n",
    "# DO NOT RUN - USES TOO MUCH MEMORY\n",
    "\n",
    "import spacy\n",
    "from nltk.corpus import reuters\n",
    "\n",
    "nlp = spacy.load('en_core_web_sm', disable=['parser', 'ner'])\n",
    "nlp.max_length = 10_000_000\n",
    "\n",
    "doc = nlp(reuters.raw().lower())\n",
    "\n",
    "reuters_lemmatized = [token.lemma_ for token in doc]"
   ]
  },
  {
   "cell_type": "code",
   "execution_count": 5,
   "metadata": {},
   "outputs": [
    {
     "data": {
      "text/plain": [
       "[((('the', None), ('the', None)), 28198),\n",
       " ((('of', None), ('the', None)), 26053),\n",
       " ((('the', None), ('of', None)), 26053),\n",
       " ((('the', None), ('to', None)), 18468),\n",
       " ((('to', None), ('the', None)), 18468),\n",
       " ((('in', None), ('the', None)), 17600),\n",
       " ((('the', None), ('in', None)), 17600),\n",
       " ((('the', None), ('be', 'v')), 17523),\n",
       " ((('be', 'v'), ('the', None)), 17523),\n",
       " ((('say', 'v'), ('the', None)), 16812)]"
      ]
     },
     "execution_count": 5,
     "metadata": {},
     "output_type": "execute_result"
    }
   ],
   "source": [
    "from itertools import permutations\n",
    "from collections import Counter\n",
    "\n",
    "spansize = 5\n",
    "cooccs_surface = Counter()\n",
    "\n",
    "for i, w in enumerate(lemmas):\n",
    "    if len(w) > 1:\n",
    "        span_range = list(range(max(i- spansize, 0), i))\n",
    "        span_range.extend(range(i+1, min(i + spansize + 1, len(lemmas))))\n",
    "        for cw in [lemmas[idx] for idx in span_range]:\n",
    "            cooccs_surface[(w, cw)] += 1\n",
    "        \n",
    "cooccs_surface.most_common(10)"
   ]
  },
  {
   "cell_type": "markdown",
   "metadata": {},
   "source": [
    "As can be seen above, checking word co-occurances in a `±5 word span` within the text returns some less-than-interesting results. \n",
    "\n",
    "Let's do the same again but filter for **only nouns**, as this should return some more interesting connections"
   ]
  },
  {
   "cell_type": "code",
   "execution_count": 6,
   "metadata": {},
   "outputs": [
    {
     "data": {
      "text/plain": [
       "[((('mln', 'n'), ('mln', 'n')), 10416),\n",
       " ((('mln', 'n'), ('v', 'n')), 9346),\n",
       " ((('v', 'n'), ('mln', 'n')), 9346),\n",
       " ((('ct', 'n'), ('vs', 'a')), 6787),\n",
       " ((('ct', 'n'), ('ct', 'n')), 6500),\n",
       " ((('ct', 'n'), ('net', 'a')), 5972),\n",
       " ((('company', 'n'), ('the', None)), 4875),\n",
       " ((('loss', 'n'), ('vs', 'a')), 4160),\n",
       " ((('loss', 'n'), ('loss', 'n')), 3832),\n",
       " ((('dlrs', 'n'), ('mln', 'n')), 3581)]"
      ]
     },
     "execution_count": 6,
     "metadata": {},
     "output_type": "execute_result"
    }
   ],
   "source": [
    "noun_cooccs = Counter()\n",
    "\n",
    "for i, w in enumerate(lemmas):\n",
    "    if w[1] == \"n\":\n",
    "        span_range = list(range(max(i- spansize, 0), i))\n",
    "        span_range.extend(range(i+1, min(i + spansize + 1, len(lemmas))))\n",
    "        for cw in [lemmas[idx] for idx in span_range]:\n",
    "            noun_cooccs[(w, cw)] += 1\n",
    "        \n",
    "noun_cooccs.most_common(10)"
   ]
  },
  {
   "cell_type": "markdown",
   "metadata": {},
   "source": [
    "This corpus contains a lot of dense numerical information, meaning high rates of co-occurances for unusual strings like `\"dlrs\", \"mln\", \"ct\", and \"vs\"`.\n",
    "\n",
    "**We'll have to filter this quite a bit**"
   ]
  },
  {
   "cell_type": "code",
   "execution_count": 78,
   "metadata": {
    "scrolled": true
   },
   "outputs": [
    {
     "data": {
      "text/plain": [
       "[(('say', 'v'), 24189),\n",
       " (('year', 'n'), 6612),\n",
       " (('share', 'n'), 5489),\n",
       " (('loss', 'n'), 5486),\n",
       " (('company', 'n'), 4771),\n",
       " (('bank', 'n'), 4295),\n",
       " (('price', 'n'), 3806),\n",
       " (('u.s', 'n'), 3588),\n",
       " (('profit', 'n'), 3374),\n",
       " (('market', 'n'), 3371)]"
      ]
     },
     "execution_count": 78,
     "metadata": {},
     "output_type": "execute_result"
    }
   ],
   "source": [
    "from itertools import chain\n",
    "from nltk.corpus import stopwords\n",
    "\n",
    "filtered = []\n",
    "nouns = []\n",
    "freqs = nltk.FreqDist(lemmas)\n",
    "stops = set(stopwords.words('english'))\n",
    "odd = \"mln ct v dlrs pct net vs shr\".split()\n",
    "\n",
    "for word in lemmas:\n",
    "    if (freqs[word] >= 10 and \n",
    "        word[0] not in stops and\n",
    "        word[0] not in odd and\n",
    "        word[1] != None):\n",
    "        filtered.append(word)\n",
    "        if word[1] == \"n\":\n",
    "            nouns.append(word)\n",
    "            \n",
    "filt_fd = nltk.FreqDist(filtered)\n",
    "noun_fd = nltk.FreqDist(nouns)\n",
    "\n",
    "filt_fd.most_common(10)"
   ]
  },
  {
   "cell_type": "markdown",
   "metadata": {},
   "source": [
    "There's a much nicer frequency distribution of words!\n",
    "\n",
    "I chose to remove all **stopwords** as well as a list of unusual financial-related words that appeared commonly.\n",
    "\n",
    "I also only kept words that have been PoS tagged - meaning just *nouns, verbs, adjectives, and adverbs*"
   ]
  },
  {
   "cell_type": "code",
   "execution_count": 79,
   "metadata": {},
   "outputs": [
    {
     "data": {
      "text/plain": [
       "[((('loss', 'n'), ('loss', 'n')), 3832),\n",
       " ((('profit', 'n'), ('loss', 'n')), 2164),\n",
       " ((('loss', 'n'), ('profit', 'n')), 2164),\n",
       " ((('company', 'n'), ('say', 'v')), 2109),\n",
       " ((('bank', 'n'), ('say', 'v')), 1226),\n",
       " ((('loss', 'n'), ('rev', 'n')), 1111),\n",
       " ((('rev', 'n'), ('loss', 'n')), 1111),\n",
       " ((('year', 'n'), ('last', 'a')), 1036),\n",
       " ((('corp', 'n'), ('say', 'v')), 976),\n",
       " ((('profit', 'n'), ('profit', 'n')), 946)]"
      ]
     },
     "execution_count": 79,
     "metadata": {},
     "output_type": "execute_result"
    }
   ],
   "source": [
    "filtered_cooccs_surface = Counter()\n",
    "\n",
    "for word, freq in cooccs_surface.items():\n",
    "    if word[0] in noun_fd and word[1] in filt_fd:\n",
    "        filtered_cooccs_surface[word] = freq\n",
    "\n",
    "filtered_cooccs_surface.most_common(10)"
   ]
  },
  {
   "cell_type": "markdown",
   "metadata": {},
   "source": [
    "---"
   ]
  },
  {
   "cell_type": "markdown",
   "metadata": {},
   "source": [
    "# Vector representations (60 points)"
   ]
  },
  {
   "cell_type": "markdown",
   "metadata": {},
   "source": [
    "## Question 2 (20 points)\n",
    "\n",
    "Weight the counts in the space you created for the previous question by using the following association measures on both spaces:\n",
    "\n",
    "1. One **measure of your choice** among those available in the [nltk.BigramAssocMeasures](http://www.nltk.org/howto/metrics.html#association-measures) module.\n",
    "2. The **Positive Local Mutual Information** measure (as shown in class/lab).\n",
    "\n",
    "**Possible extra**\n",
    "\n",
    "3. Also use the **smoothed ppmi measure** proposed by [Levy et al. (2015)](http://www.aclweb.org/anthology/Q15-1016). Recall that the authors proposed to smooth the ppmi by raising the context counts to the power of $\\alpha$ (where $\\alpha= 0.75$ is reported to work well). That is, if $V_c$ is the vocabulary of all the contexts in a given space and $f(c)$ is the context frequency, they proposed the following association measure:"
   ]
  },
  {
   "cell_type": "markdown",
   "metadata": {},
   "source": [
    "$$PPMI_\\alpha (w,c) = max \\left(0, \\ log_2 \\left(\\frac{p(w,c)}{p(w) \\cdot p_\\alpha(c)}\\right)  \\right) $$"
   ]
  },
  {
   "cell_type": "markdown",
   "metadata": {},
   "source": [
    "$$where: \\ \\ p_\\alpha(c) = \\frac{f(c)^\\alpha}{\\sum_{c' \\in V_c} f(c')^\\alpha}$$"
   ]
  },
  {
   "cell_type": "code",
   "execution_count": 152,
   "metadata": {},
   "outputs": [
    {
     "data": {
      "text/plain": [
       "[((('corpus', 'n'), ('christi', 'n')), 653329.0),\n",
       " ((('wk', 'v'), ('named-a', 'a')), 653329.0),\n",
       " ((('ttl-f', 'a'), ('usdaprj-g', 'a')), 593934.5454406304),\n",
       " ((('karl', 'n'), ('otto', 'n')), 581664.7434793665),\n",
       " ((('lufkin', 'n'), ('jenrette', 'n')), 559994.5713970838),\n",
       " ((('bra', 'n'), ('kanon', 'n')), 559992.8570169042),\n",
       " ((('poison', 'n'), ('pill', 'n')), 525771.6285160262),\n",
       " ((('costa', 'n'), ('rica', 'n')), 487291.86140952766),\n",
       " ((('brace', 'n'), ('jovanovich', 'n')), 435545.9997959108),\n",
       " ((('burnham', 'n'), ('lambert', 'n')), 431711.11590458115)]"
      ]
     },
     "execution_count": 152,
     "metadata": {},
     "output_type": "execute_result"
    }
   ],
   "source": [
    "# your code here\n",
    "\n",
    "from nltk.collocations import (BigramAssocMeasures as bam, \n",
    "                               BigramCollocationFinder as bcf)\n",
    "\n",
    "# search for strict bigrams (span 2)\n",
    "finder = bcf.from_words(filtered, window_size=2)\n",
    "finder.apply_freq_filter(10)\n",
    "chi_scored = finder.score_ngrams(bam.chi_sq)\n",
    "\n",
    "chi_scored[:10]"
   ]
  },
  {
   "cell_type": "code",
   "execution_count": 148,
   "metadata": {},
   "outputs": [
    {
     "data": {
      "text/plain": [
       "[((('loss', 'n'), ('loss', 'n')), 41293.756528189544),\n",
       " ((('profit', 'n'), ('loss', 'n')), 23052.940700843934),\n",
       " ((('loss', 'n'), ('profit', 'n')), 23052.940700843934),\n",
       " ((('company', 'n'), ('say', 'v')), 16820.18686030617),\n",
       " ((('loss', 'n'), ('rev', 'n')), 11428.373852315883),\n",
       " ((('rev', 'n'), ('loss', 'n')), 11428.373852315883),\n",
       " ((('year', 'n'), ('last', 'a')), 9725.836218613771),\n",
       " ((('profit', 'n'), ('profit', 'n')), 9611.772760273878),\n",
       " ((('bank', 'n'), ('say', 'v')), 9004.31507699253),\n",
       " ((('state', 'n'), ('united', 'a')), 7825.757078502919)]"
      ]
     },
     "execution_count": 148,
     "metadata": {},
     "output_type": "execute_result"
    }
   ],
   "source": [
    "from math import log\n",
    "\n",
    "def ppmi(o_11, r_1, c_1, n):\n",
    "    \"Positive Pointwise Mutual Information (Church & Hanks, 1990)\"\n",
    "    observed = o_11\n",
    "    expected = (r_1*c_1)/n \n",
    "    res = log(observed/expected,2)\n",
    "    return max(0, res)\n",
    "\n",
    "def plmi(o_11, r_1, c_1, n):\n",
    "    \"Positive Local Mutual Information, useful for leveraging the low-frequency bias of the PPMI\"\n",
    "    res = o_11 * ppmi(o_11, r_1, c_1, n)\n",
    "    return res\n",
    "\n",
    "plmis_surface = Counter()\n",
    "\n",
    "N = sum(cooccs_surface.values())\n",
    "\n",
    "for words, freq in filtered_cooccs_surface.items():\n",
    "    plmis_surface[words] = plmi(freq, freqs[words[0]], freqs[words[1]], N)\n",
    "    \n",
    "plmis_surface.most_common(10)"
   ]
  },
  {
   "cell_type": "code",
   "execution_count": 149,
   "metadata": {},
   "outputs": [
    {
     "data": {
      "text/plain": [
       "[((('het', 'n'), ('comite', 'n')), 39.14774236628333),\n",
       " ((('comite', 'n'), ('het', 'n')), 39.14774236628333),\n",
       " ((('corpus', 'n'), ('christi', 'n')), 38.72636269329684),\n",
       " ((('christi', 'n'), ('corpus', 'n')), 38.72636269329684),\n",
       " ((('pill', 'n'), ('poison', 'n')), 38.6710650014388),\n",
       " ((('poison', 'n'), ('pill', 'n')), 38.64617870882526),\n",
       " ((('lufkin', 'n'), ('jenrette', 'n')), 38.64617870882526),\n",
       " ((('jenrette', 'n'), ('lufkin', 'n')), 38.59057571801638),\n",
       " ((('siegler', 'n'), ('lear', 'a')), 38.49207628096376),\n",
       " ((('hajime', 'n'), ('tamura', 'n')), 38.436104773522466)]"
      ]
     },
     "execution_count": 149,
     "metadata": {},
     "output_type": "execute_result"
    }
   ],
   "source": [
    "def sppmi(o_11, r_1, c_1, n):\n",
    "    \"Smoothed PPMI with context counts raised to the power a = 0.75\"\n",
    "    p = c_1/n\n",
    "    a = 0.75\n",
    "    pac = (p ** a) / (p ** a + (1 - p) ** a)\n",
    "    exp = (r_1/n) * pac\n",
    "    res = log(o_11 / exp, 2)\n",
    "    return max(0, res)\n",
    "\n",
    "sppmis_surface = Counter()\n",
    "\n",
    "for words, freq in filtered_cooccs_surface.items():\n",
    "    sppmis_surface[words] = sppmi(freq, freqs[words[0]], freqs[words[1]], N)\n",
    "    \n",
    "sppmis_surface.most_common(10)"
   ]
  },
  {
   "cell_type": "markdown",
   "metadata": {},
   "source": [
    "---"
   ]
  },
  {
   "cell_type": "markdown",
   "metadata": {},
   "source": [
    "## Question 3 (20 points)\n",
    "\n",
    "Up to this point, you should have created 2 different distributional spaces (3 if you did the extra).\n",
    "\n",
    "Use **Singular Value Decomposition** to reduce their dimensionality retaining only the first 100 dimensions. For this question, you can either re-use the SVD code from the lab, or import the SVD functions from external libraries such as [sklearn](https://scikit-learn.org/stable/modules/generated/sklearn.decomposition.TruncatedSVD.html) or [scipy](https://docs.scipy.org/doc/scipy/reference/generated/scipy.linalg.svd.html).\n",
    "\n",
    "**Possible extra**\n",
    "\n",
    "Find the 'optimal' number of dimensions to retain using the approach shown in the lab. Use a model with this dimensionality instead of 100."
   ]
  },
  {
   "cell_type": "code",
   "execution_count": 165,
   "metadata": {
    "scrolled": false
   },
   "outputs": [],
   "source": [
    "# your code here\n",
    "import sklearn\n",
    "import numpy as np\n",
    "from sklearn.decomposition import TruncatedSVD\n",
    "from sklearn.metrics.pairwise import cosine_similarity\n",
    "\n",
    "# lemma to row/column index mappings\n",
    "sorted_vectors = sorted(noun_fd)\n",
    "vectors_indices = dict((v,i) for i,v in enumerate(sorted_vectors))\n",
    "contexts_indices = dict((v,i) for i,v in enumerate(sorted(filt_fd)))\n",
    "\n",
    "\n",
    "# create matrix to store PLMI values\n",
    "plmiMat = np.zeros((len(vectors_indices), len(contexts_indices)))\n",
    "for pair, weight in plmis_surface.items():\n",
    "    plmiMat[vectors_indices[pair[0]]][contexts_indices[pair[1]]] = weight\n",
    "    \n",
    "\n",
    "# create matrix to store Smoothed PPMI values\n",
    "sppmiMat = np.zeros((len(vectors_indices), len(contexts_indices)))\n",
    "for pair, weight in sppmis_surface.items():\n",
    "    sppmiMat[vectors_indices[pair[0]]][contexts_indices[pair[1]]] = weight"
   ]
  },
  {
   "cell_type": "code",
   "execution_count": 164,
   "metadata": {
    "scrolled": true
   },
   "outputs": [
    {
     "data": {
      "image/png": "[encoded data removed]",
      "text/plain": [
       "<Figure size 432x288 with 1 Axes>"
      ]
     },
     "metadata": {
      "needs_background": "light"
     },
     "output_type": "display_data"
    }
   ],
   "source": [
    "from scipy import linalg, dot\n",
    "import matplotlib.pyplot as plt\n",
    "\n",
    "U, s, Vt = linalg.svd(plmiMat)\n",
    "\n",
    "if not U[U>0].size > (U.size / 2):\n",
    "    U = -U\n",
    "    Vt = -Vt\n",
    "    \n",
    "rel_variance = ( s**2 / sum(s**2) ) * 100\n",
    "\n",
    "y_values =  rel_variance[:100] \n",
    "x_values = np.arange(len(y_values))\n",
    "\n",
    "plt.plot(x_values, y_values, linestyle = '-')\n",
    "\n",
    "plt.xlabel(\"Singular Values\", labelpad = 20)\n",
    "plt.ylabel(\"Relative Variance (%)\", labelpad = 10)\n",
    "\n",
    "plt.show()"
   ]
  },
  {
   "cell_type": "markdown",
   "metadata": {},
   "source": [
    "Judging from the above plot, the relative variance percentage really drops off between 10 and 20 dimensions.\n",
    "\n",
    "I'll stick with **20** dimensions for SVD from here on, as to make sure little information is lost"
   ]
  },
  {
   "cell_type": "code",
   "execution_count": 273,
   "metadata": {},
   "outputs": [
    {
     "name": "stdout",
     "output_type": "stream",
     "text": [
      "word vectors most similar to 'year' according to the plmi space:\n",
      "\n",
      "('month', 'n') 0.9248842642775666\n",
      "('cathay', 'n') 0.9003143348664894\n",
      "('september', 'n') 0.8878204686710206\n",
      "('autumn', 'n') 0.8875817946102142\n",
      "(\"year's\", 'n') 0.8863390215581793\n"
     ]
    }
   ],
   "source": [
    "dim = 20\n",
    "\n",
    "k = 5\n",
    "target_idx = vectors_indices[(\"year\", \"n\")] \n",
    "\n",
    "plmi_svd = TruncatedSVD(n_components=dim).fit_transform(plmiMat)\n",
    "plmi_cos_sim = cosine_similarity(plmi_svd)\n",
    "\n",
    "print(\"word vectors most similar to 'year' according to the plmi space:\\n\")\n",
    "\n",
    "for idx in plmi_cos_sim[target_idx,].argsort()[::-1][1:k+1]:\n",
    "    print(sorted_vectors[idx], plmi_cos_sim[target_idx, idx])"
   ]
  },
  {
   "cell_type": "code",
   "execution_count": 274,
   "metadata": {
    "scrolled": true
   },
   "outputs": [
    {
     "name": "stdout",
     "output_type": "stream",
     "text": [
      "word vectors most similar to 'year' according to the sppmi space:\n",
      "\n",
      "('sale', 'n') 0.9389758166785845\n",
      "('company', 'n') 0.9267187841007433\n",
      "('month', 'n') 0.9256464828241585\n",
      "('u.s', 'n') 0.9187203066849902\n",
      "('said', 'n') 0.9144199364175969\n"
     ]
    }
   ],
   "source": [
    "sppmi_svd = TruncatedSVD(n_components=dim).fit_transform(sppmiMat)\n",
    "sppmi_cos_sim = cosine_similarity(sppmi_svd)\n",
    "\n",
    "print(\"word vectors most similar to 'year' according to the sppmi space:\\n\")\n",
    "\n",
    "for idx in sppmi_cos_sim[target_idx,].argsort()[::-1][1:k+1]:\n",
    "    print(sorted_vectors[idx], sppmi_cos_sim[target_idx, idx])"
   ]
  },
  {
   "cell_type": "markdown",
   "metadata": {},
   "source": [
    "---"
   ]
  },
  {
   "cell_type": "markdown",
   "metadata": {},
   "source": [
    "## Question 4 (20 points)\n",
    "\n",
    "Train a Word2Vec model the same corpus, for example using [gensim](https://radimrehurek.com/gensim). Make sure to motivate the choice of your hyperparameters.\n",
    "\n",
    "**Possible extra**\n",
    "\n",
    "*Fine-tuning* is the process of starting from a pre-trained embedding model and training it some more using new data. Try to use a pre-trained model from gensim and to fine-tune it on the Reuters corpus."
   ]
  },
  {
   "cell_type": "code",
   "execution_count": 109,
   "metadata": {},
   "outputs": [],
   "source": [
    "# your code here\n",
    "from gensim.models import Word2Vec\n",
    "import gensim.downloader as api\n",
    "wv = api.load('glove-wiki-gigaword-100')"
   ]
  },
  {
   "cell_type": "code",
   "execution_count": 211,
   "metadata": {},
   "outputs": [
    {
     "name": "stdout",
     "output_type": "stream",
     "text": [
      "Word2Vec(vocab=11401, vector_size=100, alpha=0.12)\n"
     ]
    }
   ],
   "source": [
    "parameters = {\n",
    "    'vector_size': 100, # same size as other spaces\n",
    "    'alpha': 0.12, # initial learning rate for SGD - seems to produce best results\n",
    "    'window': 5, # same collocation span as before\n",
    "    'min_count': 5, # only take words with frequency > 5\n",
    "    'workers': 4, # cpu cores\n",
    "    'sg': 1, # implements skip-gram\n",
    "    'epochs': 5 # iterations - 5 seemed reasonable\n",
    "}\n",
    "\n",
    "untagged_sents = []\n",
    "for sent in lem_sents:\n",
    "    untagged_sents.append([word for word, tag in sent])\n",
    "\n",
    "# creating Word2Vec space for the list of untagged lemmatized sentences\n",
    "lemma_w2v = Word2Vec(untagged_sents, **parameters)\n",
    "print(lemma_w2v)"
   ]
  },
  {
   "cell_type": "code",
   "execution_count": 218,
   "metadata": {},
   "outputs": [
    {
     "name": "stdout",
     "output_type": "stream",
     "text": [
      "Word2Vec(vocab=55520, vector_size=100, alpha=0.025)\n"
     ]
    }
   ],
   "source": [
    "# fine-tuning pretrained model onto the reuters corpus\n",
    "tuned_w2v = Word2Vec(vector_size=100, min_count=1)\n",
    "tuned_w2v.build_vocab(untagged_sents)\n",
    "\n",
    "tuned_w2v.build_vocab(list(wv.index_to_key), update=True)\n",
    "tuned_w2v.train(untagged_sents, total_examples=tuned_w2v.corpus_count, epochs=tuned_w2v.epochs)\n",
    "print(tuned_w2v)"
   ]
  },
  {
   "cell_type": "code",
   "execution_count": 220,
   "metadata": {},
   "outputs": [
    {
     "data": {
      "text/plain": [
       "[('said', 0.6938016414642334),\n",
       " ('have', 0.6766988635063171),\n",
       " ('also', 0.665836751461029),\n",
       " ('the', 0.6245516538619995),\n",
       " ('be', 0.6065378785133362),\n",
       " ('add', 0.5915255546569824),\n",
       " ('that', 0.5855926871299744),\n",
       " ('tell', 0.5822742581367493),\n",
       " ('it', 0.5718165040016174),\n",
       " ('however', 0.5317421555519104)]"
      ]
     },
     "execution_count": 220,
     "metadata": {},
     "output_type": "execute_result"
    }
   ],
   "source": [
    "tuned_w2v.wv.most_similar([\"say\"])"
   ]
  },
  {
   "cell_type": "markdown",
   "metadata": {},
   "source": [
    "---"
   ]
  },
  {
   "cell_type": "markdown",
   "metadata": {},
   "source": [
    "# Evaluating on semantic similarity (20 points)"
   ]
  },
  {
   "cell_type": "markdown",
   "metadata": {
    "collapsed": true
   },
   "source": [
    "## Question 5 (20 points)\n",
    "\n",
    "Evaluate the performance of your models on a **semantic similarity task**. Using `SimLex-999` as gold standard. Evaluate all of your models on the dataset in `data/SimLex-999.txt`, and determine the best performing model. Note: There should be 5 to 8 model evaluations in total. 5 if you did not do any extra (2 from 4.1 + 2 from 4.2 + 1 from 4.3), and 8 if you did them all (3 from 4.1 + 3 from 4.2 + 2 from 4.3).\n",
    "\n",
    "1. Your evaluation should follow the approach shown in lab 4 (Section 1.6: \"Evaluating your Model\"), using a **correlation measure** on model predictions and the (human) gold standard. \n",
    "2. Remember to **visualize** your results (e.g., as bar plots).\n",
    "3. Take note (and report) the overlap between your models and the SimLex-999 dataset, i.e., how many pairs are shared by your model and the evaluation dataset.\n",
    "4. Make sure to discuss your results and provide your reasoning on them.\n",
    "\n",
    "### Remarks\n",
    "\n",
    "- The 'SimLex-999' dataset is described in `data/SimLex-999.README.txt`, and [the author's github page](https://fh295.github.io/simlex.html). Hint: the relevant judgements are those in the `SimLex999` column.\n",
    "- To directly compare the models against the gold standard, you will have to find the *overlap* between them, i.e. the pairs that occur in your model *and* the evaluation dataset."
   ]
  },
  {
   "cell_type": "code",
   "execution_count": 112,
   "metadata": {},
   "outputs": [
    {
     "name": "stdout",
     "output_type": "stream",
     "text": [
      "['word1', 'word2', 'POS', 'SimLex999', 'conc(w1)', 'conc(w2)', 'concQ', 'Assoc(USF)', 'SimAssoc333', 'SD(SimLex)']\n",
      "['old', 'new', 'A', '1.58', '2.72', '2.81', '2', '7.25', '1', '0.41']\n",
      "['smart', 'intelligent', 'A', '9.2', '1.75', '2.46', '1', '7.11', '1', '0.67']\n",
      "['hard', 'difficult', 'A', '8.77', '3.76', '2.21', '2', '5.94', '1', '1.19']\n",
      "['happy', 'cheerful', 'A', '9.55', '2.56', '2.34', '1', '5.85', '1', '2.18']\n",
      "['hard', 'easy', 'A', '0.95', '3.76', '2.07', '2', '5.82', '1', '0.93']\n",
      "['fast', 'rapid', 'A', '8.75', '3.32', '3.07', '2', '5.66', '1', '1.68']\n",
      "['happy', 'glad', 'A', '9.17', '2.56', '2.36', '1', '5.49', '1', '1.59']\n",
      "['short', 'long', 'A', '1.23', '3.61', '3.18', '2', '5.36', '1', '1.58']\n",
      "['stupid', 'dumb', 'A', '9.58', '1.75', '2.36', '1', '5.26', '1', '1.48']\n",
      "['weird', 'strange', 'A', '8.93', '1.59', '1.86', '1', '4.26', '1', '1.3']\n",
      "['wide', 'narrow', 'A', '1.03', '3.06', '3.04', '2', '4.06', '1', '0.58']\n"
     ]
    }
   ],
   "source": [
    "with open(\"data/SimLex-999.txt\") as f:\n",
    "    for n, line in enumerate(f.read().split(\"\\n\")):\n",
    "        items = line.split(\"\\t\")\n",
    "        print(items)\n",
    "        if n>10:\n",
    "            break"
   ]
  },
  {
   "cell_type": "code",
   "execution_count": 275,
   "metadata": {
    "scrolled": false
   },
   "outputs": [
    {
     "data": {
      "text/html": [
       "<div>\n",
       "<style scoped>\n",
       "    .dataframe tbody tr th:only-of-type {\n",
       "        vertical-align: middle;\n",
       "    }\n",
       "\n",
       "    .dataframe tbody tr th {\n",
       "        vertical-align: top;\n",
       "    }\n",
       "\n",
       "    .dataframe thead th {\n",
       "        text-align: right;\n",
       "    }\n",
       "</style>\n",
       "<table border=\"1\" class=\"dataframe\">\n",
       "  <thead>\n",
       "    <tr style=\"text-align: right;\">\n",
       "      <th></th>\n",
       "      <th>word1</th>\n",
       "      <th>word2</th>\n",
       "      <th>SimLex999</th>\n",
       "    </tr>\n",
       "  </thead>\n",
       "  <tbody>\n",
       "    <tr>\n",
       "      <th>1</th>\n",
       "      <td>old</td>\n",
       "      <td>new</td>\n",
       "      <td>1.58</td>\n",
       "    </tr>\n",
       "    <tr>\n",
       "      <th>2</th>\n",
       "      <td>smart</td>\n",
       "      <td>intelligent</td>\n",
       "      <td>9.2</td>\n",
       "    </tr>\n",
       "    <tr>\n",
       "      <th>3</th>\n",
       "      <td>hard</td>\n",
       "      <td>difficult</td>\n",
       "      <td>8.77</td>\n",
       "    </tr>\n",
       "    <tr>\n",
       "      <th>4</th>\n",
       "      <td>happy</td>\n",
       "      <td>cheerful</td>\n",
       "      <td>9.55</td>\n",
       "    </tr>\n",
       "    <tr>\n",
       "      <th>5</th>\n",
       "      <td>hard</td>\n",
       "      <td>easy</td>\n",
       "      <td>0.95</td>\n",
       "    </tr>\n",
       "    <tr>\n",
       "      <th>...</th>\n",
       "      <td>...</td>\n",
       "      <td>...</td>\n",
       "      <td>...</td>\n",
       "    </tr>\n",
       "    <tr>\n",
       "      <th>995</th>\n",
       "      <td>join</td>\n",
       "      <td>acquire</td>\n",
       "      <td>2.85</td>\n",
       "    </tr>\n",
       "    <tr>\n",
       "      <th>996</th>\n",
       "      <td>send</td>\n",
       "      <td>attend</td>\n",
       "      <td>1.67</td>\n",
       "    </tr>\n",
       "    <tr>\n",
       "      <th>997</th>\n",
       "      <td>gather</td>\n",
       "      <td>attend</td>\n",
       "      <td>4.8</td>\n",
       "    </tr>\n",
       "    <tr>\n",
       "      <th>998</th>\n",
       "      <td>absorb</td>\n",
       "      <td>withdraw</td>\n",
       "      <td>2.97</td>\n",
       "    </tr>\n",
       "    <tr>\n",
       "      <th>999</th>\n",
       "      <td>attend</td>\n",
       "      <td>arrive</td>\n",
       "      <td>6.08</td>\n",
       "    </tr>\n",
       "  </tbody>\n",
       "</table>\n",
       "<p>999 rows × 3 columns</p>\n",
       "</div>"
      ],
      "text/plain": [
       "      word1        word2 SimLex999\n",
       "1       old          new      1.58\n",
       "2     smart  intelligent       9.2\n",
       "3      hard    difficult      8.77\n",
       "4     happy     cheerful      9.55\n",
       "5      hard         easy      0.95\n",
       "..      ...          ...       ...\n",
       "995    join      acquire      2.85\n",
       "996    send       attend      1.67\n",
       "997  gather       attend       4.8\n",
       "998  absorb     withdraw      2.97\n",
       "999  attend       arrive      6.08\n",
       "\n",
       "[999 rows x 3 columns]"
      ]
     },
     "execution_count": 275,
     "metadata": {},
     "output_type": "execute_result"
    }
   ],
   "source": [
    "# your code here\n",
    "\n",
    "import pandas as pd\n",
    "\n",
    "sim_array = []\n",
    "\n",
    "with open(\"data/SimLex-999.txt\") as f:\n",
    "    lines = f.read().split(\"\\n\")\n",
    "    for line in lines:\n",
    "        sim_array.append(line.split(\"\\t\"))\n",
    "    \n",
    "# organising data to make it easy to compare to later\n",
    "df = pd.DataFrame(sim_array, columns=(sim_array[0])).drop(index=[0,1000])\n",
    "\n",
    "# dropping redundant columns from the data\n",
    "df = df.drop(columns=['POS', 'conc(w1)', 'conc(w2)', 'concQ','Assoc(USF)', 'SimAssoc333', 'SD(SimLex)'])\n",
    "df"
   ]
  },
  {
   "cell_type": "code",
   "execution_count": 236,
   "metadata": {},
   "outputs": [
    {
     "data": {
      "text/plain": [
       "[('dollar', 'people', 8.24),\n",
       " ('tin', 'metal', 8.52),\n",
       " ('business', 'company', 9.06),\n",
       " ('tax', 'income', 8.44),\n",
       " ('pact', 'agreement', 9.39),\n",
       " ('money', 'capital', 5.26),\n",
       " ('home', 'state', 2.1),\n",
       " ('fee', 'payment', 5.09),\n",
       " ('business', 'industry', 9.57),\n",
       " ('cereal', 'wheat', 8.88)]"
      ]
     },
     "execution_count": 236,
     "metadata": {},
     "output_type": "execute_result"
    }
   ],
   "source": [
    "# the next two functions are horribly inefficient but they work and I didn't have time to re-write\n",
    "\n",
    "plmi_overlaps = []\n",
    "\n",
    "for pair, score in plmis_surface.items():\n",
    "    new_pair = (pair[0][0], pair[1][0])\n",
    "    if new_pair in list(zip(df[\"word1\"], df[\"word2\"])):\n",
    "        try:\n",
    "            sim = plmi_cos_sim[vectors_indices[pair[0]], vectors_indices[pair[1]]]\n",
    "            plmi_overlaps.append((pair[0][0], pair[1][0], round(10 * sim, 2)))\n",
    "        except KeyError:\n",
    "            pass\n",
    "        \n",
    "plmi_overlaps[:10]"
   ]
  },
  {
   "cell_type": "code",
   "execution_count": 239,
   "metadata": {},
   "outputs": [
    {
     "data": {
      "text/plain": [
       "[('dollar', 'people', 8.16),\n",
       " ('tin', 'metal', 8.38),\n",
       " ('business', 'company', 8.92),\n",
       " ('tax', 'income', 9.09),\n",
       " ('pact', 'agreement', 9.16),\n",
       " ('money', 'capital', 8.73),\n",
       " ('home', 'state', 8.11),\n",
       " ('fee', 'payment', 8.69),\n",
       " ('business', 'industry', 9.46),\n",
       " ('cereal', 'wheat', 8.61)]"
      ]
     },
     "execution_count": 239,
     "metadata": {},
     "output_type": "execute_result"
    }
   ],
   "source": [
    "sppmi_overlaps = []\n",
    "\n",
    "for pair, score in sppmis_surface.items():\n",
    "    new_pair = (pair[0][0], pair[1][0])\n",
    "    if new_pair in list(zip(df[\"word1\"], df[\"word2\"])):\n",
    "        try:\n",
    "            sim = sppmi_cos_sim[vectors_indices[pair[0]], vectors_indices[pair[1]]]\n",
    "            sppmi_overlaps.append((pair[0][0], pair[1][0], round(10 * sim, 2)))\n",
    "        except KeyError:\n",
    "            pass\n",
    "        \n",
    "sppmi_overlaps[:10]"
   ]
  },
  {
   "cell_type": "code",
   "execution_count": 244,
   "metadata": {},
   "outputs": [
    {
     "data": {
      "text/plain": [
       "[('nice', 'generous', 2.58),\n",
       " ('confident', 'sure', 4.99),\n",
       " ('large', 'big', 6.86),\n",
       " ('big', 'broad', 0.9),\n",
       " ('unnecessary', 'necessary', 3.53)]"
      ]
     },
     "execution_count": 244,
     "metadata": {},
     "output_type": "execute_result"
    }
   ],
   "source": [
    "# much more efficient\n",
    "\n",
    "w2v_overlaps = []\n",
    "for w1, w2 in list(zip(df[\"word1\"], df[\"word2\"])):\n",
    "    if w1 in lemma_w2v.wv and w2 in lemma_w2v.wv:\n",
    "        w2v_overlaps.append((w1, w2, round(10 * lemma_w2v.wv.similarity(w1, w2), 2)))\n",
    "        \n",
    "w2v_overlaps[20:25]"
   ]
  },
  {
   "cell_type": "code",
   "execution_count": 245,
   "metadata": {},
   "outputs": [
    {
     "data": {
      "text/plain": [
       "[('impatient', 'anxious', 5.85),\n",
       " ('big', 'broad', 3.55),\n",
       " ('strong', 'proud', 3.07),\n",
       " ('unnecessary', 'necessary', 7.01),\n",
       " ('bad', 'great', 6.73)]"
      ]
     },
     "execution_count": 245,
     "metadata": {},
     "output_type": "execute_result"
    }
   ],
   "source": [
    "tuned_w2v_overlaps = []\n",
    "for w1, w2 in list(zip(df[\"word1\"], df[\"word2\"])):\n",
    "    if w1 in tuned_w2v.wv and w2 in tuned_w2v.wv:\n",
    "        tuned_w2v_overlaps.append((w1, w2, round(10 * tuned_w2v.wv.similarity(w1, w2), 2)))\n",
    "        \n",
    "tuned_w2v_overlaps[30:35]"
   ]
  },
  {
   "cell_type": "code",
   "execution_count": 263,
   "metadata": {},
   "outputs": [
    {
     "data": {
      "text/html": [
       "<div>\n",
       "<style scoped>\n",
       "    .dataframe tbody tr th:only-of-type {\n",
       "        vertical-align: middle;\n",
       "    }\n",
       "\n",
       "    .dataframe tbody tr th {\n",
       "        vertical-align: top;\n",
       "    }\n",
       "\n",
       "    .dataframe thead th {\n",
       "        text-align: right;\n",
       "    }\n",
       "</style>\n",
       "<table border=\"1\" class=\"dataframe\">\n",
       "  <thead>\n",
       "    <tr style=\"text-align: right;\">\n",
       "      <th></th>\n",
       "      <th>word1</th>\n",
       "      <th>word2</th>\n",
       "      <th>SimLex999</th>\n",
       "      <th>PLMI Space</th>\n",
       "      <th>Smoothed PPMI</th>\n",
       "      <th>Lemma W2V</th>\n",
       "      <th>Fine-Tuned W2V</th>\n",
       "    </tr>\n",
       "  </thead>\n",
       "  <tbody>\n",
       "    <tr>\n",
       "      <th>115</th>\n",
       "      <td>south</td>\n",
       "      <td>north</td>\n",
       "      <td>2.2</td>\n",
       "      <td>7.09</td>\n",
       "      <td>9.42</td>\n",
       "      <td>4.84</td>\n",
       "      <td>6.61</td>\n",
       "    </tr>\n",
       "    <tr>\n",
       "      <th>134</th>\n",
       "      <td>area</td>\n",
       "      <td>region</td>\n",
       "      <td>9.47</td>\n",
       "      <td>9.36</td>\n",
       "      <td>8.97</td>\n",
       "      <td>5.46</td>\n",
       "      <td>7.85</td>\n",
       "    </tr>\n",
       "    <tr>\n",
       "      <th>135</th>\n",
       "      <td>navy</td>\n",
       "      <td>army</td>\n",
       "      <td>6.43</td>\n",
       "      <td>8.80</td>\n",
       "      <td>9.11</td>\n",
       "      <td>5.95</td>\n",
       "      <td>8.17</td>\n",
       "    </tr>\n",
       "    <tr>\n",
       "      <th>171</th>\n",
       "      <td>tax</td>\n",
       "      <td>income</td>\n",
       "      <td>2.38</td>\n",
       "      <td>8.44</td>\n",
       "      <td>9.09</td>\n",
       "      <td>4.90</td>\n",
       "      <td>5.06</td>\n",
       "    </tr>\n",
       "    <tr>\n",
       "      <th>174</th>\n",
       "      <td>floor</td>\n",
       "      <td>ceiling</td>\n",
       "      <td>1.73</td>\n",
       "      <td>8.26</td>\n",
       "      <td>8.64</td>\n",
       "      <td>2.72</td>\n",
       "      <td>4.31</td>\n",
       "    </tr>\n",
       "    <tr>\n",
       "      <th>195</th>\n",
       "      <td>business</td>\n",
       "      <td>industry</td>\n",
       "      <td>7.02</td>\n",
       "      <td>9.57</td>\n",
       "      <td>9.46</td>\n",
       "      <td>3.31</td>\n",
       "      <td>4.86</td>\n",
       "    </tr>\n",
       "    <tr>\n",
       "      <th>196</th>\n",
       "      <td>winter</td>\n",
       "      <td>season</td>\n",
       "      <td>6.27</td>\n",
       "      <td>8.86</td>\n",
       "      <td>9.45</td>\n",
       "      <td>4.98</td>\n",
       "      <td>7.83</td>\n",
       "    </tr>\n",
       "    <tr>\n",
       "      <th>200</th>\n",
       "      <td>window</td>\n",
       "      <td>door</td>\n",
       "      <td>3.33</td>\n",
       "      <td>3.34</td>\n",
       "      <td>6.29</td>\n",
       "      <td>2.78</td>\n",
       "      <td>2.46</td>\n",
       "    </tr>\n",
       "    <tr>\n",
       "      <th>228</th>\n",
       "      <td>metal</td>\n",
       "      <td>aluminum</td>\n",
       "      <td>7.25</td>\n",
       "      <td>8.73</td>\n",
       "      <td>9.40</td>\n",
       "      <td>4.25</td>\n",
       "      <td>7.54</td>\n",
       "    </tr>\n",
       "    <tr>\n",
       "      <th>234</th>\n",
       "      <td>attorney</td>\n",
       "      <td>lawyer</td>\n",
       "      <td>9.35</td>\n",
       "      <td>9.90</td>\n",
       "      <td>9.14</td>\n",
       "      <td>5.53</td>\n",
       "      <td>8.89</td>\n",
       "    </tr>\n",
       "    <tr>\n",
       "      <th>236</th>\n",
       "      <td>business</td>\n",
       "      <td>company</td>\n",
       "      <td>9.02</td>\n",
       "      <td>9.06</td>\n",
       "      <td>8.92</td>\n",
       "      <td>2.70</td>\n",
       "      <td>6.10</td>\n",
       "    </tr>\n",
       "    <tr>\n",
       "      <th>239</th>\n",
       "      <td>money</td>\n",
       "      <td>capital</td>\n",
       "      <td>6.67</td>\n",
       "      <td>5.26</td>\n",
       "      <td>8.73</td>\n",
       "      <td>2.55</td>\n",
       "      <td>4.53</td>\n",
       "    </tr>\n",
       "    <tr>\n",
       "      <th>259</th>\n",
       "      <td>cereal</td>\n",
       "      <td>wheat</td>\n",
       "      <td>3.75</td>\n",
       "      <td>8.88</td>\n",
       "      <td>8.61</td>\n",
       "      <td>4.79</td>\n",
       "      <td>7.27</td>\n",
       "    </tr>\n",
       "    <tr>\n",
       "      <th>260</th>\n",
       "      <td>house</td>\n",
       "      <td>key</td>\n",
       "      <td>1.9</td>\n",
       "      <td>8.33</td>\n",
       "      <td>7.90</td>\n",
       "      <td>3.49</td>\n",
       "      <td>5.81</td>\n",
       "    </tr>\n",
       "    <tr>\n",
       "      <th>311</th>\n",
       "      <td>disc</td>\n",
       "      <td>computer</td>\n",
       "      <td>3.2</td>\n",
       "      <td>7.77</td>\n",
       "      <td>7.64</td>\n",
       "      <td>4.94</td>\n",
       "      <td>6.68</td>\n",
       "    </tr>\n",
       "    <tr>\n",
       "      <th>325</th>\n",
       "      <td>worker</td>\n",
       "      <td>employer</td>\n",
       "      <td>5.37</td>\n",
       "      <td>8.34</td>\n",
       "      <td>8.80</td>\n",
       "      <td>5.52</td>\n",
       "      <td>7.42</td>\n",
       "    </tr>\n",
       "    <tr>\n",
       "      <th>334</th>\n",
       "      <td>weekend</td>\n",
       "      <td>week</td>\n",
       "      <td>4</td>\n",
       "      <td>7.65</td>\n",
       "      <td>8.44</td>\n",
       "      <td>4.12</td>\n",
       "      <td>5.99</td>\n",
       "    </tr>\n",
       "    <tr>\n",
       "      <th>340</th>\n",
       "      <td>bean</td>\n",
       "      <td>coffee</td>\n",
       "      <td>5.15</td>\n",
       "      <td>8.97</td>\n",
       "      <td>8.09</td>\n",
       "      <td>4.51</td>\n",
       "      <td>7.31</td>\n",
       "    </tr>\n",
       "    <tr>\n",
       "      <th>352</th>\n",
       "      <td>pact</td>\n",
       "      <td>agreement</td>\n",
       "      <td>9.02</td>\n",
       "      <td>9.39</td>\n",
       "      <td>9.16</td>\n",
       "      <td>7.01</td>\n",
       "      <td>7.83</td>\n",
       "    </tr>\n",
       "    <tr>\n",
       "      <th>367</th>\n",
       "      <td>august</td>\n",
       "      <td>month</td>\n",
       "      <td>5.53</td>\n",
       "      <td>8.95</td>\n",
       "      <td>8.13</td>\n",
       "      <td>3.16</td>\n",
       "      <td>5.42</td>\n",
       "    </tr>\n",
       "    <tr>\n",
       "      <th>381</th>\n",
       "      <td>cattle</td>\n",
       "      <td>beef</td>\n",
       "      <td>7.03</td>\n",
       "      <td>8.41</td>\n",
       "      <td>8.74</td>\n",
       "      <td>4.10</td>\n",
       "      <td>7.93</td>\n",
       "    </tr>\n",
       "    <tr>\n",
       "      <th>385</th>\n",
       "      <td>corporation</td>\n",
       "      <td>business</td>\n",
       "      <td>9.02</td>\n",
       "      <td>7.75</td>\n",
       "      <td>7.77</td>\n",
       "      <td>1.53</td>\n",
       "      <td>3.71</td>\n",
       "    </tr>\n",
       "    <tr>\n",
       "      <th>430</th>\n",
       "      <td>danger</td>\n",
       "      <td>threat</td>\n",
       "      <td>8.78</td>\n",
       "      <td>9.09</td>\n",
       "      <td>8.97</td>\n",
       "      <td>5.16</td>\n",
       "      <td>7.98</td>\n",
       "    </tr>\n",
       "    <tr>\n",
       "      <th>445</th>\n",
       "      <td>day</td>\n",
       "      <td>morning</td>\n",
       "      <td>4.87</td>\n",
       "      <td>4.67</td>\n",
       "      <td>8.93</td>\n",
       "      <td>2.05</td>\n",
       "      <td>5.39</td>\n",
       "    </tr>\n",
       "    <tr>\n",
       "      <th>477</th>\n",
       "      <td>attention</td>\n",
       "      <td>interest</td>\n",
       "      <td>7.22</td>\n",
       "      <td>2.85</td>\n",
       "      <td>7.49</td>\n",
       "      <td>1.76</td>\n",
       "      <td>3.54</td>\n",
       "    </tr>\n",
       "    <tr>\n",
       "      <th>482</th>\n",
       "      <td>medium</td>\n",
       "      <td>news</td>\n",
       "      <td>3.65</td>\n",
       "      <td>5.44</td>\n",
       "      <td>7.40</td>\n",
       "      <td>0.87</td>\n",
       "      <td>-0.93</td>\n",
       "    </tr>\n",
       "    <tr>\n",
       "      <th>485</th>\n",
       "      <td>fee</td>\n",
       "      <td>payment</td>\n",
       "      <td>7.15</td>\n",
       "      <td>5.09</td>\n",
       "      <td>8.69</td>\n",
       "      <td>2.77</td>\n",
       "      <td>4.84</td>\n",
       "    </tr>\n",
       "    <tr>\n",
       "      <th>540</th>\n",
       "      <td>river</td>\n",
       "      <td>sea</td>\n",
       "      <td>5.72</td>\n",
       "      <td>7.03</td>\n",
       "      <td>9.09</td>\n",
       "      <td>2.70</td>\n",
       "      <td>7.74</td>\n",
       "    </tr>\n",
       "    <tr>\n",
       "      <th>559</th>\n",
       "      <td>job</td>\n",
       "      <td>management</td>\n",
       "      <td>3.97</td>\n",
       "      <td>6.73</td>\n",
       "      <td>7.81</td>\n",
       "      <td>3.42</td>\n",
       "      <td>2.35</td>\n",
       "    </tr>\n",
       "    <tr>\n",
       "      <th>596</th>\n",
       "      <td>action</td>\n",
       "      <td>course</td>\n",
       "      <td>5.45</td>\n",
       "      <td>9.05</td>\n",
       "      <td>8.07</td>\n",
       "      <td>3.58</td>\n",
       "      <td>7.50</td>\n",
       "    </tr>\n",
       "    <tr>\n",
       "      <th>601</th>\n",
       "      <td>home</td>\n",
       "      <td>state</td>\n",
       "      <td>2.58</td>\n",
       "      <td>2.10</td>\n",
       "      <td>8.11</td>\n",
       "      <td>1.32</td>\n",
       "      <td>1.79</td>\n",
       "    </tr>\n",
       "    <tr>\n",
       "      <th>604</th>\n",
       "      <td>newspaper</td>\n",
       "      <td>information</td>\n",
       "      <td>5.65</td>\n",
       "      <td>9.70</td>\n",
       "      <td>8.51</td>\n",
       "      <td>2.65</td>\n",
       "      <td>4.47</td>\n",
       "    </tr>\n",
       "    <tr>\n",
       "      <th>605</th>\n",
       "      <td>communication</td>\n",
       "      <td>television</td>\n",
       "      <td>5.6</td>\n",
       "      <td>8.37</td>\n",
       "      <td>9.58</td>\n",
       "      <td>5.31</td>\n",
       "      <td>8.11</td>\n",
       "    </tr>\n",
       "    <tr>\n",
       "      <th>672</th>\n",
       "      <td>tin</td>\n",
       "      <td>metal</td>\n",
       "      <td>5.63</td>\n",
       "      <td>8.52</td>\n",
       "      <td>8.38</td>\n",
       "      <td>3.36</td>\n",
       "      <td>5.09</td>\n",
       "    </tr>\n",
       "    <tr>\n",
       "      <th>684</th>\n",
       "      <td>snow</td>\n",
       "      <td>storm</td>\n",
       "      <td>4.8</td>\n",
       "      <td>8.92</td>\n",
       "      <td>9.27</td>\n",
       "      <td>6.32</td>\n",
       "      <td>7.58</td>\n",
       "    </tr>\n",
       "    <tr>\n",
       "      <th>711</th>\n",
       "      <td>pact</td>\n",
       "      <td>condition</td>\n",
       "      <td>2.45</td>\n",
       "      <td>7.49</td>\n",
       "      <td>8.06</td>\n",
       "      <td>2.17</td>\n",
       "      <td>4.94</td>\n",
       "    </tr>\n",
       "    <tr>\n",
       "      <th>771</th>\n",
       "      <td>dollar</td>\n",
       "      <td>people</td>\n",
       "      <td>0.4</td>\n",
       "      <td>8.24</td>\n",
       "      <td>8.16</td>\n",
       "      <td>2.30</td>\n",
       "      <td>3.85</td>\n",
       "    </tr>\n",
       "  </tbody>\n",
       "</table>\n",
       "</div>"
      ],
      "text/plain": [
       "             word1        word2 SimLex999  PLMI Space  Smoothed PPMI  \\\n",
       "115          south        north       2.2        7.09           9.42   \n",
       "134           area       region      9.47        9.36           8.97   \n",
       "135           navy         army      6.43        8.80           9.11   \n",
       "171            tax       income      2.38        8.44           9.09   \n",
       "174          floor      ceiling      1.73        8.26           8.64   \n",
       "195       business     industry      7.02        9.57           9.46   \n",
       "196         winter       season      6.27        8.86           9.45   \n",
       "200         window         door      3.33        3.34           6.29   \n",
       "228          metal     aluminum      7.25        8.73           9.40   \n",
       "234       attorney       lawyer      9.35        9.90           9.14   \n",
       "236       business      company      9.02        9.06           8.92   \n",
       "239          money      capital      6.67        5.26           8.73   \n",
       "259         cereal        wheat      3.75        8.88           8.61   \n",
       "260          house          key       1.9        8.33           7.90   \n",
       "311           disc     computer       3.2        7.77           7.64   \n",
       "325         worker     employer      5.37        8.34           8.80   \n",
       "334        weekend         week         4        7.65           8.44   \n",
       "340           bean       coffee      5.15        8.97           8.09   \n",
       "352           pact    agreement      9.02        9.39           9.16   \n",
       "367         august        month      5.53        8.95           8.13   \n",
       "381         cattle         beef      7.03        8.41           8.74   \n",
       "385    corporation     business      9.02        7.75           7.77   \n",
       "430         danger       threat      8.78        9.09           8.97   \n",
       "445            day      morning      4.87        4.67           8.93   \n",
       "477      attention     interest      7.22        2.85           7.49   \n",
       "482         medium         news      3.65        5.44           7.40   \n",
       "485            fee      payment      7.15        5.09           8.69   \n",
       "540          river          sea      5.72        7.03           9.09   \n",
       "559            job   management      3.97        6.73           7.81   \n",
       "596         action       course      5.45        9.05           8.07   \n",
       "601           home        state      2.58        2.10           8.11   \n",
       "604      newspaper  information      5.65        9.70           8.51   \n",
       "605  communication   television       5.6        8.37           9.58   \n",
       "672            tin        metal      5.63        8.52           8.38   \n",
       "684           snow        storm       4.8        8.92           9.27   \n",
       "711           pact    condition      2.45        7.49           8.06   \n",
       "771         dollar       people       0.4        8.24           8.16   \n",
       "\n",
       "     Lemma W2V  Fine-Tuned W2V  \n",
       "115       4.84            6.61  \n",
       "134       5.46            7.85  \n",
       "135       5.95            8.17  \n",
       "171       4.90            5.06  \n",
       "174       2.72            4.31  \n",
       "195       3.31            4.86  \n",
       "196       4.98            7.83  \n",
       "200       2.78            2.46  \n",
       "228       4.25            7.54  \n",
       "234       5.53            8.89  \n",
       "236       2.70            6.10  \n",
       "239       2.55            4.53  \n",
       "259       4.79            7.27  \n",
       "260       3.49            5.81  \n",
       "311       4.94            6.68  \n",
       "325       5.52            7.42  \n",
       "334       4.12            5.99  \n",
       "340       4.51            7.31  \n",
       "352       7.01            7.83  \n",
       "367       3.16            5.42  \n",
       "381       4.10            7.93  \n",
       "385       1.53            3.71  \n",
       "430       5.16            7.98  \n",
       "445       2.05            5.39  \n",
       "477       1.76            3.54  \n",
       "482       0.87           -0.93  \n",
       "485       2.77            4.84  \n",
       "540       2.70            7.74  \n",
       "559       3.42            2.35  \n",
       "596       3.58            7.50  \n",
       "601       1.32            1.79  \n",
       "604       2.65            4.47  \n",
       "605       5.31            8.11  \n",
       "672       3.36            5.09  \n",
       "684       6.32            7.58  \n",
       "711       2.17            4.94  \n",
       "771       2.30            3.85  "
      ]
     },
     "execution_count": 263,
     "metadata": {},
     "output_type": "execute_result"
    }
   ],
   "source": [
    "# creating dataframes for each space and merging into one\n",
    "\n",
    "plmi_df = pd.DataFrame(plmi_overlaps, columns=[\"word1\", \"word2\", \"PLMI Space\"])\n",
    "sppmi_df = pd.DataFrame(sppmi_overlaps, columns=[\"word1\", \"word2\", \"Smoothed PPMI\"])\n",
    "w2v_df = pd.DataFrame(w2v_overlaps, columns=[\"word1\", \"word2\", \"Lemma W2V\"])\n",
    "tuned_df = pd.DataFrame(tuned_w2v_overlaps, columns=[\"word1\", \"word2\", \"Fine-Tuned W2V\"])\n",
    "\n",
    "merged = pd.merge(df, plmi_df, how=\"left\", on=[\"word1\", \"word2\"])\n",
    "merged = pd.merge(merged, sppmi_df, how=\"left\", on=[\"word1\", \"word2\"])\n",
    "merged = pd.merge(merged, w2v_df, how=\"left\", on=[\"word1\", \"word2\"])\n",
    "merged = pd.merge(merged, tuned_df, how=\"left\", on=[\"word1\", \"word2\"])\n",
    "\n",
    "disp = merged.dropna(subset=['PLMI Space', 'Smoothed PPMI',], thresh=2)\n",
    "disp"
   ]
  },
  {
   "cell_type": "markdown",
   "metadata": {},
   "source": [
    "Clearly, many of the results provided by the PLMI measure are quite different to the human gold standard. This could be due to the relatively low size of the reuters corpus, as well as the lack of range in its vocabulary. \n",
    "\n",
    "The **Smoothed PPMI** space seems to give results closer to that of **SimLex999**, but tends to rate antonyms more closely than SimLex does, perhaps because they appear in similar contexts.\n",
    "\n",
    "There are only 37 pairs of words that appear in both spaces, which is a tiny portion of the SimLex dataset.\n",
    "\n",
    "However, both of the word2vec spaces overlap with more than **70%** of the SimLex data, providing many more useful insights.\n",
    "\n",
    "Above I display only the **37** words which appear in all the spaces, but the rest are accessible in `merged`"
   ]
  },
  {
   "cell_type": "code",
   "execution_count": 276,
   "metadata": {},
   "outputs": [
    {
     "name": "stdout",
     "output_type": "stream",
     "text": [
      "[0.13388256246422825, 0.13365393315276552, 0.15418280774238294, 0.15135564131845616]\n"
     ]
    }
   ],
   "source": [
    "from scipy.stats import spearmanr\n",
    "\n",
    "rhos = []\n",
    "for space in merged.columns[3:]:\n",
    "    \n",
    "    rho, pval = spearmanr(merged[\"SimLex999\"], merged[space])\n",
    "    rhos.append(rho)\n",
    "    \n",
    "print(rhos)"
   ]
  },
  {
   "cell_type": "markdown",
   "metadata": {},
   "source": [
    "The Spearman test results in very similar rho values for both the PLMI and Smoothed PPMI spaces, even though they give very different cosine similarities for most of the overlapping words.\n",
    "\n",
    "Both of the Word2Vec models are good, with the fine-tuned one surprisingly performing slightly worse."
   ]
  },
  {
   "cell_type": "code",
   "execution_count": 270,
   "metadata": {},
   "outputs": [
    {
     "data": {
      "image/png": "[encoded data removed]",
      "text/plain": [
       "<Figure size 432x288 with 1 Axes>"
      ]
     },
     "metadata": {
      "needs_background": "light"
     },
     "output_type": "display_data"
    },
    {
     "data": {
      "text/plain": [
       "<Figure size 960x640 with 0 Axes>"
      ]
     },
     "metadata": {},
     "output_type": "display_data"
    }
   ],
   "source": [
    "plt.bar(range(0, len(rhos)), rhos, width=0.8, color=\"lightblue\")\n",
    "plt.xticks(range(0, len(rhos)), merged.columns[3:])\n",
    "plt.figure(dpi=160)\n",
    "plt.show()"
   ]
  },
  {
   "cell_type": "markdown",
   "metadata": {},
   "source": [
    "---"
   ]
  }
 ],
 "metadata": {
  "kernelspec": {
   "display_name": "Python 3 (ipykernel)",
   "language": "python",
   "name": "python3"
  },
  "language_info": {
   "codemirror_mode": {
    "name": "ipython",
    "version": 3
   },
   "file_extension": ".py",
   "mimetype": "text/x-python",
   "name": "python",
   "nbconvert_exporter": "python",
   "pygments_lexer": "ipython3",
   "version": "3.8.5"
  },
  "toc": {
   "base_numbering": 1,
   "nav_menu": {},
   "number_sections": true,
   "sideBar": true,
   "skip_h1_title": false,
   "title_cell": "Table of Contents",
   "title_sidebar": "Contents",
   "toc_cell": false,
   "toc_position": {},
   "toc_section_display": true,
   "toc_window_display": true
  }
 },
 "nbformat": 4,
 "nbformat_minor": 2
}
