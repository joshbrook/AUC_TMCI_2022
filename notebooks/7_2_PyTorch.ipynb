{
  "cells": [
    {
      "cell_type": "markdown",
      "metadata": {
        "id": "S-7CJkKUuVSJ"
      },
      "source": [
        "# Intro to PyTorch & TorchText"
      ]
    },
    {
      "cell_type": "markdown",
      "metadata": {
        "id": "Agy2v1gBuVSM"
      },
      "source": [
        "_Main author: Konstantin Todorov_\n",
        "\n",
        "We used these resources for part of this tutorial:\n",
        "* https://pytorch.org/tutorials/beginner/deep_learning_60min_blitz.html\n",
        "* https://uvadlc-notebooks.readthedocs.io/en/latest/tutorial_notebooks/tutorial2/Introduction_to_PyTorch.html\n",
        "* http://web.stanford.edu/class/cs224n/materials/CS224N_PyTorch_Tutorial.html"
      ]
    },
    {
      "cell_type": "markdown",
      "metadata": {
        "id": "OasgqUeyuVSN"
      },
      "source": [
        "This laboratory is meant to teach you about the basics of [PyTorch](https://pytorch.org/), one of the most widely used Python libraries for machine learning. In addition to it, you will learn about [TorchText](https://pytorch.org/text/stable/index.html), one of PyTorch's integrated libraries that is meant to help when training Natural Language Processing (NLP) models. In addition to that, TorchText also provides readily available datasets such as the IMDB one that we will make use of.\n",
        "\n",
        "At the end of this lab, you will know how to train your own basic model, as well as evaluate and make use of techniques to improve your performance."
      ]
    },
    {
      "cell_type": "code",
      "execution_count": null,
      "metadata": {
        "id": "8PEVd_BluVSN",
        "outputId": "14ab858e-fafb-4b2e-94db-2ed7b1985228"
      },
      "outputs": [
        {
          "name": "stdout",
          "output_type": "stream",
          "text": [
            "Populating the interactive namespace from numpy and matplotlib\n"
          ]
        }
      ],
      "source": [
        "%pylab inline\n",
        "\n",
        "plt.rcParams[\"figure.figsize\"] = [20,10]"
      ]
    },
    {
      "cell_type": "code",
      "execution_count": null,
      "metadata": {
        "id": "DdhGHma1uVSP"
      },
      "outputs": [],
      "source": [
        "# This cell makes sure that you have all the necessary libraries installed\n",
        "\n",
        "import sys\n",
        "import platform\n",
        "from importlib.util import find_spec, module_from_spec\n",
        "\n",
        "def check_newer_version(version_inst, version_nec):\n",
        "    version_inst_split = version_inst.split('.')\n",
        "    version_nec_split = version_nec.split('.')\n",
        "    for i in range(min(len(version_inst_split), len(version_nec_split))):\n",
        "        if int(version_nec_split[i]) > int(version_inst_split[i]):\n",
        "            return False\n",
        "        elif int(version_nec_split[i]) < int(version_inst_split[i]):\n",
        "            return True\n",
        "    return True\n",
        "\n",
        "\n",
        "module_list = [('torch', '1.8.0'),\n",
        "               ('torchtext', '0.9.0'),\n",
        "               ('torchvision', '0.9.0'),\n",
        "               ('matplotlib', '3.0.0'), \n",
        "               ('numpy', '1.13.1'), \n",
        "               ('python', '3.6.2')]\n",
        "\n",
        "packages_correct = True\n",
        "packages_errors = []\n",
        "\n",
        "for module_name, version in module_list:\n",
        "#     if module_name == 'scikit-learn':\n",
        "#         module_name = 'sklearn'\n",
        "    if 'python' in module_name:\n",
        "        python_version = platform.python_version()\n",
        "        if not check_newer_version(python_version, version):\n",
        "            packages_correct = False\n",
        "            error = f'Update {module_name} to version {version}. Current version is {python_version}.'\n",
        "            packages_errors.append(error) \n",
        "            print(error)\n",
        "    else:\n",
        "        spec = find_spec(module_name)\n",
        "        if spec is None:\n",
        "            packages_correct = False\n",
        "            error = f'Install {module_name} with version {version} or newer, it is required for this assignment!'\n",
        "            packages_errors.append(error) \n",
        "            print(error)\n",
        "        else:\n",
        "            x = __import__(module_name)\n",
        "            if hasattr(x, '__version__') and not check_newer_version(x.__version__, version):\n",
        "                packages_correct = False\n",
        "                error = f'Update {module_name} to version {version}. Current version is {x.__version__}.'\n",
        "                packages_errors.append(error) \n",
        "                print(error)\n",
        "\n",
        "\n",
        "packages_errors = '\\n'.join(packages_errors)"
      ]
    },
    {
      "cell_type": "code",
      "execution_count": null,
      "metadata": {
        "id": "hCjvJ2HvuVSS"
      },
      "outputs": [],
      "source": [
        "import torch\n",
        "import torch.nn as nn\n",
        "\n",
        "import torchtext"
      ]
    },
    {
      "cell_type": "code",
      "execution_count": null,
      "metadata": {
        "id": "vjCo9Z79uVST"
      },
      "outputs": [],
      "source": [
        "# We make use of a GPU if one is available on the current system\n",
        "# Using GPU can make the training process and matrix operations magnitudes faster\n",
        "\n",
        "device = torch.device(\"cuda\" if torch.cuda.is_available() else \"cpu\")"
      ]
    },
    {
      "cell_type": "code",
      "execution_count": null,
      "metadata": {
        "id": "750ry_4huVSU"
      },
      "outputs": [],
      "source": [
        "# We set a seed manually for replicability\n",
        "# This will ensure that every time you run the notebook on the same machine you will receive the same results\n",
        "\n",
        "SEED = 42\n",
        "\n",
        "torch.manual_seed(SEED)\n",
        "np.random.seed(SEED)\n",
        "random.seed(SEED)\n",
        "\n",
        "if device == 'cuda':\n",
        "    torch.backends.cudnn.benchmark = False\n",
        "    torch.cuda.manual_seed_all(SEED)"
      ]
    },
    {
      "cell_type": "markdown",
      "metadata": {
        "id": "ePuEJn8puVSV"
      },
      "source": [
        "## Tensors\n",
        "\n",
        "Tensors are the most basic building blocks of PyTorch. They are like matrices with extra properties. see here for more: https://pytorch.org/tutorials/beginner/blitz/tensor_tutorial.html#sphx-glr-beginner-blitz-tensor-tutorial-py."
      ]
    },
    {
      "cell_type": "code",
      "execution_count": null,
      "metadata": {
        "id": "9hv9WmAquVSV"
      },
      "outputs": [],
      "source": [
        "# from a list\n",
        "t = torch.tensor([[1,2,3],[4,5,6]], dtype=torch.long)"
      ]
    },
    {
      "cell_type": "code",
      "execution_count": null,
      "metadata": {
        "id": "2F4XZSUzuVSV",
        "outputId": "59af0353-3097-4a44-c0e1-f591bd4b6e13"
      },
      "outputs": [
        {
          "data": {
            "text/plain": [
              "tensor([[1, 2, 3],\n",
              "        [4, 5, 6]])"
            ]
          },
          "execution_count": 7,
          "metadata": {},
          "output_type": "execute_result"
        }
      ],
      "source": [
        "t"
      ]
    },
    {
      "cell_type": "code",
      "execution_count": null,
      "metadata": {
        "id": "JM3XfSEyuVSW"
      },
      "outputs": [],
      "source": [
        "# from numpy\n",
        "n = np.ones(5)\n",
        "t = torch.from_numpy(n)"
      ]
    },
    {
      "cell_type": "code",
      "execution_count": null,
      "metadata": {
        "id": "wnsrPZf5uVSW",
        "outputId": "0223b00f-66c1-481a-f822-78f046b6a551"
      },
      "outputs": [
        {
          "data": {
            "text/plain": [
              "tensor([1., 1., 1., 1., 1.], dtype=torch.float64)"
            ]
          },
          "execution_count": 9,
          "metadata": {},
          "output_type": "execute_result"
        }
      ],
      "source": [
        "t"
      ]
    },
    {
      "cell_type": "code",
      "execution_count": null,
      "metadata": {
        "id": "qQGjiuuRuVSX",
        "outputId": "23540f2a-8d93-4fad-bcad-f29e35ee3d23"
      },
      "outputs": [
        {
          "name": "stdout",
          "output_type": "stream",
          "text": [
            "Random Tensor: \n",
            " tensor([[0.8823, 0.9150, 0.3829],\n",
            "        [0.9593, 0.3904, 0.6009]]) \n",
            "\n",
            "Ones Tensor: \n",
            " tensor([[1., 1., 1.],\n",
            "        [1., 1., 1.]]) \n",
            "\n",
            "Zeros Tensor: \n",
            " tensor([[0., 0., 0.],\n",
            "        [0., 0., 0.]])\n"
          ]
        }
      ],
      "source": [
        "# prepoprulated tensors\n",
        "shape = (2,3,)\n",
        "rand_tensor = torch.rand(shape)\n",
        "ones_tensor = torch.ones(shape)\n",
        "zeros_tensor = torch.zeros(shape)\n",
        "\n",
        "print(f\"Random Tensor: \\n {rand_tensor} \\n\")\n",
        "print(f\"Ones Tensor: \\n {ones_tensor} \\n\")\n",
        "print(f\"Zeros Tensor: \\n {zeros_tensor}\")"
      ]
    },
    {
      "cell_type": "code",
      "execution_count": null,
      "metadata": {
        "id": "zMxii1a9uVSX",
        "outputId": "4528f972-47d8-47bf-e65a-f28d381907ed"
      },
      "outputs": [
        {
          "name": "stdout",
          "output_type": "stream",
          "text": [
            "tensor([[1., 0., 1., 1.],\n",
            "        [1., 0., 1., 1.],\n",
            "        [1., 0., 1., 1.],\n",
            "        [1., 0., 1., 1.]])\n"
          ]
        }
      ],
      "source": [
        "# slicing and indexing as in numpy\n",
        "tensor = torch.ones(4, 4)\n",
        "tensor[:,1] = 0\n",
        "print(tensor)"
      ]
    },
    {
      "cell_type": "code",
      "execution_count": null,
      "metadata": {
        "id": "ErhVgdkXuVSX",
        "outputId": "ea3b6868-3f7f-4951-bbfd-3e13a74423ec"
      },
      "outputs": [
        {
          "name": "stdout",
          "output_type": "stream",
          "text": [
            "tensor.mul(tensor) \n",
            " tensor([[1., 0., 1., 1.],\n",
            "        [1., 0., 1., 1.],\n",
            "        [1., 0., 1., 1.],\n",
            "        [1., 0., 1., 1.]]) \n",
            "\n",
            "tensor * tensor \n",
            " tensor([[1., 0., 1., 1.],\n",
            "        [1., 0., 1., 1.],\n",
            "        [1., 0., 1., 1.],\n",
            "        [1., 0., 1., 1.]])\n"
          ]
        }
      ],
      "source": [
        "# Operations\n",
        "# This computes the element-wise product\n",
        "print(f\"tensor.mul(tensor) \\n {tensor.mul(tensor)} \\n\")\n",
        "# Alternative syntax:\n",
        "print(f\"tensor * tensor \\n {tensor * tensor}\")"
      ]
    },
    {
      "cell_type": "code",
      "execution_count": null,
      "metadata": {
        "id": "rXqw6R1DuVSY",
        "outputId": "ba271960-38c7-4176-b824-1e056592d349"
      },
      "outputs": [
        {
          "name": "stdout",
          "output_type": "stream",
          "text": [
            "tensor.matmul(tensor.T) \n",
            " tensor([[3., 3., 3., 3.],\n",
            "        [3., 3., 3., 3.],\n",
            "        [3., 3., 3., 3.],\n",
            "        [3., 3., 3., 3.]]) \n",
            "\n",
            "tensor @ tensor.T \n",
            " tensor([[3., 3., 3., 3.],\n",
            "        [3., 3., 3., 3.],\n",
            "        [3., 3., 3., 3.],\n",
            "        [3., 3., 3., 3.]])\n"
          ]
        }
      ],
      "source": [
        "# This computes the matrix product\n",
        "print(f\"tensor.matmul(tensor.T) \\n {tensor.matmul(tensor.T)} \\n\")\n",
        "# Alternative syntax:\n",
        "print(f\"tensor @ tensor.T \\n {tensor @ tensor.T}\")"
      ]
    },
    {
      "cell_type": "code",
      "execution_count": null,
      "metadata": {
        "id": "sLnITtuxuVSY",
        "outputId": "7fc4d5c4-8a6c-4b7b-bf35-9946d89f5efc"
      },
      "outputs": [
        {
          "name": "stdout",
          "output_type": "stream",
          "text": [
            "tensor([[1., 0., 1., 1.],\n",
            "        [1., 0., 1., 1.],\n",
            "        [1., 0., 1., 1.],\n",
            "        [1., 0., 1., 1.]]) \n",
            "\n",
            "tensor([[6., 5., 6., 6.],\n",
            "        [6., 5., 6., 6.],\n",
            "        [6., 5., 6., 6.],\n",
            "        [6., 5., 6., 6.]])\n"
          ]
        }
      ],
      "source": [
        "# in place operations require a _ suffix\n",
        "print(tensor, \"\\n\")\n",
        "tensor.add_(5)\n",
        "# same as tensor = tensor.add(5)\n",
        "print(tensor)"
      ]
    },
    {
      "cell_type": "markdown",
      "metadata": {
        "id": "0ap79NbOuVSY"
      },
      "source": [
        "## A super simple NN\n",
        "\n",
        "From https://pytorch.org/tutorials/beginner/blitz/autograd_tutorial.html."
      ]
    },
    {
      "cell_type": "code",
      "execution_count": null,
      "metadata": {
        "id": "v7qe3z2puVSZ",
        "outputId": "5a37cd33-b41e-4ac4-b0f8-20cbc96f6606"
      },
      "outputs": [
        {
          "name": "stderr",
          "output_type": "stream",
          "text": [
            "Downloading: \"https://download.pytorch.org/models/resnet18-5c106cde.pth\" to /Users/giovannicolavizza/.cache/torch/hub/checkpoints/resnet18-5c106cde.pth\n"
          ]
        },
        {
          "data": {
            "application/vnd.jupyter.widget-view+json": {
              "model_id": "fe5643fe8a89419a8f6be4f09032e3b8",
              "version_major": 2,
              "version_minor": 0
            },
            "text/plain": [
              "  0%|          | 0.00/44.7M [00:00<?, ?B/s]"
            ]
          },
          "metadata": {},
          "output_type": "display_data"
        }
      ],
      "source": [
        "import torch, torchvision\n",
        "# load a model, some data and labels\n",
        "# 45M\n",
        "model = torchvision.models.resnet18(pretrained=True)\n",
        "data = torch.rand(1, 3, 64, 64)\n",
        "labels = torch.rand(1, 1000)"
      ]
    },
    {
      "cell_type": "code",
      "execution_count": null,
      "metadata": {
        "id": "k7NXKOJguVSZ"
      },
      "outputs": [],
      "source": [
        "prediction = model(data) # forward pass"
      ]
    },
    {
      "cell_type": "code",
      "execution_count": null,
      "metadata": {
        "id": "KzJjo_VyuVSZ"
      },
      "outputs": [],
      "source": [
        "loss = (prediction - labels).sum() # calculates the loss\n",
        "loss.backward() # backward pass, stores the gradients in each parameter's .grad attribute"
      ]
    },
    {
      "cell_type": "code",
      "execution_count": null,
      "metadata": {
        "id": "gVtm7OqEuVSZ"
      },
      "outputs": [],
      "source": [
        "optim = torch.optim.SGD(model.parameters(), lr=1e-2, momentum=0.9) # loads an optimizers and passes the models parameters to it"
      ]
    },
    {
      "cell_type": "code",
      "execution_count": null,
      "metadata": {
        "id": "QZA5lQHIuVSa"
      },
      "outputs": [],
      "source": [
        "optim.step() # does one gradient descent step, and that's it!"
      ]
    },
    {
      "cell_type": "markdown",
      "metadata": {
        "id": "HN1Zbeq-uVSa"
      },
      "source": [
        "## Autograd\n",
        "\n",
        "From: http://web.stanford.edu/class/cs224n/materials/CS224N_PyTorch_Tutorial.html.\n",
        "\n",
        "Also see: https://pytorch.org/tutorials/beginner/blitz/autograd_tutorial.html. "
      ]
    },
    {
      "cell_type": "code",
      "execution_count": null,
      "metadata": {
        "id": "_OW-s91quVSb",
        "outputId": "a6f1f497-bc0c-494c-99b1-f956a596e5ea"
      },
      "outputs": [
        {
          "name": "stdout",
          "output_type": "stream",
          "text": [
            "None\n"
          ]
        }
      ],
      "source": [
        "# Create an example tensor\n",
        "# requires_grad parameter tells PyTorch to store gradients\n",
        "x = torch.tensor([2.], requires_grad=True)\n",
        "\n",
        "# Print the gradient if it is calculated\n",
        "# Currently None since x is a scalar\n",
        "print(x.grad)"
      ]
    },
    {
      "cell_type": "code",
      "execution_count": null,
      "metadata": {
        "id": "3yq30UTtuVSb",
        "outputId": "75474679-5f3c-40f5-864b-a56eaeb2b18f"
      },
      "outputs": [
        {
          "name": "stdout",
          "output_type": "stream",
          "text": [
            "tensor([12.])\n"
          ]
        }
      ],
      "source": [
        "# Calculating the gradient of y with respect to x\n",
        "y = x * x * 3 # 3x^2\n",
        "y.backward()\n",
        "print(x.grad) # d(y)/d(x) = d(3x^2)/d(x) = 6x = 12"
      ]
    },
    {
      "cell_type": "code",
      "execution_count": null,
      "metadata": {
        "id": "7aFWh5nzuVSb",
        "outputId": "2d5d3542-6eab-414b-e854-8f1b057101c8"
      },
      "outputs": [
        {
          "name": "stdout",
          "output_type": "stream",
          "text": [
            "tensor([24.])\n"
          ]
        }
      ],
      "source": [
        "# Calculating the gradient of z with respect to x\n",
        "z = x * x * 3 # 3x^2\n",
        "z.backward()\n",
        "print(x.grad)"
      ]
    },
    {
      "cell_type": "markdown",
      "metadata": {
        "id": "ihs1FKL6uVSc"
      },
      "source": [
        "We can see that the `x.grad` is updated to be the sum of the gradients calculated so far. When we run backprop in a neural network, we sum up all the gradients for a particular neuron before making an update. This is also the reason why we need to run `zero_grad()` in every training iteration (more on this later). Otherwise our gradients would keep building up from one training iteration to the other, which would cause our updates to be wrong.\n",
        "\n",
        "Let us work towards a full model next, and introduce more advanced components."
      ]
    },
    {
      "cell_type": "markdown",
      "metadata": {
        "id": "JQgPKXgHuVSc"
      },
      "source": [
        "# Part I: Preparing the data\n",
        "\n",
        "We will use PyTorch and TorchText to create a **sentiment classifier using the IMDB dataset**. We first load it from the `torchtext.datasets` namespace. For the purpose of testing we can load only the `train` split. Note that different sets have different splits. You can see all available datasets and their properties [here](https://pytorch.org/text/stable/datasets.html#imdb). "
      ]
    },
    {
      "cell_type": "code",
      "execution_count": null,
      "metadata": {
        "id": "2I4Gf2xHuVSc",
        "outputId": "9d55afc2-268e-427e-a9ba-3c61be798f44"
      },
      "outputs": [
        {
          "name": "stderr",
          "output_type": "stream",
          "text": [
            "aclImdb_v1.tar.gz: 100%|██████████| 84.1M/84.1M [00:17<00:00, 4.90MB/s]\n"
          ]
        }
      ],
      "source": [
        "# 84M\n",
        "train_imdb_iterator = torchtext.datasets.IMDB(split='train')"
      ]
    },
    {
      "cell_type": "markdown",
      "metadata": {
        "id": "iEsqwJJXuVSc"
      },
      "source": [
        "Next, let's see what kind of data we are working with. The `train_imdb_iterator` is a python iterator object and as such, we can iterate through it by calling the `next` function for example."
      ]
    },
    {
      "cell_type": "code",
      "execution_count": null,
      "metadata": {
        "id": "TuRzyy2auVSc",
        "outputId": "f9bcb2b9-94a9-4fc0-866d-33c8a69f38ec"
      },
      "outputs": [
        {
          "name": "stdout",
          "output_type": "stream",
          "text": [
            "Text sequence:\n",
            "I rented I AM CURIOUS-YELLOW from my video store because of all the controversy that surrounded it when it was first released in 1967. I also heard that at first it was seized by U.S. customs if it ever tried to enter this country, therefore being a fan of films considered \"controversial\" I really had to see this for myself.<br /><br />The plot is centered around a young Swedish drama student named Lena who wants to learn everything she can about life. In particular she wants to focus her attentions to making some sort of documentary on what the average Swede thought about certain political issues such as the Vietnam War and race issues in the United States. In between asking politicians and ordinary denizens of Stockholm about their opinions on politics, she has sex with her drama teacher, classmates, and married men.<br /><br />What kills me about I AM CURIOUS-YELLOW is that 40 years ago, this was considered pornographic. Really, the sex and nudity scenes are few and far between, even then it's not shot like some cheaply made porno. While my countrymen mind find it shocking, in reality sex and nudity are a major staple in Swedish cinema. Even Ingmar Bergman, arguably their answer to good old boy John Ford, had sex scenes in his films.<br /><br />I do commend the filmmakers for the fact that any sex shown in the film is shown for artistic purposes rather than just to shock people and make money to be shown in pornographic theaters in America. I AM CURIOUS-YELLOW is a good film for anyone wanting to study the meat and potatoes (no pun intended) of Swedish cinema. But really, this film doesn't have much of a plot.\n",
            "Sentiment: neg\n"
          ]
        }
      ],
      "source": [
        "label, text = next(train_imdb_iterator)\n",
        "\n",
        "print(f'Text sequence:\\n{text}')\n",
        "print(f'Sentiment: {label}')"
      ]
    },
    {
      "cell_type": "code",
      "execution_count": null,
      "metadata": {
        "id": "5J94UR4CuVSd",
        "outputId": "ef479929-427e-42e6-c611-efc11115a298"
      },
      "outputs": [
        {
          "name": "stdout",
          "output_type": "stream",
          "text": [
            "Text sequence:\n",
            "\"I Am Curious: Yellow\" is a risible and pretentious steaming pile. It doesn't matter what one's political views are because this film can hardly be taken seriously on any level. As for the claim that frontal male nudity is an automatic NC-17, that isn't true. I've seen R-rated films with male nudity. Granted, they only offer some fleeting views, but where are the R-rated films with gaping vulvas and flapping labia? Nowhere, because they don't exist. The same goes for those crappy cable shows: schlongs swinging in the breeze but not a clitoris in sight. And those pretentious indie movies like The Brown Bunny, in which we're treated to the site of Vincent Gallo's throbbing johnson, but not a trace of pink visible on Chloe Sevigny. Before crying (or implying) \"double-standard\" in matters of nudity, the mentally obtuse should take into account one unavoidably obvious anatomical difference between men and women: there are no genitals on display when actresses appears nude, and the same cannot be said for a man. In fact, you generally won't see female genitals in an American film in anything short of porn or explicit erotica. This alleged double-standard is less a double standard than an admittedly depressing ability to come to terms culturally with the insides of women's bodies.\n",
            "Sentiment: neg\n"
          ]
        }
      ],
      "source": [
        "label, text = next(train_imdb_iterator)\n",
        "\n",
        "print(f'Text sequence:\\n{text}')\n",
        "print(f'Sentiment: {label}')"
      ]
    },
    {
      "cell_type": "markdown",
      "metadata": {
        "id": "MVlwGftiuVSd"
      },
      "source": [
        "As you can see, each element from the dataset contains an IMDB review and a sentiment ground truth label. The label can be either positive (pos) or negative (neg). Our goal is to train a machine learning model which can predict the sentiment of a given text."
      ]
    },
    {
      "cell_type": "code",
      "execution_count": null,
      "metadata": {
        "id": "TW2UnpkNuVSd"
      },
      "outputs": [],
      "source": [
        "import torchtext.datasets\n",
        "from torchtext.data.utils import get_tokenizer\n",
        "from torchtext.vocab import Vocab\n",
        "from collections import Counter\n",
        "\n",
        "def get_tokenized_data(tokenizer):\n",
        "    # takes a tokenizer and returns tokens with counts\n",
        "    train_iterator = torchtext.datasets.IMDB(split='train')\n",
        "    \n",
        "    counter = Counter()\n",
        "    for (label, line) in train_iterator:\n",
        "        counter.update(tokenizer(line))\n",
        "        \n",
        "    return counter\n",
        "\n",
        "def build_vocabulary(data_counter, vectors=None):\n",
        "    # builds a vocabulary using torchtext Vocab\n",
        "    vocab = torchtext.legacy.vocab.Vocab(data_counter, min_freq=1, vectors=vectors)\n",
        "    return vocab"
      ]
    },
    {
      "cell_type": "code",
      "execution_count": null,
      "metadata": {
        "id": "L05ul80duVSd"
      },
      "outputs": [],
      "source": [
        "tokenizer = get_tokenizer('basic_english')\n",
        "data_counter = get_tokenized_data(tokenizer)\n",
        "vocab = build_vocabulary(data_counter)"
      ]
    },
    {
      "cell_type": "code",
      "execution_count": null,
      "metadata": {
        "id": "K55cJ099uVSe"
      },
      "outputs": [],
      "source": [
        "def tokenize_text(text, vocab, tokenizer):\n",
        "    return [vocab[token] for token in tokenizer(text)]\n",
        "\n",
        "def tokenize_label(label):\n",
        "    if label == 'neg':\n",
        "        return 0\n",
        "    else:\n",
        "        return 1"
      ]
    },
    {
      "cell_type": "code",
      "execution_count": null,
      "metadata": {
        "id": "T1m39r1GuVSe",
        "outputId": "6ba5b7f7-a547-414b-8aba-65ec640a04b8"
      },
      "outputs": [
        {
          "data": {
            "text/plain": [
              "[132, 10, 41, 465]"
            ]
          },
          "execution_count": 37,
          "metadata": {},
          "output_type": "execute_result"
        }
      ],
      "source": [
        "# example\n",
        "tokenize_text('here is an example', vocab, tokenizer)"
      ]
    },
    {
      "cell_type": "code",
      "execution_count": null,
      "metadata": {
        "id": "wMHpCVfvuVSe",
        "outputId": "41c65127-3004-490f-ea03-226c2430c9f9"
      },
      "outputs": [
        {
          "data": {
            "text/plain": [
              "1"
            ]
          },
          "execution_count": 36,
          "metadata": {},
          "output_type": "execute_result"
        }
      ],
      "source": [
        "# example\n",
        "tokenize_label('pos')"
      ]
    },
    {
      "cell_type": "code",
      "execution_count": null,
      "metadata": {
        "id": "1nfXVgKNuVSe",
        "outputId": "08a8e519-e9bd-4ff6-abf0-8c24cd782af6"
      },
      "outputs": [
        {
          "name": "stdout",
          "output_type": "stream",
          "text": [
            "Unique tokens in vocabulary: 100,684\n"
          ]
        }
      ],
      "source": [
        "# Let's see how many unique tokens we have in our vocabularies\n",
        "\n",
        "print(f\"Unique tokens in vocabulary: {len(vocab):,}\")"
      ]
    },
    {
      "cell_type": "code",
      "execution_count": null,
      "metadata": {
        "id": "qtpKzlv7uVSf",
        "outputId": "405b8084-125a-4a27-823d-41183d8d52d9"
      },
      "outputs": [
        {
          "name": "stdout",
          "output_type": "stream",
          "text": [
            "[('the', 335746), ('.', 327192), (',', 276280), ('and', 163290), ('a', 162473), ('of', 145437), ('to', 135208), (\"'\", 133857), ('is', 107221), ('it', 96024), ('in', 93307), ('i', 87401), ('this', 75878), ('that', 73153), ('s', 62933), ('was', 48170), ('as', 46807), ('for', 44116), ('with', 44041), ('movie', 43421)]\n"
          ]
        }
      ],
      "source": [
        "# We can also check the most common tokens in our vocabulary\n",
        "\n",
        "print(vocab.freqs.most_common(20))"
      ]
    },
    {
      "cell_type": "markdown",
      "metadata": {
        "id": "yC_entYEuVSf"
      },
      "source": [
        "Vocabularies contain so called **i**ndex **to s**tring vector which is usually represented as a list of string where the index of an element represents the index of this token in the vocabulary. We can access this list in a TorchText data field using the `.itos` property"
      ]
    },
    {
      "cell_type": "code",
      "execution_count": null,
      "metadata": {
        "scrolled": true,
        "id": "t6HuTo1kuVSg",
        "outputId": "33830c2e-5f58-413e-e5aa-84f9b326cb77"
      },
      "outputs": [
        {
          "name": "stdout",
          "output_type": "stream",
          "text": [
            "['<unk>', '<pad>', 'the', '.', ',', 'and', 'a', 'of', 'to', \"'\"]\n"
          ]
        }
      ],
      "source": [
        "print(vocab.itos[:10])"
      ]
    },
    {
      "cell_type": "markdown",
      "metadata": {
        "id": "xnDExorhuVSg"
      },
      "source": [
        "Similarly, vocabularies also contain the opposite mapping, namely **s**tring **to i**ndex which is a dictionary with the keys being the tokens and the values - the corresponding vocabulary indices. This can be examined using the `.stoi` property of a TorchText data field."
      ]
    },
    {
      "cell_type": "code",
      "execution_count": null,
      "metadata": {
        "id": "UTK9Vy-luVSg",
        "outputId": "be7a2bf8-2c5d-4c96-b55b-ed6fdcad87cd"
      },
      "outputs": [
        {
          "name": "stdout",
          "output_type": "stream",
          "text": [
            "[('<unk>', 0), ('<pad>', 1), ('the', 2), ('.', 3), (',', 4), ('and', 5), ('a', 6), ('of', 7), ('to', 8), (\"'\", 9)]\n"
          ]
        }
      ],
      "source": [
        "print(list(vocab.stoi.items())[:10])"
      ]
    },
    {
      "cell_type": "markdown",
      "metadata": {
        "id": "0-Am6YqpuVSh"
      },
      "source": [
        "The next step is to create a set of data loaders which organise our data into batches of datapoints, each contained into a tensor."
      ]
    },
    {
      "cell_type": "code",
      "execution_count": null,
      "metadata": {
        "id": "14crO5b1uVSh"
      },
      "outputs": [],
      "source": [
        "from torch.utils.data import DataLoader\n",
        "\n",
        "def collate_batch(batch, vocab, tokenizer):\n",
        "    # takes a batch of data, a vocabulary and tokenizers, and creates a tensor representation doing padding where needed\n",
        "    batch_size = len(batch)\n",
        "    label_list, text_list = [], []\n",
        "    \n",
        "    # Tokenize labels and texts\n",
        "    for (label, text) in batch:\n",
        "        label_list.append(tokenize_label(label))\n",
        "        tokenized_text = tokenize_text(text, vocab, tokenizer)\n",
        "        text_list.append(tokenized_text)\n",
        "\n",
        "    # Put all texts into a single numpy array of uniform length\n",
        "    # For all sequences that are shorther than the maximum length, pad to the right with 0\n",
        "    lengths = [len(text) for text in text_list]\n",
        "    max_length = max(lengths)\n",
        "    padded_sequences = np.zeros((batch_size, max_length), dtype=np.int64)\n",
        "    for i, (length, text) in enumerate(zip(lengths, text_list)):\n",
        "        padded_sequences[i][0:length] = text_list[i][0:length]\n",
        "        \n",
        "    # Finally transform the arrays into tensors and return to the dataloader\n",
        "    label_tensor = torch.tensor(label_list, dtype=torch.float32).to(device)\n",
        "    sequences_tensor = torch.from_numpy(padded_sequences).to(device)\n",
        "    return sequences_tensor, label_tensor"
      ]
    },
    {
      "cell_type": "code",
      "execution_count": null,
      "metadata": {
        "id": "YxD0FILQuVSh"
      },
      "outputs": [],
      "source": [
        "from torch.utils.data.dataset import random_split\n",
        "\n",
        "def get_dataloaders(batch_size, vocab, tokenizer):\n",
        "    # collates the data and puts it into a data loader\n",
        "    \n",
        "    train_iter, test_iter = torchtext.datasets.IMDB()\n",
        "    train_dataset, test_dataset = list(train_iter), list(test_iter)\n",
        "    num_train = int(len(train_dataset) * 0.95)\n",
        "    split_train_, split_valid_ = random_split(\n",
        "        train_dataset,\n",
        "        [num_train, len(train_dataset) - num_train])\n",
        "    \n",
        "    train_dataloader = DataLoader(\n",
        "        split_train_,\n",
        "        batch_size=batch_size,\n",
        "        shuffle=True,\n",
        "        collate_fn=lambda x: collate_batch(x, vocab, tokenizer))\n",
        "    \n",
        "    valid_dataloader = DataLoader(\n",
        "        split_valid_,\n",
        "        batch_size=batch_size,\n",
        "        collate_fn=lambda x: collate_batch(x, vocab, tokenizer))\n",
        "    \n",
        "    test_dataloader = DataLoader(\n",
        "        test_dataset,\n",
        "        batch_size=batch_size,\n",
        "        collate_fn=lambda x: collate_batch(x, vocab, tokenizer))\n",
        "\n",
        "    return train_dataloader, valid_dataloader, test_dataloader"
      ]
    },
    {
      "cell_type": "code",
      "execution_count": null,
      "metadata": {
        "id": "es_lh2eEuVSh"
      },
      "outputs": [],
      "source": [
        "BATCH_SIZE = 128\n",
        "\n",
        "train_dataloader, valid_dataloader, test_dataloader = get_dataloaders(BATCH_SIZE, vocab, tokenizer)"
      ]
    },
    {
      "cell_type": "markdown",
      "metadata": {
        "id": "aLsxD84luVSh"
      },
      "source": [
        "# Part II: The model"
      ]
    },
    {
      "cell_type": "markdown",
      "metadata": {
        "id": "BfhedKKpuVSi"
      },
      "source": [
        "### nn.Module vs nn.functional\n",
        "\n",
        "The `torch.nn.Module` or simply `nn.Module` is arguably one of the most important parts and what many refer to as the \"cornerstone\" of PyTorch. In order to build a machine learning model that is able to backpropagate automatically, one must define an `nn.Module` object and then invoke its `forward` method to run it. This is the Object Oriented way of doing things. On the other hand, people also make use of `nn.functional` which provides some layers/activations in the form of functions that can be directly called on the input rather than defining the an object. For example, in order to rescale an image tensor, you call `nn.functional.interpolate` on an image tensor."
      ]
    },
    {
      "cell_type": "markdown",
      "metadata": {
        "id": "MDnD1IZKuVSi"
      },
      "source": [
        "### Understanding stateful-ness\n",
        "\n",
        "Normally, any layer can be seen as a function. For example, a convolutional operation is just a bunch of multiplication and addition operations. So, it makes sense for us to just implement it as a function right? But wait, the layer holds weights which need to be stored and updated while we are training. Therefore, from a programmatic angle, a layer is more than function. It also needs to hold data (weights), which change as we train our network.\n",
        "\n",
        "It must be understood that the data held by the convolutional layer **changes**. This means that the layer has a state which changes as we train. For us to implement a function that does any operation, we would also need to define a data structure to hold the weights of the layer separately from the function itself. And then, make this external data structure an input to our function. Or we could just define a class to hold the data structure, and make convolutional operation as an member function. This would really ease up our job, as we don't have to worry about stateful variables existing outside of the function. \n",
        "\n",
        "This all seems rather complicated, but thankfully PyTorch comes to the rescue by exposing the `nn.Module` objects where we have weights or other pre-defined states which define the behaviour of the layers. In the cases where no state or weights are required, one could use the nn.functional, examples being resizing (`nn.functional.interpolate`) or average pooling (`nn.functional.AvgPool2d`)."
      ]
    },
    {
      "cell_type": "markdown",
      "metadata": {
        "id": "IvPS2h9nuVSi"
      },
      "source": [
        "### nn.Parameter\n",
        "\n",
        "Before we step towards writing our own model, we must look into one other important part of PyTorch, namely the `nn.Parameter` class. \n",
        "\n",
        "Each `nn.Module` has a `parameters()` function which returns its trainable parameters. We have to implicitly define what these parameters are. However, when we use internal `nn.Module` objects, all of the module training weights are implemented as `nn.Parameter`. If you try to assign a tensor to the `nn.Module` object, it won't show up in the `parameters()` unless you define it as `nn.Parameter` object. This has been done to facilitate scenarios where you might need to cache a non-differentiable tensor.\n",
        "\n",
        "Let's consider the following example:"
      ]
    },
    {
      "cell_type": "code",
      "execution_count": null,
      "metadata": {
        "id": "LFEV5wyPuVSi"
      },
      "outputs": [],
      "source": [
        "class net1(nn.Module):\n",
        "    def __init__(self):\n",
        "        super().__init__()\n",
        "        self.conv = nn.Linear(10,5)\n",
        "        self.tens = torch.ones(3,4)\n",
        "    \n",
        "    def forward(self, x):\n",
        "        return self.linear(x)\n",
        "\n",
        "##########################################################\n",
        "\n",
        "class net2(nn.Module):\n",
        "    def __init__(self):\n",
        "        super().__init__()\n",
        "        self.conv = nn.Linear(10,5) \n",
        "        self.tens = nn.Parameter(torch.ones(3,4))\n",
        "    \n",
        "    def forward(self, x):\n",
        "        return self.linear(x)\n",
        "\n",
        "##########################################################\n",
        "\n",
        "class net3(nn.Module):\n",
        "    def __init__(self):\n",
        "        super().__init__()\n",
        "        self.conv = nn.Linear(10,5)\n",
        "        self.net  = net2()\n",
        "\n",
        "    def forward(self, x):\n",
        "        return self.linear(x)"
      ]
    },
    {
      "cell_type": "markdown",
      "metadata": {
        "id": "EbAD6w6EuVSi"
      },
      "source": [
        "Having defined those simple networks, let's invoke the `named_parameters` function of each. This calls the `parameters` function and also returns the name of each parameter. Notice how the parameters differ across the three networks."
      ]
    },
    {
      "cell_type": "code",
      "execution_count": null,
      "metadata": {
        "id": "FSrddomfuVSj",
        "outputId": "477894bd-8bda-4260-d404-3908025055f2"
      },
      "outputs": [
        {
          "name": "stdout",
          "output_type": "stream",
          "text": [
            "# Net 1:\n",
            " ** conv.weight: Parameter containing:\n",
            "tensor([[ 0.2718,  0.1165,  0.1383, -0.1757,  0.0886,  0.0415,  0.2994, -0.2252,\n",
            "          0.0365,  0.1212],\n",
            "        [-0.0201, -0.2129,  0.1633, -0.2027, -0.2562, -0.0417, -0.1582, -0.2581,\n",
            "         -0.1789,  0.1360],\n",
            "        [ 0.1099,  0.2290, -0.2491,  0.1853, -0.0509,  0.2958,  0.1447,  0.2031,\n",
            "          0.2510,  0.1785],\n",
            "        [ 0.3085,  0.1068, -0.0279,  0.1930, -0.3132, -0.2018,  0.0512,  0.0253,\n",
            "          0.2034, -0.2902],\n",
            "        [ 0.3150, -0.0549,  0.0293,  0.1395, -0.0781,  0.0798,  0.1646, -0.2603,\n",
            "          0.1447,  0.0493]], requires_grad=True)\n",
            " ** conv.bias: Parameter containing:\n",
            "tensor([ 0.0336, -0.2970, -0.0305, -0.2056, -0.2913], requires_grad=True)\n",
            "\n",
            "# Net 2:\n",
            " ** tens: Parameter containing:\n",
            "tensor([[1., 1., 1., 1.],\n",
            "        [1., 1., 1., 1.],\n",
            "        [1., 1., 1., 1.]], requires_grad=True)\n",
            " ** conv.weight: Parameter containing:\n",
            "tensor([[ 0.2052,  0.1945, -0.2798,  0.1627, -0.1865, -0.1522,  0.1489,  0.1266,\n",
            "         -0.1740,  0.2763],\n",
            "        [-0.2544, -0.1162, -0.0898,  0.0713, -0.0114, -0.0268,  0.1767,  0.2342,\n",
            "         -0.2289, -0.3159],\n",
            "        [ 0.1120,  0.2594,  0.1986,  0.3110,  0.0966,  0.1875,  0.0206,  0.0258,\n",
            "         -0.1533,  0.0475],\n",
            "        [-0.0191,  0.1512,  0.0501,  0.2956,  0.2956,  0.1227, -0.0098,  0.0353,\n",
            "          0.1631,  0.0899],\n",
            "        [ 0.0877, -0.0303,  0.2345, -0.3009,  0.2963,  0.0588,  0.0311, -0.0347,\n",
            "          0.1523,  0.0905]], requires_grad=True)\n",
            " ** conv.bias: Parameter containing:\n",
            "tensor([ 0.3044, -0.1282, -0.2129, -0.2659,  0.1686], requires_grad=True)\n",
            "\n",
            "# Net 3:\n",
            " ** conv.weight: Parameter containing:\n",
            "tensor([[-0.2400, -0.0488, -0.2572, -0.2322,  0.1272, -0.3065, -0.2141, -0.2003,\n",
            "          0.1588, -0.3095],\n",
            "        [ 0.1708,  0.1892,  0.2798,  0.2833, -0.0927,  0.0782, -0.1285, -0.1659,\n",
            "         -0.1825,  0.2123],\n",
            "        [ 0.3146, -0.3006,  0.1803,  0.0910,  0.2396,  0.2985,  0.1658, -0.2730,\n",
            "         -0.2033,  0.0276],\n",
            "        [ 0.0016,  0.2699, -0.0537,  0.2431,  0.0522, -0.0593, -0.2136,  0.1945,\n",
            "          0.2759, -0.1905],\n",
            "        [ 0.1594,  0.0720, -0.2431,  0.2086,  0.1984,  0.0775,  0.0085,  0.2901,\n",
            "         -0.0687,  0.0304]], requires_grad=True)\n",
            " ** conv.bias: Parameter containing:\n",
            "tensor([-0.0275, -0.0819, -0.2260,  0.2229,  0.1800], requires_grad=True)\n",
            " ** net.tens: Parameter containing:\n",
            "tensor([[1., 1., 1., 1.],\n",
            "        [1., 1., 1., 1.],\n",
            "        [1., 1., 1., 1.]], requires_grad=True)\n",
            " ** net.conv.weight: Parameter containing:\n",
            "tensor([[ 0.2201, -0.2491, -0.2028,  0.2680,  0.0558, -0.1564,  0.0773, -0.2203,\n",
            "         -0.1437, -0.2360],\n",
            "        [-0.1762, -0.0436,  0.1186,  0.1677,  0.0303,  0.3042,  0.2814, -0.0180,\n",
            "         -0.1675,  0.3069],\n",
            "        [ 0.0200, -0.0973,  0.1662, -0.0961, -0.2949, -0.0638,  0.1430, -0.2570,\n",
            "         -0.0836, -0.1626],\n",
            "        [-0.2739,  0.0511, -0.0263,  0.1537,  0.0517, -0.1993, -0.1959, -0.1586,\n",
            "          0.0623, -0.3070],\n",
            "        [ 0.0454,  0.3072,  0.1040,  0.1880, -0.2496, -0.2027,  0.1148,  0.0265,\n",
            "          0.0166, -0.3104]], requires_grad=True)\n",
            " ** net.conv.bias: Parameter containing:\n",
            "tensor([-0.1281,  0.3001, -0.0518, -0.0339, -0.3104], requires_grad=True)\n"
          ]
        }
      ],
      "source": [
        "def print_named_parameters(model):\n",
        "    for name, parameter in model.named_parameters():\n",
        "        print(f' ** {name}: {parameter}')\n",
        "    \n",
        "print('# Net 1:')\n",
        "print_named_parameters(net1())\n",
        "\n",
        "print('\\n# Net 2:')\n",
        "print_named_parameters(net2())\n",
        "\n",
        "print('\\n# Net 3:')\n",
        "print_named_parameters(net3())"
      ]
    },
    {
      "cell_type": "markdown",
      "metadata": {
        "id": "599RBxDPuVSj"
      },
      "source": [
        "## Defining a \"real\" model\n",
        "\n",
        "Now it's time to define our own PyTorch model which we will train on sentiment analysis detection over the IMDB dataset. \n",
        "\n",
        "We will use the model defined in this example\n",
        "![Sentiment analysis model](https://pytorch.org/tutorials/_images/text_sentiment_ngrams_model.png \"Sentiment analysis model\") \n",
        "\\[[reference](https://pytorch.org/tutorials/beginner/text_sentiment_ngrams_tutorial.html#define-the-model)\\]\n",
        "\n",
        "For simplicity, we will not use an embedding bag but rather a simple embedding layer. This is the first inner module we define. It uses `input_dimension` and `embedding_dimension` arguments that can differ based on our use case or experiment. Afterwards, a fully connected linear layer maps down the `embedding_dimension` to an `output_dimension` which in our case would be 1 as we have two labels which can be either 0 or 1.\n",
        "\n",
        "We also add a uniform weight initialization. Appropriate initialization can often improve and/or speed up the training process. We also add an optional embeddings weight initialization from an external source (more on this later).\n",
        "\n",
        "Finally, the forward iteration must be implemented. First, a pass through the embedding layer must be performed before taking the average value of the embeddings. Finally, the output must be mapped down using the fully connected layer."
      ]
    },
    {
      "cell_type": "code",
      "execution_count": null,
      "metadata": {
        "id": "EX25-elcuVSj"
      },
      "outputs": [],
      "source": [
        "class SentimentAnalysisModel(nn.Module):\n",
        "    def __init__(\n",
        "        self,\n",
        "        input_dimension,\n",
        "        embedding_dimension,\n",
        "        output_dimension,\n",
        "        pretr_embeddings=None):\n",
        "        super().__init__()\n",
        "\n",
        "        self._embedding_layer = nn.Embedding(input_dimension, embedding_dimension)    \n",
        "        self._fully_connected_layer = nn.Linear(embedding_dimension, output_dimension)\n",
        "        self._init_weights(pretr_embeddings)\n",
        "    \n",
        "    # Use uniform initialization of the weights\n",
        "    def _init_weights(self, pretr_embeddings):\n",
        "        initrange = 0.5\n",
        "        \n",
        "        # We add an option to initialize the embeddings from external source\n",
        "        if pretr_embeddings is not None:\n",
        "            self._embedding_layer.weight.data.copy_(pretr_embeddings)\n",
        "        else:\n",
        "            self._embedding_layer.weight.data.uniform_(-initrange, initrange)\n",
        "\n",
        "        self._fully_connected_layer.weight.data.uniform_(-initrange, initrange)\n",
        "        self._fully_connected_layer.bias.data.zero_()\n",
        "\n",
        "    def forward(self, input_batch):\n",
        "        # Process the input batch and return a result that can be processed from the loss function\n",
        "        # input_batch is of shape [ batch_size x max_length ]\n",
        "        \n",
        "        embeddings = self._embedding_layer.forward(input_batch)\n",
        "        # embeddings are of shape [ batch_size x max_length x embedding_dimension ]\n",
        "        \n",
        "        embeddings_mean = embeddings.mean(dim=1)\n",
        "        # embeddings_mean is now [ batch_size x embedding_dimension ]\n",
        "        \n",
        "        result = self._fully_connected_layer.forward(embeddings_mean)\n",
        "        # finally, our result is [ batch_size x 1 ]\n",
        "        \n",
        "        return result"
      ]
    },
    {
      "cell_type": "code",
      "execution_count": null,
      "metadata": {
        "deletable": false,
        "id": "GQRcoQ2EuVSk"
      },
      "outputs": [],
      "source": [
        "INPUT_DIMENSION = len(vocab)\n",
        "EMBEDDING_DIMENSION = 300\n",
        "OUTPUT_DIMENSION = 1\n",
        "\n",
        "# We can now initialize our model. Note the .to(device) part. \n",
        "# This transfers the model to the previously defined device (could be a GPU) for faster computation.\n",
        "\n",
        "model = SentimentAnalysisModel(\n",
        "    INPUT_DIMENSION, \n",
        "    EMBEDDING_DIMENSION, \n",
        "    OUTPUT_DIMENSION).to(device)"
      ]
    },
    {
      "cell_type": "code",
      "execution_count": null,
      "metadata": {
        "id": "9XS7RyDfuVSk",
        "outputId": "07d29372-3bd1-45fd-de48-bba0930fd187"
      },
      "outputs": [
        {
          "name": "stdout",
          "output_type": "stream",
          "text": [
            "SentimentAnalysisModel(\n",
            "  (_embedding_layer): Embedding(100684, 300)\n",
            "  (_fully_connected_layer): Linear(in_features=300, out_features=1, bias=True)\n",
            ")\n"
          ]
        }
      ],
      "source": [
        "# We can now check how our model looks like\n",
        "print(model)"
      ]
    },
    {
      "cell_type": "markdown",
      "metadata": {
        "id": "26_-gIqhuVSk"
      },
      "source": [
        "After we have the model, we must define a loss function. Here, we will make use of the [`BCEWithLogitsLoss`](https://pytorch.org/docs/stable/generated/torch.nn.BCEWithLogitsLoss.html) defined in PyTorch. This loss combines a Sigmoid layer and the Binary Cross Entropy Loss in one single class. This version is more numerically stable than using a plain Sigmoid followed by a BCELoss as, by combining the operations into one layer, we take advantage of the log-sum-exp trick for numerical stability."
      ]
    },
    {
      "cell_type": "code",
      "execution_count": null,
      "metadata": {
        "id": "CVbt54NNuVSk"
      },
      "outputs": [],
      "source": [
        "criterion = nn.BCEWithLogitsLoss().to(device)"
      ]
    },
    {
      "cell_type": "markdown",
      "metadata": {
        "id": "g9d3Lk5ruVSl"
      },
      "source": [
        "The next simple example shows how we use our loss function during training. \n",
        "\n",
        "Our model outputs a prediction for each entry (the logit, or the log-odds, modelled as a linear combination of the inputs). Let's assume we have three elements in our dataset. As our task is a binary classification one, our model outputs a value which is then transformed into a probability (value between 0 and 1) using a sigmoid function. See more [here](https://en.wikipedia.org/wiki/Logistic_regression).\n",
        "\n",
        "On the other side, our targets are usually integers. In the case of binary classification, they can be only 0 or 1. For the purpose of comparison with the probabilities which are floats, we use float type for the labels too. \n",
        "\n",
        "Finally, we pass the model output and the original targets to the loss function which computes a number that is our loss. The lower and closer to 0 the loss value is, the better are our model predictions resembling the true labels. \n",
        "\n",
        "During training, we must also call the `.backward()` function of the loss result in order to back-propagate through the model and update our weights. \n",
        "\n",
        "_Note: Execute the next cell multiple times to see how the loss changes depending on the different targets and model outputs_"
      ]
    },
    {
      "cell_type": "code",
      "execution_count": null,
      "metadata": {
        "id": "yD3jCb2ouVSl",
        "outputId": "a74233b7-85da-4064-aff6-64fa3516c197"
      },
      "outputs": [
        {
          "name": "stdout",
          "output_type": "stream",
          "text": [
            "Model output: tensor([1.7029, 0.6236, 0.5424])\n",
            "Target: tensor([1., 0., 1.])\n",
            "Calculated loss: 0.5594732165336609\n"
          ]
        }
      ],
      "source": [
        "model_output = torch.randn(3)\n",
        "print(f'Model output: {model_output}')\n",
        "target = torch.empty(3).random_(2)\n",
        "print(f'Target: {target}')\n",
        "test_criterion = nn.BCEWithLogitsLoss()\n",
        "output = test_criterion.forward(model_output, target)\n",
        "print(f'Calculated loss: {output}')"
      ]
    },
    {
      "cell_type": "markdown",
      "metadata": {
        "id": "kJJ26M64uVSm"
      },
      "source": [
        "Finally, a `torch.optim` optimizer must be defined. This is used to traverse through the parameter space and find the optimal weights for the model. The [`Adam`](https://pytorch.org/docs/stable/optim.html#torch.optim.Adam) optimizer is a solid choice. Stick to the default arguments. Later, you can experiment with different learning rates that can change the training process."
      ]
    },
    {
      "cell_type": "code",
      "execution_count": null,
      "metadata": {
        "id": "F6OvBL5uuVSm"
      },
      "outputs": [],
      "source": [
        "optimizer = torch.optim.Adam(model.parameters())"
      ]
    },
    {
      "cell_type": "markdown",
      "metadata": {
        "id": "RefaQOMuuVSm"
      },
      "source": [
        "Before we go to the training process, we must prepare a function that can calculate the accuracy of the model. Due to the nature of the training, our model is outputting raw predictions while we also have ground truth values. These are both in the forms of vectors, although the predictions could be float numbers while the true values are usually integers.\n",
        "\n",
        "We then implement a function which takes these two vectors and calculates a value between 0 and 1 which corresponds to the accuracy. Even more so, we are working with batches and therefore have vectors of such values, e.g. if we have predicted [0, 1, 0, 1] and the ground truth is [1, 1, 1, 1], then the function should output 0.5. Keep in mind that the `calculate_accuracy` function accepts and works with tensors and not regular lists."
      ]
    },
    {
      "cell_type": "code",
      "execution_count": null,
      "metadata": {
        "id": "GzMd1oXduVSm"
      },
      "outputs": [],
      "source": [
        "def calculate_accuracy(predictions, ground_truth):\n",
        "    # Returns accuracy per batch\n",
        "    \n",
        "    # transform the predictions into probabilities\n",
        "    predictions = torch.sigmoid(predictions)\n",
        "    \n",
        "    # round the predictions into integers\n",
        "    rounded_predictions = torch.round(predictions)\n",
        "    \n",
        "    # compare which of the predictions are equal to their corresponding true value\n",
        "    correct = (rounded_predictions == ground_truth).float()\n",
        "    \n",
        "    # take the average for all elements in one batch\n",
        "    accuracy = correct.sum() / len(correct)\n",
        "    return accuracy"
      ]
    },
    {
      "cell_type": "markdown",
      "metadata": {
        "id": "gP_cp7SVuVSm"
      },
      "source": [
        "# Part III: Training\n",
        "\n",
        "We can now proceed to training our model. \n",
        "\n",
        "First you will see the `zero_optimizer_gradients` function. This is necessary during training to avoid problems with gradients accumulating. We usually execute this before we backpropagate to avoid using gradients from previous steps (see above, Autograd, for a simple example)."
      ]
    },
    {
      "cell_type": "code",
      "execution_count": null,
      "metadata": {
        "id": "OldscewkuVSn"
      },
      "outputs": [],
      "source": [
        "def zero_optimizer_gradients(optimizer):\n",
        "    optimizer.zero_grad()"
      ]
    },
    {
      "cell_type": "markdown",
      "metadata": {
        "id": "Qe-rs8qluVSn"
      },
      "source": [
        "We now proceed to the training process. We define one _epoch_ to be the period where we iterate over **all** elements (or batches) in our dataset. Usually, during training we can iterate over many epochs until we are comfortable with our results. Starting, with the smallest iteration, we a function which works on batch-level. The most important steps during one such pass are:\n",
        "* Perform a forward pass through the model\n",
        "* Perform a forward pass through the loss function using the predicted labels from the model\n",
        "* Calculate the accuracy by comparing the predictions and the ground truth\n",
        "\n",
        "This function can be used both during training (when we update the parameters of the network) and during evaluation (where we only want to predict labels). To distinguish the two modes, we use the `eval_mode` argument. When we are training (i.e. `eval_mode == False`) we must perform a backpropagation from the loss function and perform a step in the parameter space using the optimizer"
      ]
    },
    {
      "cell_type": "code",
      "execution_count": null,
      "metadata": {
        "id": "ofOqW4VOuVSn"
      },
      "outputs": [],
      "source": [
        "def perform_batch_iteration(\n",
        "    batch,\n",
        "    model,\n",
        "    criterion,\n",
        "    optimizer,\n",
        "    eval_mode):\n",
        "\n",
        "    if not eval_mode:\n",
        "        # reset gradients\n",
        "        zero_optimizer_gradients(optimizer)\n",
        "    \n",
        "    text, label = batch\n",
        "    \n",
        "    predictions = model.forward(text).squeeze(1)\n",
        "    loss = criterion.forward(predictions, label)\n",
        "    accuracy = calculate_accuracy(predictions, label)\n",
        "\n",
        "    if not eval_mode:\n",
        "        loss.backward()\n",
        "        optimizer.step()\n",
        "\n",
        "    return loss.item(), accuracy.item()"
      ]
    },
    {
      "cell_type": "markdown",
      "metadata": {
        "id": "0EinEwKyuVSn"
      },
      "source": [
        "Having passed through one bach, we then define a function which takes care for a whole epoch iteration. In one epoch, we must process _all_ batches of our data and save the loss and accuracy values that we compute for each batch."
      ]
    },
    {
      "cell_type": "code",
      "execution_count": null,
      "metadata": {
        "id": "GEYx8bz0uVSn"
      },
      "outputs": [],
      "source": [
        "def perform_epoch_iteration(\n",
        "    model,\n",
        "    dataloader,\n",
        "    criterion,\n",
        "    optimizer,\n",
        "    eval_mode):\n",
        "    \n",
        "    epoch_losses = []\n",
        "    epoch_accuracies = []\n",
        "    \n",
        "    if not eval_mode:\n",
        "        model.train()\n",
        "    else:\n",
        "        model.eval()\n",
        "\n",
        "    for batch in dataloader:\n",
        "        loss, accuracy = perform_batch_iteration(batch, model, criterion, optimizer, eval_mode)\n",
        "        epoch_losses.append(loss)\n",
        "        epoch_accuracies.append(accuracy)\n",
        "\n",
        "    return np.mean(epoch_losses), np.mean(epoch_accuracies)"
      ]
    },
    {
      "cell_type": "markdown",
      "metadata": {
        "id": "BN4HsxktuVSn"
      },
      "source": [
        "Finally, for the full training process, we perform multiple epoch iterations for both the training and the validation datasets. We keep the best validation score as a reference. In practice, one must keep reference to the model state and best validation results at the time but for simplicity reasons we skip this.\n",
        "\n",
        "_Note: As an optional exercise, you can try to define your own `train_model_v2` function where you do this._"
      ]
    },
    {
      "cell_type": "code",
      "execution_count": null,
      "metadata": {
        "id": "-m45QQCIuVSo"
      },
      "outputs": [],
      "source": [
        "def train_model(model, train_dataloader, valid_dataloader, criterion, optimizer, epochs):\n",
        "    print('Starting training...')\n",
        "    \n",
        "    train_losses, train_accuracies = [], []\n",
        "    valid_losses, valid_accuracies = [], []\n",
        "    for epoch in range(epochs):\n",
        "        \n",
        "        # iterate over the train data\n",
        "        loss, accuracy = perform_epoch_iteration(\n",
        "            model,\n",
        "            train_dataloader,\n",
        "            criterion,\n",
        "            optimizer,\n",
        "            eval_mode=False)\n",
        "\n",
        "        # store the train loss and accuracy for later\n",
        "        train_losses.append(loss)\n",
        "        train_accuracies.append(accuracy)\n",
        "        \n",
        "        print(f'Epoch: {epoch:02}')\n",
        "        print(f'\\tTrain Loss: {loss:.3f} | Train Acc: {accuracy*100:.2f}%', end='')\n",
        "        \n",
        "        # iterate over the train data\n",
        "        valid_loss, valid_accuracy = perform_epoch_iteration(\n",
        "            model,\n",
        "            valid_dataloader,\n",
        "            criterion,\n",
        "            None,\n",
        "            eval_mode=True)\n",
        "\n",
        "        # store the train loss and accuracy for later\n",
        "        valid_losses.append(valid_loss)\n",
        "        valid_accuracies.append(valid_accuracy)\n",
        "        \n",
        "        print(f'| Valid Loss: {valid_loss:.3f} | Valid Acc: {valid_accuracy*100:.2f}%')\n",
        "            \n",
        "    # finally, return the stored lists\n",
        "    return train_losses, train_accuracies, valid_losses, valid_accuracies"
      ]
    },
    {
      "cell_type": "code",
      "execution_count": null,
      "metadata": {
        "id": "-Yl83-2EuVSo",
        "outputId": "e17fc915-b0ed-4e19-ee27-0e9c1dfda284"
      },
      "outputs": [
        {
          "name": "stdout",
          "output_type": "stream",
          "text": [
            "Starting training...\n",
            "Epoch: 00\n",
            "\tTrain Loss: 0.661 | Train Acc: 66.32%| Valid Loss: 0.629 | Valid Acc: 76.87%\n",
            "Epoch: 01\n",
            "\tTrain Loss: 0.598 | Train Acc: 77.86%| Valid Loss: 0.576 | Valid Acc: 79.76%\n",
            "Epoch: 02\n",
            "\tTrain Loss: 0.543 | Train Acc: 80.93%| Valid Loss: 0.527 | Valid Acc: 83.14%\n",
            "Epoch: 03\n",
            "\tTrain Loss: 0.489 | Train Acc: 84.86%| Valid Loss: 0.484 | Valid Acc: 83.79%\n",
            "Epoch: 04\n",
            "\tTrain Loss: 0.441 | Train Acc: 86.94%| Valid Loss: 0.445 | Valid Acc: 86.46%\n",
            "Epoch: 05\n",
            "\tTrain Loss: 0.396 | Train Acc: 88.62%| Valid Loss: 0.413 | Valid Acc: 87.21%\n",
            "Epoch: 06\n",
            "\tTrain Loss: 0.362 | Train Acc: 89.57%| Valid Loss: 0.388 | Valid Acc: 87.99%\n",
            "Epoch: 07\n",
            "\tTrain Loss: 0.331 | Train Acc: 90.60%| Valid Loss: 0.368 | Valid Acc: 88.25%\n",
            "Epoch: 08\n",
            "\tTrain Loss: 0.305 | Train Acc: 91.30%| Valid Loss: 0.351 | Valid Acc: 88.22%\n",
            "Epoch: 09\n",
            "\tTrain Loss: 0.283 | Train Acc: 91.96%| Valid Loss: 0.340 | Valid Acc: 89.06%\n"
          ]
        }
      ],
      "source": [
        "# train the model\n",
        "\n",
        "N_EPOCHS = 10\n",
        "\n",
        "train_losses, train_accuracies, valid_losses, valid_accuracies = train_model(\n",
        "    model,\n",
        "    train_dataloader,\n",
        "    valid_dataloader,\n",
        "    criterion,\n",
        "    optimizer,\n",
        "    N_EPOCHS)"
      ]
    },
    {
      "cell_type": "code",
      "execution_count": null,
      "metadata": {
        "id": "yQUy03eFuVSo",
        "outputId": "401204a4-22c1-436a-eed3-dd06db7c5f85"
      },
      "outputs": [
        {
          "data": {
            "image/png": "[encoded data removed]",
            "text/plain": [
              "<Figure size 1440x720 with 1 Axes>"
            ]
          },
          "metadata": {
            "needs_background": "light"
          },
          "output_type": "display_data"
        }
      ],
      "source": [
        "# Let's compare the train and validation losses and how they changed during the different epochs\n",
        "\n",
        "plt.plot(train_losses, label='Train')\n",
        "plt.plot(valid_losses, label='Validation')\n",
        "plt.title('Loss during training')\n",
        "plt.xlabel('Epochs')\n",
        "plt.ylabel('Loss')\n",
        "plt.legend(fontsize=15)\n",
        "plt.show()"
      ]
    },
    {
      "cell_type": "code",
      "execution_count": null,
      "metadata": {
        "id": "QJmot4rjuVSo",
        "outputId": "f96c80ad-246a-4349-b8a1-ef1d33867aba"
      },
      "outputs": [
        {
          "data": {
            "image/png": "[encoded data removed]",
            "text/plain": [
              "<Figure size 1440x720 with 1 Axes>"
            ]
          },
          "metadata": {
            "needs_background": "light"
          },
          "output_type": "display_data"
        }
      ],
      "source": [
        "# We can do the same thing with the accuracy\n",
        "\n",
        "plt.plot(train_accuracies, label='Train')\n",
        "plt.plot(valid_accuracies, label='Validation')\n",
        "plt.title('Accuracy during training')\n",
        "plt.xlabel('Epochs')\n",
        "plt.ylabel('Accuracy')\n",
        "plt.legend(fontsize=15)\n",
        "plt.show()"
      ]
    },
    {
      "cell_type": "markdown",
      "metadata": {
        "id": "eR3gjaK5uVSp"
      },
      "source": [
        "You can see that as training progresses, the performance over the validation dataset stops improving as much. If we continue to train, we risk overfitting. This is what happens when our model learns the training data too well and starts forgetting about generic features that are required when dealing with unseen data (which is the case with the validation data). This is something that we must be careful about in practice as it can prevent us from applying our model on actual real world problems."
      ]
    },
    {
      "cell_type": "code",
      "execution_count": null,
      "metadata": {
        "id": "kqlLkUj4uVSp",
        "outputId": "b1fb7ea4-14f9-4ae9-a95d-8840e3d5f9df"
      },
      "outputs": [
        {
          "name": "stdout",
          "output_type": "stream",
          "text": [
            "Test Loss: 0.347 | Test Acc: 87.44%\n"
          ]
        }
      ],
      "source": [
        "# After we have fully trained our model,\n",
        "# we can let it run over the test data and check the results that we receive\n",
        "\n",
        "test_loss, test_acc = perform_epoch_iteration(model, test_dataloader, criterion, None, True)\n",
        "print(f'Test Loss: {test_loss:.3f} | Test Acc: {test_acc*100:.2f}%')"
      ]
    },
    {
      "cell_type": "markdown",
      "metadata": {
        "id": "tr-NMOXQuVSp"
      },
      "source": [
        "# Part IV: Pre-trained embeddings\n",
        "\n",
        "In recent years, pre-trained embeddings have emerged as a very powerful tool for quickly optimizing the training process. When you define an embedding layer simply as it is, its weights are initialized _randomly_. This means that in order to learn which words are contextually close to one another, we must train the model from scratch, often for long periods of time. To overcome this limitation, pre-trained embeddings can be used. If we replace the randomly initialized embeddings with ones that have already been trained in another model, then we might gain some benefits and saving time/compute. \n",
        "\n",
        "As a starting point, we use GloVe which comes built in TorchText. They can be accessed using the `vectors` argument during building the vocabulary. The most commonly used GloVe vectors are `glove.6B.300d` meaning that they have been trained on 6 billion tokens and have dimensionality of 300."
      ]
    },
    {
      "cell_type": "code",
      "execution_count": null,
      "metadata": {
        "id": "IYxb-kXfuVSp",
        "outputId": "cfea4465-778f-4e7f-a6a7-60f6c4b5cace"
      },
      "outputs": [
        {
          "name": "stderr",
          "output_type": "stream",
          "text": [
            ".vector_cache/glove.6B.zip: 862MB [02:46, 5.19MB/s]                               \n",
            "100%|█████████▉| 399999/400000 [00:40<00:00, 9924.88it/s] \n"
          ]
        }
      ],
      "source": [
        "# Watch out: 862M\n",
        "# Let's build a new vocabulary, this time using pre-trained vectors\n",
        "pretr_vocab = build_vocabulary(data_counter, vectors='glove.6B.300d')"
      ]
    },
    {
      "cell_type": "code",
      "execution_count": null,
      "metadata": {
        "id": "0y9WoMSxuVSp"
      },
      "outputs": [],
      "source": [
        "# Build dataloaders, this time using the new vocabulary\n",
        "pretr_train_dataloader, pretr_valid_dataloader, pretr_test_dataloader = \\\n",
        "    get_dataloaders(BATCH_SIZE, pretr_vocab, tokenizer)"
      ]
    },
    {
      "cell_type": "code",
      "execution_count": null,
      "metadata": {
        "id": "Ve6xmqSEuVSp"
      },
      "outputs": [],
      "source": [
        "# We define a new SentimentAnalysisModel, this time using pretrained embeddings\n",
        "pretr_model = SentimentAnalysisModel(\n",
        "    INPUT_DIMENSION,\n",
        "    EMBEDDING_DIMENSION, \n",
        "    OUTPUT_DIMENSION,\n",
        "    pretr_embeddings=pretr_vocab.vectors).to(device)\n",
        "\n",
        "pretr_optimizer = torch.optim.Adam(pretr_model.parameters())\n",
        "pretr_criterion = nn.BCEWithLogitsLoss().to(device)"
      ]
    },
    {
      "cell_type": "code",
      "execution_count": null,
      "metadata": {
        "id": "UWfwjeM9uVSq",
        "outputId": "894197f2-4fd0-4743-9153-f9c8fd73993a"
      },
      "outputs": [
        {
          "name": "stdout",
          "output_type": "stream",
          "text": [
            "Starting training...\n",
            "Epoch: 00\n",
            "\tTrain Loss: 0.662 | Train Acc: 66.18%| Valid Loss: 0.627 | Valid Acc: 74.57%\n",
            "Epoch: 01\n",
            "\tTrain Loss: 0.574 | Train Acc: 78.95%| Valid Loss: 0.542 | Valid Acc: 80.59%\n",
            "Epoch: 02\n",
            "\tTrain Loss: 0.482 | Train Acc: 84.85%| Valid Loss: 0.468 | Valid Acc: 83.94%\n",
            "Epoch: 03\n",
            "\tTrain Loss: 0.401 | Train Acc: 87.97%| Valid Loss: 0.411 | Valid Acc: 86.46%\n",
            "Epoch: 04\n",
            "\tTrain Loss: 0.341 | Train Acc: 89.92%| Valid Loss: 0.372 | Valid Acc: 87.42%\n",
            "Epoch: 05\n",
            "\tTrain Loss: 0.298 | Train Acc: 91.40%| Valid Loss: 0.350 | Valid Acc: 87.60%\n",
            "Epoch: 06\n",
            "\tTrain Loss: 0.263 | Train Acc: 92.16%| Valid Loss: 0.327 | Valid Acc: 88.13%\n",
            "Epoch: 07\n",
            "\tTrain Loss: 0.236 | Train Acc: 93.10%| Valid Loss: 0.312 | Valid Acc: 88.71%\n",
            "Epoch: 08\n",
            "\tTrain Loss: 0.213 | Train Acc: 93.86%| Valid Loss: 0.303 | Valid Acc: 88.79%\n",
            "Epoch: 09\n",
            "\tTrain Loss: 0.194 | Train Acc: 94.55%| Valid Loss: 0.295 | Valid Acc: 88.90%\n"
          ]
        }
      ],
      "source": [
        "# Train the new model with pre-trained embeddings\n",
        "(pretr_train_losses, pretr_train_accuracies, \n",
        " pretr_valid_losses, pretr_valid_accuracies) = train_model(\n",
        "    pretr_model,\n",
        "    pretr_train_dataloader,\n",
        "    pretr_valid_dataloader,\n",
        "    pretr_criterion,\n",
        "    pretr_optimizer,\n",
        "    N_EPOCHS)"
      ]
    },
    {
      "cell_type": "code",
      "execution_count": null,
      "metadata": {
        "id": "hSQRdiO4uVSq",
        "outputId": "e4ed6791-4e9c-4968-bf66-ce5f8e14c8c6"
      },
      "outputs": [
        {
          "name": "stdout",
          "output_type": "stream",
          "text": [
            "Test Loss: 0.296 | Test Acc: 88.91%\n"
          ]
        }
      ],
      "source": [
        "# Same as before, we perform an epoch iteration over the test dataset \n",
        "pretr_test_loss, pretr_test_acc = perform_epoch_iteration(\n",
        "    pretr_model,\n",
        "    pretr_test_dataloader,\n",
        "    pretr_criterion,\n",
        "    None,\n",
        "    True)\n",
        "\n",
        "# Print the results. Are those better than the non-pretrained ones?\n",
        "print(f'Test Loss: {pretr_test_loss:.3f} | Test Acc: {pretr_test_acc*100:.2f}%')"
      ]
    },
    {
      "cell_type": "code",
      "execution_count": null,
      "metadata": {
        "id": "kCR6nkMJuVSq",
        "outputId": "7c84a938-269b-4e6e-97f8-adec813c3dc6"
      },
      "outputs": [
        {
          "data": {
            "image/png": "[encoded data removed]",
            "text/plain": [
              "<Figure size 1440x720 with 1 Axes>"
            ]
          },
          "metadata": {
            "needs_background": "light"
          },
          "output_type": "display_data"
        },
        {
          "data": {
            "image/png": "[encoded data removed]",
            "text/plain": [
              "<Figure size 1440x720 with 1 Axes>"
            ]
          },
          "metadata": {
            "needs_background": "light"
          },
          "output_type": "display_data"
        }
      ],
      "source": [
        "# Let's compare the loss and accuracy values of the two models\n",
        "\n",
        "plt.plot(pretr_valid_losses, label='GloVe pre-trained')\n",
        "plt.plot(valid_losses, label='Randomly initialized')\n",
        "plt.legend(fontsize=15)\n",
        "plt.title('Comparison of validation loss during training')\n",
        "plt.xlabel('Epochs')\n",
        "plt.ylabel('Loss')\n",
        "plt.show()\n",
        "\n",
        "plt.plot(pretr_valid_accuracies, label='GloVe pre-trained')\n",
        "plt.plot(valid_accuracies, label='Randomly initialized')\n",
        "plt.legend(fontsize=15)\n",
        "plt.title('Comparison of validation accuracy during training')\n",
        "plt.xlabel('Epochs')\n",
        "plt.ylabel('Accuracy')\n",
        "plt.show()"
      ]
    },
    {
      "cell_type": "markdown",
      "metadata": {
        "id": "w40YCB7DuVSq"
      },
      "source": [
        "As you can see, GloVe embeddings significantly outperform the randomly initialized ones. Can you guess why is that?"
      ]
    },
    {
      "cell_type": "markdown",
      "metadata": {
        "id": "-Zbrv0d7uVSq"
      },
      "source": [
        "# Exercises\n",
        "\n",
        "## Play with the training parameters\n",
        "There is more than pre-trained weights that can change the outcome. Try to adjust some of the following parameters and report how this changes the outcome of your results:\n",
        "* batch size of the iterators\n",
        "* learning rate of the optimizer\n",
        "* increasing the number of epochs\n",
        " \n",
        " _Note: do not forget to re-initialize your variables (most importantly dataloader, model, optimizer). To be on the safe-side, you can use different namings for these variables in every experiment_"
      ]
    },
    {
      "cell_type": "code",
      "execution_count": null,
      "metadata": {
        "id": "7QYnyIbBuVSr"
      },
      "outputs": [],
      "source": [
        "# your code here"
      ]
    },
    {
      "cell_type": "markdown",
      "metadata": {
        "id": "_A7Cy9VIuVSr"
      },
      "source": [
        "## Pre-trained embeddings\n",
        "\n",
        "Try to use different pre-trained embeddings than the ones shown in this lab. You can use different versions of GloVe or entirely new pre-trained vectors. You can check what is currently available [here](https://pytorch.org/text/stable/_modules/torchtext/vocab.html#Vocab.load_vectors)."
      ]
    },
    {
      "cell_type": "code",
      "execution_count": null,
      "metadata": {
        "id": "pSiB0glsuVSr"
      },
      "outputs": [],
      "source": [
        "# your code here"
      ]
    },
    {
      "cell_type": "markdown",
      "metadata": {
        "id": "FeFd9cNXuVSr"
      },
      "source": [
        "## Improving the model (simple)\n",
        "\n",
        "Let us try to improve our `SentimentAnalysisModel`.\n",
        "\n",
        "In this exercise we took the mean of our embeddings after making a forward pass through the embedding layer. In practice, there is more efficient way by using an `torch.nn.EmbeddingBag` [link](https://pytorch.org/docs/stable/generated/torch.nn.EmbeddingBag.html#torch.nn.EmbeddingBag). This will make training faster and will also remove the need for taking the mean of the embeddings. Create a new class that contains the same layers as `SentimentAnalysisModel` but replacing the embedding layer with an embedding bag. Report if this changes the results in any way."
      ]
    },
    {
      "cell_type": "code",
      "execution_count": null,
      "metadata": {
        "id": "ilSsjk2juVSr"
      },
      "outputs": [],
      "source": [
        "# your code here"
      ]
    },
    {
      "cell_type": "markdown",
      "metadata": {
        "id": "Oaxqhxl-uVSr"
      },
      "source": [
        "Another simple improvement you can perform is adding another linear layer after the embeddings and before the final fully connected one. Try this with different dimensionalities and report the differences."
      ]
    },
    {
      "cell_type": "code",
      "execution_count": null,
      "metadata": {
        "id": "T6F00kdauVSr"
      },
      "outputs": [],
      "source": [
        "# your code here"
      ]
    },
    {
      "cell_type": "markdown",
      "metadata": {
        "id": "hI9tMErQuVSs"
      },
      "source": [
        "## Improving the model (advanced)\n",
        "\n",
        "These days, there are much more powerful components that researchers use instead of only embedding and linear layers. Recurrent Neural Networks (RNN) are one of the most popular ones. You can read about them here and specifically about PyTorch implementation [here](https://pytorch.org/docs/stable/generated/torch.nn.RNN.html). \n",
        "\n",
        "Try to improve your model by including a `torch.nn.RNN` module. Once this is working, you can also try a more sophisticated implementation, such as `torch.nn.LSTM` or `torch.nn.GRU`. You can experiment with the amount of layers and the bi-directionality. Practice shows that bi-directional RNNs usually perform better than uni-directional. Is this also valid for this model?\n",
        "\n",
        "_More on recurrent layers in the next lab._"
      ]
    },
    {
      "cell_type": "code",
      "execution_count": null,
      "metadata": {
        "id": "7DD1j1heuVSs"
      },
      "outputs": [],
      "source": [
        "# your code here"
      ]
    }
  ],
  "metadata": {
    "kernelspec": {
      "display_name": "Python [conda env:uva] *",
      "language": "python",
      "name": "conda-env-uva-py"
    },
    "language_info": {
      "codemirror_mode": {
        "name": "ipython",
        "version": 3
      },
      "file_extension": ".py",
      "mimetype": "text/x-python",
      "name": "python",
      "nbconvert_exporter": "python",
      "pygments_lexer": "ipython3",
      "version": "3.8.5"
    },
    "toc": {
      "base_numbering": 1,
      "nav_menu": {},
      "number_sections": true,
      "sideBar": true,
      "skip_h1_title": false,
      "title_cell": "Table of Contents",
      "title_sidebar": "Contents",
      "toc_cell": false,
      "toc_position": {},
      "toc_section_display": true,
      "toc_window_display": true
    },
    "colab": {
      "name": "7_2_PyTorch.ipynb",
      "provenance": []
    }
  },
  "nbformat": 4,
  "nbformat_minor": 0
}