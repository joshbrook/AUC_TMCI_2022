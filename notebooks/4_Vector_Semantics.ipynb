{
  "cells": [
    {
      "cell_type": "markdown",
      "metadata": {
        "id": "HddKEEiXn981"
      },
      "source": [
        "# Vector Semantics"
      ]
    },
    {
      "cell_type": "markdown",
      "metadata": {
        "id": "1UU2VyfLn983"
      },
      "source": [
        ">- [Extracting Co-occurrences](#Extracting-Co-occurrences)\n",
        ">\n",
        ">\n",
        ">- [Sparse Vectors](#Sparse-Vectors)\n",
        ">\n",
        ">\n",
        ">- [Calculating Cosine Similarities](#Calculating-Cosine-Similarities)\n",
        ">\n",
        ">\n",
        ">- [Visualizing Similarities](#Visualizing-Similarities)\n",
        ">\n",
        ">\n",
        ">- [Evaluating your Model](#Evaluating-your-Model)\n",
        ">\n",
        ">\n",
        ">- [Working with Dense Vectors](#Working-with-Dense-Vectors)"
      ]
    },
    {
      "cell_type": "markdown",
      "metadata": {
        "id": "sa5cOJ8rn984"
      },
      "source": [
        "## Packages\n",
        "\n",
        "There are many Python packages that allows you to create or manipulate vector space models:\n",
        "\n",
        "- the NLTK [collocations](http://www.nltk.org/howto/collocations.html) and [metrics](http://www.nltk.org/howto/metrics.html) modules\n",
        "\n",
        "\n",
        "- the Scikit-learn [data transformation](http://scikit-learn.org/stable/data_transforms.html) libraries \n",
        "\n",
        "\n",
        "- the [Gensim](https://radimrehurek.com/gensim/) toolkit\n",
        "\n",
        "\n",
        "- the [Dissect](http://clic.cimec.unitn.it/composes/toolkit/) toolkit\n",
        "\n",
        "We will use some of them in more depth in the future, for now you mainly need NLTK."
      ]
    },
    {
      "cell_type": "markdown",
      "metadata": {
        "id": "f5HVh1x1n986"
      },
      "source": [
        "---"
      ]
    },
    {
      "cell_type": "markdown",
      "metadata": {
        "id": "hkWeB4W6n986"
      },
      "source": [
        "## Extracting co-occurrences\n",
        "\n",
        "We'll work with the **sentence splitted, tokenized, pos-tagged and lemmatized** version of the Brown corpus:\n",
        "\n",
        "\n",
        "- filtering out the punctuation marks and words tagged as \"X\" (i.e. \"OTHER\");\n",
        "\n",
        "\n",
        "- concatenating the lemma and the pos in the following way \"be-VERB\";"
      ]
    },
    {
      "cell_type": "code",
      "execution_count": null,
      "metadata": {
        "id": "vmAiRpdZn987"
      },
      "outputs": [],
      "source": [
        "import nltk"
      ]
    },
    {
      "cell_type": "code",
      "execution_count": null,
      "metadata": {
        "scrolled": false,
        "id": "laDBuaLkn989"
      },
      "outputs": [],
      "source": [
        "from nltk.corpus import wordnet as wn\n",
        "un2wn_mapping = {\"VERB\" : wn.VERB, \"NOUN\" : wn.NOUN, \"ADJ\" : wn.ADJ, \"ADV\" : wn.ADV}\n",
        "\n",
        "brown_lemmatized = []\n",
        "\n",
        "for sentence in nltk.corpus.brown.tagged_sents(tagset='universal'):\n",
        "    lemmatized_sentence = []\n",
        "    for w, p in sentence:\n",
        "        if p in [\".\", \"X\"]:\n",
        "            continue\n",
        "        elif p in un2wn_mapping.keys():\n",
        "            lemma = nltk.WordNetLemmatizer().lemmatize(w, pos = un2wn_mapping[p])\n",
        "        else:\n",
        "            lemma = nltk.WordNetLemmatizer().lemmatize(w)\n",
        "        lemmatized_sentence.append(\"-\".join([lemma, p]))\n",
        "        \n",
        "    brown_lemmatized.append(lemmatized_sentence)"
      ]
    },
    {
      "cell_type": "code",
      "execution_count": null,
      "metadata": {
        "id": "asB6t0ecn98-",
        "outputId": "36925a1b-6f2e-432c-dcf3-df37fa52dbe8"
      },
      "outputs": [
        {
          "data": {
            "text/plain": [
              "['The-DET',\n",
              " 'Fulton-NOUN',\n",
              " 'County-NOUN',\n",
              " 'Grand-ADJ',\n",
              " 'Jury-NOUN',\n",
              " 'say-VERB',\n",
              " 'Friday-NOUN',\n",
              " 'an-DET',\n",
              " 'investigation-NOUN',\n",
              " 'of-ADP',\n",
              " \"Atlanta's-NOUN\",\n",
              " 'recent-ADJ',\n",
              " 'primary-NOUN',\n",
              " 'election-NOUN',\n",
              " 'produce-VERB',\n",
              " 'no-DET',\n",
              " 'evidence-NOUN',\n",
              " 'that-ADP',\n",
              " 'any-DET',\n",
              " 'irregularity-NOUN',\n",
              " 'take-VERB',\n",
              " 'place-NOUN']"
            ]
          },
          "execution_count": 22,
          "metadata": {},
          "output_type": "execute_result"
        }
      ],
      "source": [
        "brown_lemmatized[0]"
      ]
    },
    {
      "cell_type": "markdown",
      "metadata": {
        "id": "a0D6YjfAn98_"
      },
      "source": [
        "### from co-occurrences...\n",
        "\n",
        "```\n",
        "…ound and sonic power of a [new electric   guitar  played through] a guitar amp has play…\n",
        "                         …[Some electric   guitar  models feature] piezoelectric pickups…\n",
        "                               …[Playing   guitar  with a] pick produces a bright sound …\n",
        "…ings, he is known for [playing fretless   guitar  in his] performances…\n",
        "               …the neck of [a classical   guitar  is too] wide and the normal position …\n",
        "…t in the centre of Bristol [playing the   piano   , I was] punched in the head while, a…\n",
        "…r in Houston, Texanstagram [playing the   piano   in his] flooded home after Hurrican H…\n",
        "… some supplies, he stopped to [play the   piano   that was] sitting in knee-high water …\n",
        "…te and one black, who [played classical   piano   together]…\n",
        "                    …The [first electric   pianos  from the] late 1920s used metal strin…\n",
        "…technologies, for example [the electric    car    and the] integration of mobile commun… \n",
        "…study had each driver of [each electric    car    drive unimpeded], perform a task whil…\n",
        "…Honda to commence testing of [their new    car    and the] American was no doubt more t…\n",
        "…mary design considerations for [the new    car    were \"safety] innovations, performanc…\n",
        "…would be possible if almost [all private   cars   requiring drivers], which are not in …\n",
        "… who donate to groups [providing private  school  scholarships have] written pieces att…\n",
        "… that students participating [in private  school  choice programs] graduate high school…\n",
        "…s in the establishment of this [new high  school  , named the] Gavirate Business School…\n",
        "         …Anna heads into her [final high  school  year before] university wanting somet…\n",
        "… but he can prevent them from [playing at school]\n",
        "```"
      ]
    },
    {
      "cell_type": "markdown",
      "metadata": {
        "id": "l4INsg1Sn99H"
      },
      "source": [
        "Before counting co-occurrences, it is crucial to have a clear idea of:\n",
        "\n",
        "- what our target words are : **what do we want to study?** \n",
        "    - E.g., in what follows we will focus on nouns.\n",
        "\n",
        "\n",
        "- what our contexts are: **how do we want to characterize our target words?** \n",
        "    - E.g., in what follows we will use the co-occurring words as contexts; \n",
        "    - other possibilities could have been: solely verbs, solely open class words, a mixture of PoS-tags and lexicalized elements...\n",
        "    \n",
        "**Textual co-coccurrence counts** between a target word and a contextual word are obtained by counting the number of text segments (i.e. sentences, in our case) in which they co-occur one or more times."
      ]
    },
    {
      "cell_type": "code",
      "execution_count": null,
      "metadata": {
        "id": "fGJ1eB5qn99I"
      },
      "outputs": [],
      "source": [
        "from itertools import permutations\n",
        "from collections import Counter"
      ]
    },
    {
      "cell_type": "code",
      "execution_count": null,
      "metadata": {
        "id": "QQ5UQ3-4n99J"
      },
      "outputs": [],
      "source": [
        "cooccs_textual = Counter()\n",
        "\n",
        "for sentence in brown_lemmatized:\n",
        "    cooccs_textual.update([pair for pair in set(permutations(sentence, 2)) if pair[0].split(\"-\")[-1] == \"NOUN\"])"
      ]
    },
    {
      "cell_type": "code",
      "execution_count": null,
      "metadata": {
        "id": "9eI2inFtn99J",
        "outputId": "cf1fa6fb-f85b-49d2-aac5-b0abe6d76e7c"
      },
      "outputs": [
        {
          "data": {
            "text/plain": [
              "[(('time-NOUN', 'be-VERB', 'the-DET'), 837),\n",
              " (('time-NOUN', 'the-DET', 'be-VERB'), 837),\n",
              " (('time-NOUN', 'the-DET', 'the-DET'), 783),\n",
              " (('time-NOUN', 'the-DET', 'of-ADP'), 779),\n",
              " (('time-NOUN', 'of-ADP', 'the-DET'), 779),\n",
              " (('year-NOUN', 'of-ADP', 'the-DET'), 751),\n",
              " (('year-NOUN', 'the-DET', 'of-ADP'), 751),\n",
              " (('year-NOUN', 'the-DET', 'the-DET'), 686),\n",
              " (('year-NOUN', 'the-DET', 'be-VERB'), 669),\n",
              " (('year-NOUN', 'be-VERB', 'the-DET'), 669)]"
            ]
          },
          "execution_count": 25,
          "metadata": {},
          "output_type": "execute_result"
        }
      ],
      "source": [
        "cooccs_textual.most_common(10)"
      ]
    },
    {
      "cell_type": "code",
      "execution_count": null,
      "metadata": {
        "id": "hcqt7cz_n99K",
        "outputId": "32fcfdf5-ad1d-4473-88db-ce684a8c00c5"
      },
      "outputs": [
        {
          "data": {
            "text/plain": [
              "[(('place-NOUN', 'County-NOUN'), 1),\n",
              " (('Fulton-NOUN', 'Friday-NOUN'), 1),\n",
              " (('Fulton-NOUN', 'say-VERB'), 1),\n",
              " (('Jury-NOUN', 'Friday-NOUN'), 1),\n",
              " (('Jury-NOUN', 'say-VERB'), 1),\n",
              " (('irregularity-NOUN', 'Jury-NOUN'), 1),\n",
              " (('primary-NOUN', 'say-VERB'), 1),\n",
              " (('place-NOUN', 'Jury-NOUN'), 1),\n",
              " (('Fulton-NOUN', 'that-ADP'), 1),\n",
              " (('investigation-NOUN', 'produce-VERB'), 1)]"
            ]
          },
          "execution_count": 26,
          "metadata": {},
          "output_type": "execute_result"
        }
      ],
      "source": [
        "# That's pretty dense code. Let's add some prints for logging, to see what is going on...\n",
        "\n",
        "logbool = 0 # logging boolean. set to 0 to let it run to the end and see the result.\n",
        "\n",
        "cooccs_textual = Counter()\n",
        "\n",
        "brown_lemmatized_one = brown_lemmatized[:1]\n",
        "\n",
        "for sentence in brown_lemmatized_one:\n",
        "    if logbool: print(sentence, \"\\n\")\n",
        "    for pair in set(permutations(sentence, 2)):\n",
        "        if pair[0].split(\"-\")[-1] == \"NOUN\":\n",
        "            if logbool: print(pair[0], pair[1])\n",
        "            if logbool: input(\"\")\n",
        "        \n",
        "cooccs_textual.update([pair for pair in set(permutations(sentence, 2)) if pair[0].split(\"-\")[-1] == \"NOUN\"])\n",
        "\n",
        "cooccs_textual.most_common(10)"
      ]
    },
    {
      "cell_type": "markdown",
      "metadata": {
        "id": "ZdIJcxtQn99K"
      },
      "source": [
        "**Surface co-coccurrence counts** between a target word and a contextual word are obtained by counting how many times a contextual word occurs in a collocational span surrounding the target word. The collocational span can be symmetric or asymmetric. \n",
        "\n",
        "\n",
        "In what follows we use a symmetric ±5w span."
      ]
    },
    {
      "cell_type": "code",
      "execution_count": null,
      "metadata": {
        "id": "v0SADMy1n99L"
      },
      "outputs": [],
      "source": [
        "spansize = 5\n",
        "\n",
        "cooccs_surface = Counter()\n",
        "\n",
        "for sentence in brown_lemmatized:\n",
        "    for i,w in enumerate(sentence):\n",
        "        if w.split(\"-\")[-1] == \"NOUN\":\n",
        "            span_range = list(range(max(i- spansize, 0), i)) # left side indices (range, then list so we can extend)\n",
        "            span_range.extend(range(i+1, min(i + spansize + 1, len(sentence)))) # extend by right side indices\n",
        "            for cw in [sentence[idx] for idx in span_range]:\n",
        "                cooccs_surface[(w, cw)] += 1"
      ]
    },
    {
      "cell_type": "code",
      "execution_count": null,
      "metadata": {
        "id": "GVrm-3lln99L",
        "outputId": "45631f82-3974-4716-9719-a8a1207e025e"
      },
      "outputs": [
        {
          "data": {
            "text/plain": [
              "[(('time-NOUN', 'the-DET'), 1130),\n",
              " (('year-NOUN', 'the-DET'), 875),\n",
              " (('world-NOUN', 'the-DET'), 700),\n",
              " (('way-NOUN', 'the-DET'), 665),\n",
              " (('man-NOUN', 'the-DET'), 619),\n",
              " (('Af-NOUN', 'the-DET'), 610),\n",
              " (('day-NOUN', 'the-DET'), 608),\n",
              " (('man-NOUN', 'a-DET'), 601),\n",
              " (('time-NOUN', 'be-VERB'), 570),\n",
              " (('States-NOUN', 'the-DET'), 552)]"
            ]
          },
          "execution_count": 28,
          "metadata": {},
          "output_type": "execute_result"
        }
      ],
      "source": [
        "cooccs_surface.most_common(10)"
      ]
    },
    {
      "cell_type": "code",
      "execution_count": null,
      "metadata": {
        "id": "iZrCUL4Mn99L"
      },
      "outputs": [],
      "source": [
        "logbool = 0 # logging boolean. set to 0 to let it run to the end and see the result.\n",
        "\n",
        "spansize = 5\n",
        "\n",
        "cooccs_surface = Counter()\n",
        "\n",
        "for sentence in brown_lemmatized:\n",
        "    if logbool: print(\" \".join(sentence), \"\\n\")\n",
        "    for i,w in enumerate(sentence):\n",
        "        if logbool: print(\"word:\", i, w)\n",
        "        if w.split(\"-\")[-1] == \"NOUN\":\n",
        "            span_range = list(range(max(i-spansize, 0), i))  # left side indices (range, then list so we can extend)\n",
        "            span_range.extend(range(i+1, min(i + spansize + 1, len(sentence))))  # extend by right side indices\n",
        "            if logbool: print(\"span: \", span_range)\n",
        "            for cw in [sentence[idx] for idx in span_range]:\n",
        "                cooccs_surface[(w, cw)] += 1\n",
        "                if logbool: print(\"count:\", w, cw)\n",
        "        if logbool: input(\"\")\n",
        "        \n",
        "#for key, value in cooccs_surface.items():\n",
        "#    print(key, \",\", value)\n",
        "#    if value >= 2: break"
      ]
    },
    {
      "cell_type": "markdown",
      "metadata": {
        "id": "Hg9IhzhAn99M"
      },
      "source": [
        "### ... to (Weighted) Counts\n",
        "\n",
        "\n",
        "|    *WORD*   |      play |  electric | classical |   private |      high |       ... |       the |       new | \n",
        "| ----------- |:---------:|:---------:|:---------:|:---------:|:---------:|:---------:|:---------:|:---------:|\n",
        "| **guitar**  |         3 |         2 |         1 |         0 |         0 |       ... |         0 |         1 | \n",
        "| **piano**   |         4 |         1 |         1 |         0 |         0 |       ... |         4 |         0 | \n",
        "| **car**     |         0 |         2 |         0 |         1 |         0 |       ... |         4 |         2 | \n",
        "| **school**  |         1 |         0 |         0 |         2 |         2 |       ... |         1 |         1 | "
      ]
    },
    {
      "cell_type": "markdown",
      "metadata": {
        "id": "_tuEp0wun99M"
      },
      "source": [
        "For different (yet related) reasons, it is good practice to **filter out**:\n",
        "\n",
        "- very **infrequent target** items\n",
        "    - we have too few empirical evidence to draw conclusion about them\n",
        "    - the minimal threshold is usually determined empirically, by looking at the word distribution\n",
        "    \n",
        "    \n",
        "- very **infrequent contextual** items\n",
        "    - they mainly slow down the computation, without adding much relevant information\n",
        "    - this is performed either by selecting the n-top frequent items or by deleting those below an empirically determined threshold\n",
        "    \n",
        "    \n",
        "- very **frequent contextual** items\n",
        "    - these elements carry little discriminative power\n",
        "    - this is usually performed by using a stoplist, or by selecting context belonging only to some parts of speech.\n",
        "    \n",
        "An example of a list of English stopwords (= words to filter out because they tend to be uninformative) is available in NLTK (but we won't use it yet): ``print(nltk.corpus.stopwords.words('english'))``"
      ]
    },
    {
      "cell_type": "markdown",
      "metadata": {
        "id": "AqwpgmTbn99N"
      },
      "source": [
        "#### What can be a suitable filtering strategy for our corpus?"
      ]
    },
    {
      "cell_type": "code",
      "execution_count": null,
      "metadata": {
        "id": "TXWpbSMpn99N"
      },
      "outputs": [],
      "source": [
        "from itertools import chain\n",
        "\n",
        "import numpy as np\n",
        "import matplotlib.pyplot as plt\n",
        "\n",
        "plt.rcdefaults()"
      ]
    },
    {
      "cell_type": "code",
      "execution_count": null,
      "metadata": {
        "id": "m-u75yLYn99N",
        "outputId": "dc194e3e-f6ef-4c7e-f29f-de401ffffcaf"
      },
      "outputs": [
        {
          "name": "stdout",
          "output_type": "stream",
          "text": [
            "[('stupefy-VERB', 1), ('boucle-NOUN', 1), ('coral-colored-ADJ', 1), ('Cherokee-NOUN', 1), ('olive-flushed-ADJ', 1), ('aviary-NOUN', 1), ('Perelman-NOUN', 1), ('Compassionately-ADV', 1), ('bilharziasis-NOUN', 1), ('fluke-NOUN', 1), ('wilt-NOUN', 1), ('yaw-NOUN', 1), ('Bodhisattva-NOUN', 1), ('horoscope-NOUN', 1), ('pityingly-ADV', 1), ('bathos-NOUN', 1), ('plumb-VERB', 1), ('straightaway-ADV', 1), ('hubris-NOUN', 1), ('beggary-NOUN', 1)]\n"
          ]
        }
      ],
      "source": [
        "# all words, least frequent...\n",
        "brown_lemmas_frequencies = Counter(chain(*brown_lemmatized))\n",
        "print(list(reversed(brown_lemmas_frequencies.most_common()))[:20])"
      ]
    },
    {
      "cell_type": "code",
      "execution_count": null,
      "metadata": {
        "id": "UTEhROABn99N",
        "outputId": "057ba305-b66f-4b78-a903-7b807672bd69"
      },
      "outputs": [
        {
          "name": "stdout",
          "output_type": "stream",
          "text": [
            "[('the-DET', 62710), ('be-VERB', 37099), ('of-ADP', 36078), ('and-CONJ', 27912), ('a-DET', 21872), ('in-ADP', 19066), ('to-PRT', 14742), ('have-VERB', 11675), ('to-ADP', 10985), ('for-ADP', 8833), ('The-DET', 7258), ('with-ADP', 7009), ('it-PRON', 6722), ('he-PRON', 6564), ('his-DET', 6428), ('that-ADP', 6422), ('on-ADP', 5837), ('a-ADP', 5656), ('I-PRON', 5155), ('by-ADP', 5044)]\n"
          ]
        }
      ],
      "source": [
        "# ...and most frequent\n",
        "print(brown_lemmas_frequencies.most_common(20))"
      ]
    },
    {
      "cell_type": "markdown",
      "metadata": {
        "id": "e3Z256s0n99O"
      },
      "source": [
        "> Most of the **non-informative frequent contexts** can be filtered out by ignoring **closed class** words together with few semantically \"empty\" verbs like \"be\", \"have\", \"do\", \"would\", \"will\"..."
      ]
    },
    {
      "cell_type": "code",
      "execution_count": null,
      "metadata": {
        "id": "BdO3T9f0n99O",
        "outputId": "4b1d0422-7ad5-4572-ca91-9ad10b75c0f8"
      },
      "outputs": [
        {
          "data": {
            "image/png": "[encoded data removed]",
            "text/plain": [
              "<Figure size 640x480 with 1 Axes>"
            ]
          },
          "metadata": {},
          "output_type": "display_data"
        }
      ],
      "source": [
        "x = np.arange(1, len(brown_lemmas_frequencies) + 1)\n",
        "y = np.array(sorted(brown_lemmas_frequencies.values(), reverse = True))\n",
        "\n",
        "plt.plot(x, y)\n",
        "\n",
        "plt.yscale('log') \n",
        "\n",
        "plt.show()"
      ]
    },
    {
      "cell_type": "markdown",
      "metadata": {
        "id": "E0s1WHhwn99O"
      },
      "source": [
        "> A Suitable frequency threshold for our contexts could be **10** (mainly due to the small corpus size)"
      ]
    },
    {
      "cell_type": "code",
      "execution_count": null,
      "metadata": {
        "id": "aqDrx0Stn99O",
        "outputId": "9f0c2925-b837-4289-a70e-716a2a567284"
      },
      "outputs": [
        {
          "name": "stdout",
          "output_type": "stream",
          "text": [
            ">> 7576 context lemmas\n",
            "[('not-ADV', 4423), ('say-VERB', 2725), ('make-VERB', 2279), ('time-NOUN', 1815), ('go-VERB', 1778), ('when-ADV', 1746), ('can-VERB', 1741), ('other-ADJ', 1627), ('year-NOUN', 1589), ('take-VERB', 1521), ('come-VERB', 1501), ('know-VERB', 1462), ('get-VERB', 1427), ('so-ADV', 1336), ('may-VERB', 1290), ('only-ADV', 1281), ('give-VERB', 1238), ('more-ADV', 1188), ('man-NOUN', 1148), ('see-VERB', 1111)]\n"
          ]
        }
      ],
      "source": [
        "filtered_brown_lemmas_frequencies = Counter()\n",
        "selected_brown_noun_frequencies = Counter()\n",
        "\n",
        "for k,v in brown_lemmas_frequencies.items():\n",
        "    pos = k.split(\"-\")[-1]\n",
        "    if v >= 10 and \\\n",
        "    pos in [\"NOUN\", \"VERB\", \"ADJ\", \"ADV\"]\\\n",
        "    and k.split(\"-\")[0] not in [\"be\", \"have\", \"do\", \"would\", \"will\", \"could\"]:\n",
        "        filtered_brown_lemmas_frequencies[k] = v\n",
        "        if pos == \"NOUN\":\n",
        "            selected_brown_noun_frequencies[k] = v\n",
        "\n",
        "print(\">>\", len(filtered_brown_lemmas_frequencies), \"context lemmas\")\n",
        "print(filtered_brown_lemmas_frequencies.most_common(20))"
      ]
    },
    {
      "cell_type": "code",
      "execution_count": null,
      "metadata": {
        "id": "wbOyxxD1n99P",
        "outputId": "6c4ecf9d-545a-4ab5-cf3e-e5baf0f624d7"
      },
      "outputs": [
        {
          "name": "stdout",
          "output_type": "stream",
          "text": [
            "4427 target nouns\n"
          ]
        }
      ],
      "source": [
        "print(len(selected_brown_noun_frequencies), \"target nouns\")"
      ]
    },
    {
      "cell_type": "code",
      "execution_count": null,
      "metadata": {
        "id": "HNThm9gOn99P",
        "outputId": "64aaaf58-a0fa-43e9-cdbb-66dbea58c41f"
      },
      "outputs": [
        {
          "name": "stdout",
          "output_type": "stream",
          "text": [
            "[(('Af-NOUN', 'Af-NOUN'), 460), (('States-NOUN', 'United-VERB'), 396), (('York-NOUN', 'New-ADJ'), 303), (('year-NOUN', 'ago-ADV'), 150), (('Mrs.-NOUN', 'Mrs.-NOUN'), 120), (('year-NOUN', 'last-ADJ'), 114), (('time-NOUN', 'same-ADJ'), 96), (('Rhode-NOUN', 'Island-NOUN'), 91), (('Island-NOUN', 'Rhode-NOUN'), 91), (('time-NOUN', 'time-NOUN'), 88), (('place-NOUN', 'take-VERB'), 87), (('year-NOUN', 'fiscal-ADJ'), 81), (('school-NOUN', 'high-ADJ'), 77), (('time-NOUN', 'first-ADJ'), 74), (('Mr.-NOUN', 'say-VERB'), 68), (('hand-NOUN', 'other-ADJ'), 66), (('House-NOUN', 'White-ADJ'), 65), (('man-NOUN', 'not-ADV'), 64), (('night-NOUN', 'last-ADJ'), 63), (('World-NOUN', 'War-NOUN'), 62)]\n"
          ]
        }
      ],
      "source": [
        "filtered_cooccs_surface = Counter()\n",
        "\n",
        "for k,v in cooccs_surface.items():\n",
        "    if k[0] in selected_brown_noun_frequencies and k[1] in filtered_brown_lemmas_frequencies:\n",
        "        filtered_cooccs_surface[k] = v\n",
        "\n",
        "print(filtered_cooccs_surface.most_common(20))"
      ]
    },
    {
      "cell_type": "markdown",
      "metadata": {
        "id": "dh0gOyjWn99Q"
      },
      "source": [
        "### Weighting the Counts\n",
        "\n",
        "- Association measures are used to **give more weight to surprising events** and less weight to expected events.\n",
        "\n",
        "\n",
        "- Many measures of this sort are available in NLTK (and the other above quoted toolkits as well).\n",
        "\n",
        "\n",
        "- Let's use the measures we've discussed in class to weight our counts."
      ]
    },
    {
      "cell_type": "code",
      "execution_count": null,
      "metadata": {
        "id": "N_TcwhDSn99Q",
        "outputId": "37a813f0-724a-41d6-a095-55f0b337b2a3"
      },
      "outputs": [
        {
          "name": "stdout",
          "output_type": "stream",
          "text": [
            "['chi_sq', 'dice', 'fisher', 'jaccard', 'likelihood_ratio', 'mi_like', 'phi_sq', 'pmi', 'poisson_stirling', 'raw_freq', 'student_t']\n"
          ]
        }
      ],
      "source": [
        "print([asm for asm in dir(nltk.collocations.BigramAssocMeasures) if not asm.startswith(\"_\")])"
      ]
    },
    {
      "cell_type": "code",
      "execution_count": null,
      "metadata": {
        "id": "sSRAU7m2n99Q"
      },
      "outputs": [],
      "source": [
        "from math import log\n",
        "\n",
        "# All functions receive as arguments:\n",
        "#\n",
        "#   o_11>> the joint frequency of w1 and w2 >> f(w1, w2)\n",
        "#   r_1 >> w1 marginals >> f(w1, *)\n",
        "#   c_1 >> w2 marginals >> f(*, w2)\n",
        "#   n >> total number of possible coccorrencies >> f(*, *)\n",
        "\n",
        "# These arguments can be arranged in a contingency table of the form:\n",
        "#\n",
        "#          w2    ~w2\n",
        "#        ------ ------\n",
        "#    w1 | o_11 | o_12 | = r_1\n",
        "#        ------ ------\n",
        "#   ~w1 | o_21 | o_22 | = r_2\n",
        "#        ------ ------\n",
        "#        = c_1  = c_2   = n\n",
        "\n",
        "\n",
        "def ppmi(o_11, r_1, c_1, n):\n",
        "    \"\"\"\n",
        "    Positive Pointwise Mutual Information (Church & Hanks, 1990)\n",
        "    \n",
        "    PMI is also available in NLTK:\n",
        "    from nltk.metrics import BigramAssocMeasures\n",
        "    print BigramAssocMeasures.pmi(8, (15828, 4675), 14307668)\n",
        "    \"\"\"\n",
        "    observed = o_11\n",
        "    expected = (r_1*c_1)/n \n",
        "    res = log(observed/expected,2)\n",
        "    return max(0, res)\n",
        "\n",
        "\n",
        "def plmi(o_11, r_1, c_1, n):\n",
        "    \"\"\"\n",
        "    Positive Local Mutual Information, useful for leveraging the \n",
        "    low-frequency bias of the PPMI\n",
        "    \"\"\"\n",
        "    res = o_11 * ppmi(o_11, r_1, c_1, n)\n",
        "    return res\n",
        "\n",
        "\n",
        "def log_likelihood(o_11, r_1, c_1, n):\n",
        "    \"\"\"\n",
        "    Log Likelihood measure (Dunning, 1993) or \"G-squared\" measure \n",
        "\n",
        "    NOTE that when o_ii is zero log_2(o_ii) is negative infinity and Python\n",
        "    raises a ValueError. However, we're summing up o_ii * log_2(o_ii/e_ii)\n",
        "    and the limit of this factor goes to zero, so that we can simply\n",
        "    ignore those cells where o_ii is zero\n",
        "    \"\"\"\n",
        "    obs_table = [o_11, r_1 - o_11, c_1 - o_11, n - (c_1 + r_1 - o_11)]  # o_11, o_12, o_21, o_22\n",
        "    exp_table = [(r_1 * c_1)/ n,\n",
        "                 (r_1 * (n - c_1))/ n,\n",
        "                 ((n - r_1) * c_1)/ n,\n",
        "                 ((n - r_1) * (n - c_1))/ n]  # e_11, e_12, e_21, e_22\n",
        "    res = 0\n",
        "    for i, obs in enumerate(obs_table):\n",
        "        try:\n",
        "            res += obs * log(obs / exp_table[i])\n",
        "        except ValueError:\n",
        "            continue\n",
        "    res = 2 * res\n",
        "    return res"
      ]
    },
    {
      "cell_type": "code",
      "execution_count": null,
      "metadata": {
        "id": "tAI3nqUZn99R",
        "outputId": "4c68c34a-3b64-4213-b1d1-de063117a2ff"
      },
      "outputs": [
        {
          "name": "stdout",
          "output_type": "stream",
          "text": [
            "[(('Hong-NOUN', 'Kong-NOUN'), 17.654091187664235), (('Kong-NOUN', 'Hong-NOUN'), 17.654091187664235), (('Income-NOUN', 'Gross-ADJ'), 17.654091187664235), (('cellulose-NOUN', 'cellulose-NOUN'), 17.46966661652681), (('Income-NOUN', 'Adjusted-VERB'), 17.376557212135328), (('Viet-NOUN', 'Nam-NOUN'), 17.113522806301532), (('Nam-NOUN', 'Viet-NOUN'), 17.113522806301532), (('Pathet-NOUN', 'Lao-NOUN'), 17.026059965051196), (('Lao-NOUN', 'Pathet-NOUN'), 17.026059965051196), (('Simms-NOUN', 'Purdew-NOUN'), 17.026059965051196)]\n"
          ]
        }
      ],
      "source": [
        "ppmis_surface = Counter()\n",
        "\n",
        "N = sum(cooccs_surface.values())  # note that this is NOT the reduced dictionary\n",
        "\n",
        "for k,v in filtered_cooccs_surface.items():\n",
        "    ppmis_surface[k] = ppmi(v, brown_lemmas_frequencies[k[0]], brown_lemmas_frequencies[k[1]], N)\n",
        "    \n",
        "print(ppmis_surface.most_common(10))"
      ]
    },
    {
      "cell_type": "code",
      "execution_count": null,
      "metadata": {
        "id": "ht1XQwEKn99R",
        "outputId": "1fd5b951-5e33-4664-a3bd-c27779415adf"
      },
      "outputs": [
        {
          "name": "stdout",
          "output_type": "stream",
          "text": [
            "[(('States-NOUN', 'United-VERB'), 4787.77840883779), (('Af-NOUN', 'Af-NOUN'), 4620.612036095815), (('York-NOUN', 'New-ADJ'), 3621.1147930991538), (('year-NOUN', 'ago-ADV'), 1464.8885373164483), (('Rhode-NOUN', 'Island-NOUN'), 1258.5533261922783), (('Island-NOUN', 'Rhode-NOUN'), 1258.5533261922783), (('Mrs.-NOUN', 'Mrs.-NOUN'), 1187.8825846241932), (('year-NOUN', 'last-ADJ'), 928.5404042426062), (('House-NOUN', 'White-ADJ'), 851.4369612227013), (('World-NOUN', 'War-NOUN'), 810.2368093216919)]\n"
          ]
        }
      ],
      "source": [
        "plmis_surface = Counter()\n",
        "\n",
        "N = sum(cooccs_surface.values())  # note that this is NOT the reduced dictionary\n",
        "\n",
        "for k,v in filtered_cooccs_surface.items():\n",
        "    plmis_surface[k] = plmi(v, brown_lemmas_frequencies[k[0]], brown_lemmas_frequencies[k[1]], N)\n",
        "    \n",
        "print(plmis_surface.most_common(10))"
      ]
    },
    {
      "cell_type": "code",
      "execution_count": null,
      "metadata": {
        "id": "o04IRpGDn99S",
        "outputId": "3561ace1-eccf-41e9-b88a-9fd7ace5fbaa"
      },
      "outputs": [
        {
          "name": "stdout",
          "output_type": "stream",
          "text": [
            "[(('States-NOUN', 'United-VERB'), 6953.964479037217), (('Af-NOUN', 'Af-NOUN'), 5998.501456806236), (('York-NOUN', 'New-ADJ'), 5218.669840636507), (('year-NOUN', 'ago-ADV'), 1864.8375330848553), (('Rhode-NOUN', 'Island-NOUN'), 1771.6494950804188), (('Island-NOUN', 'Rhode-NOUN'), 1771.6494950804188), (('Mrs.-NOUN', 'Mrs.-NOUN'), 1465.3982476383976), (('House-NOUN', 'White-ADJ'), 1143.7883279065052), (('S.-NOUN', 'U.-NOUN'), 1133.8897390180484), (('U.-NOUN', 'S.-NOUN'), 1133.8897390180482)]\n"
          ]
        }
      ],
      "source": [
        "lls_surface = Counter()\n",
        "\n",
        "N = sum(cooccs_surface.values())  # note that this is NOT the reduced dictionary\n",
        "\n",
        "for k,v in filtered_cooccs_surface.items():\n",
        "    lls_surface[k] = log_likelihood(v, brown_lemmas_frequencies[k[0]], brown_lemmas_frequencies[k[1]], N)\n",
        "    \n",
        "print(lls_surface.most_common(10))"
      ]
    },
    {
      "cell_type": "markdown",
      "metadata": {
        "id": "Ae39Hnyen99S"
      },
      "source": [
        "---"
      ]
    },
    {
      "cell_type": "markdown",
      "metadata": {
        "id": "-xO7FZtIn99S"
      },
      "source": [
        "### Exercise\n",
        "\n",
        "Choose three (frequent) nouns and print their top-associates according to each one of the above implemented association measures."
      ]
    },
    {
      "cell_type": "code",
      "execution_count": null,
      "metadata": {
        "id": "MhC33Ehzn99S"
      },
      "outputs": [],
      "source": [
        "# your code here"
      ]
    },
    {
      "cell_type": "markdown",
      "metadata": {
        "id": "_D8IL_4mn99S"
      },
      "source": [
        "---"
      ]
    },
    {
      "cell_type": "code",
      "execution_count": null,
      "metadata": {
        "id": "T6lu4PYnn99S"
      },
      "outputs": [],
      "source": [
        "import math \n",
        "\n",
        "from itertools import chain, permutations, product\n",
        "from collections import Counter\n",
        "\n",
        "import nltk\n",
        "import numpy as np\n",
        "import scipy\n",
        "import sklearn\n",
        "\n",
        "import matplotlib.pyplot as plt\n",
        "\n",
        "from scipy import cluster\n",
        "from sklearn import manifold, metrics\n",
        "from nltk.corpus import wordnet as wn\n",
        "\n",
        "plt.rcdefaults()"
      ]
    },
    {
      "cell_type": "markdown",
      "metadata": {
        "id": "lDBU4Lftn99T"
      },
      "source": [
        "---"
      ]
    },
    {
      "cell_type": "markdown",
      "metadata": {
        "id": "ynZlA5mIn99T"
      },
      "source": [
        "## Sparse Vectors"
      ]
    },
    {
      "cell_type": "markdown",
      "metadata": {
        "collapsed": true,
        "id": "qsX0GitWn99T"
      },
      "source": [
        "![alt text](https://github.com/bloemj/AUC_TMCI_2022/blob/main/notebooks/images/3dvectors.png?raw=1)"
      ]
    },
    {
      "cell_type": "markdown",
      "metadata": {
        "id": "alZDCOgqn99T"
      },
      "source": [
        "Let's create our vectors by populating a matrix for each of our types of weighted co-occurrences:"
      ]
    },
    {
      "cell_type": "code",
      "execution_count": null,
      "metadata": {
        "id": "KilrDQ-hn99T"
      },
      "outputs": [],
      "source": [
        "# lemma to row/column index mappings\n",
        "sorted_vectors = sorted(selected_brown_noun_frequencies)\n",
        "vectors_indices = dict((v,i) for i,v in enumerate(sorted_vectors))\n",
        "contexts_indices = dict((v,i) for i,v in enumerate(sorted(filtered_brown_lemmas_frequencies)))"
      ]
    },
    {
      "cell_type": "code",
      "execution_count": null,
      "metadata": {
        "id": "Cn8UyJ-1n99T"
      },
      "outputs": [],
      "source": [
        "# initialize the PPMI-Weighted matrix\n",
        "ppmiMat = np.zeros((len(vectors_indices), len(contexts_indices)))\n",
        "\n",
        "# populate the matrix\n",
        "for pair, weight in ppmis_surface.items():\n",
        "    ppmiMat[vectors_indices[pair[0]]][contexts_indices[pair[1]]] = weight"
      ]
    },
    {
      "cell_type": "code",
      "execution_count": null,
      "metadata": {
        "id": "kGe2MJLxn99U"
      },
      "outputs": [],
      "source": [
        "# initialize the PLMI-Weighted matrix\n",
        "plmiMat = np.zeros((len(vectors_indices), len(contexts_indices)))\n",
        "\n",
        "# populate the matrix\n",
        "for pair, weight in plmis_surface.items():\n",
        "    plmiMat[vectors_indices[pair[0]]][contexts_indices[pair[1]]] = weight"
      ]
    },
    {
      "cell_type": "code",
      "execution_count": null,
      "metadata": {
        "id": "ZSN-dVV6n99U"
      },
      "outputs": [],
      "source": [
        "# initialize the LL-Weighted matrix\n",
        "llMat = np.zeros((len(vectors_indices), len(contexts_indices)))\n",
        "\n",
        "# populate the matrix\n",
        "for pair, weight in lls_surface.items():\n",
        "    llMat[vectors_indices[pair[0]]][contexts_indices[pair[1]]] = weight"
      ]
    },
    {
      "cell_type": "markdown",
      "metadata": {
        "id": "47n8JXaLn99U"
      },
      "source": [
        "---"
      ]
    },
    {
      "cell_type": "markdown",
      "metadata": {
        "id": "f_Cve6ven99U"
      },
      "source": [
        "## Calculating Cosine Similarities"
      ]
    },
    {
      "cell_type": "markdown",
      "metadata": {
        "collapsed": true,
        "id": "nfgDuJyFn99U"
      },
      "source": [
        "![alt text](https://github.com/bloemj/AUC_TMCI_2022/blob/main/notebooks/images/vectors-similarity.png?raw=1)"
      ]
    },
    {
      "cell_type": "markdown",
      "metadata": {
        "collapsed": true,
        "id": "2NuB71xAn99U"
      },
      "source": [
        "The diverse similarity measures we've mentioned in class can be calculated by using the **distance** measures available in virtually all the above cited toolkits, or can be easily implemented. \n",
        "\n",
        "For instance, the **cosine similarity** between the two Numpy arrays `v_1` and `v_2` can be calculated by using one of the following functions:"
      ]
    },
    {
      "cell_type": "code",
      "execution_count": null,
      "metadata": {
        "id": "hFqld_NJn99V"
      },
      "outputs": [],
      "source": [
        "v_1 = np.array([-0.012813841, -0.024518383, -0.002765056,  0.079496744,  0.063928973, 0.476156960, 0.122111977, 0.322930189, \n",
        "                0.400701256,  0.454048860, 0.525526219])\n",
        "\n",
        "v_2 = np.array([0.64175768,  0.54625694,  0.40728261,  0.24819750,  0.09406221, 0.16681692, -0.04211932, -0.07130129, \n",
        "                -0.08182200, -0.08266852,  -0.07215885])"
      ]
    },
    {
      "cell_type": "code",
      "execution_count": null,
      "metadata": {
        "id": "ab36o3uhn99V"
      },
      "outputs": [],
      "source": [
        "def scipy_cosine(v1, v2):\n",
        "    return 1 - scipy.spatial.distance.cosine(v1,v2)\n",
        "\n",
        "def nltk_cosine(v1, v2):\n",
        "    return 1 - nltk.cluster.cosine_distance(v1,v2)\n",
        "\n",
        "def numpy_cosine(v1, v2):\n",
        "    mag_v1 = np.linalg.norm(v1)\n",
        "    mag_v2 = np.linalg.norm(v2)\n",
        "    return np.dot(v1, v2) / ( mag_v1 * mag_v2)"
      ]
    },
    {
      "cell_type": "code",
      "execution_count": null,
      "metadata": {
        "id": "VD9_AX-On99V",
        "outputId": "437771b6-0b84-47c8-e610-d95b137cc889"
      },
      "outputs": [
        {
          "name": "stdout",
          "output_type": "stream",
          "text": [
            "31.7 µs ± 1.05 µs per loop (mean ± std. dev. of 7 runs, 10000 loops each)\n"
          ]
        }
      ],
      "source": [
        "%timeit scipy_cosine(v_1, v_2)"
      ]
    },
    {
      "cell_type": "code",
      "execution_count": null,
      "metadata": {
        "id": "XS2ZUTldn99V",
        "outputId": "a3de3c9d-4fa8-4d71-8fa0-0ece457a7e5e"
      },
      "outputs": [
        {
          "name": "stdout",
          "output_type": "stream",
          "text": [
            "4.05 µs ± 52.7 ns per loop (mean ± std. dev. of 7 runs, 100000 loops each)\n"
          ]
        }
      ],
      "source": [
        "%timeit nltk_cosine(v_1, v_2)"
      ]
    },
    {
      "cell_type": "code",
      "execution_count": null,
      "metadata": {
        "id": "oyB6Rs0en99V",
        "outputId": "53147764-b44d-42db-ccbc-7bff7b6e7744"
      },
      "outputs": [
        {
          "name": "stdout",
          "output_type": "stream",
          "text": [
            "9.66 µs ± 91.5 ns per loop (mean ± std. dev. of 7 runs, 100000 loops each)\n"
          ]
        }
      ],
      "source": [
        "%timeit numpy_cosine(v_1, v_2)"
      ]
    },
    {
      "cell_type": "markdown",
      "metadata": {
        "id": "tPT12KUen99W"
      },
      "source": [
        "If (for some reason) you're working on lists, maybe the best solution is to rely on the `math` library."
      ]
    },
    {
      "cell_type": "code",
      "execution_count": null,
      "metadata": {
        "id": "KWwl0w7Xn99W"
      },
      "outputs": [],
      "source": [
        "def math_cosine(l1, l2):\n",
        "    d = sum(p*q for p,q in zip(l1, l2))\n",
        "    mag_l1 = math.sqrt(sum([n**2 for n in l1]))\n",
        "    mag_l2 = math.sqrt(sum([n**2 for n in l2]))\n",
        "    return d/( mag_l1 * mag_l2)"
      ]
    },
    {
      "cell_type": "code",
      "execution_count": null,
      "metadata": {
        "id": "hM0lWkHxn99W",
        "outputId": "10bf3e14-7bc7-4b7a-f907-8a8efedd93cf"
      },
      "outputs": [
        {
          "name": "stdout",
          "output_type": "stream",
          "text": [
            "5.25 µs ± 466 ns per loop (mean ± std. dev. of 7 runs, 100000 loops each)\n"
          ]
        }
      ],
      "source": [
        "%timeit math_cosine(v_1.tolist(), v_2.tolist())"
      ]
    },
    {
      "cell_type": "markdown",
      "metadata": {
        "id": "k1P6-7-Dn99W"
      },
      "source": [
        "However, the calculation of the similarity is (together with the extraction of the co-occurrences) the **main bottleneck** of these models, and the above mentioned solutions become **impractical** when comparing all the vectors in a reasonably sized model."
      ]
    },
    {
      "cell_type": "markdown",
      "metadata": {
        "id": "1ynXuYDfn99X"
      },
      "source": [
        "If you want to calculate the similarity on the **whole matrix** at once, a viable solution is to use the methods available in the `sklearn.metrics.pairwise` module, among which the `cosine_similarity` one"
      ]
    },
    {
      "cell_type": "code",
      "execution_count": null,
      "metadata": {
        "id": "peCUwd0fn99X"
      },
      "outputs": [],
      "source": [
        "ppmiSimMat = sklearn.metrics.pairwise.cosine_similarity(ppmiMat)\n",
        "plmiSimMat = sklearn.metrics.pairwise.cosine_similarity(plmiMat)\n",
        "llSimMat = sklearn.metrics.pairwise.cosine_similarity(llMat)"
      ]
    },
    {
      "cell_type": "markdown",
      "metadata": {
        "id": "_h8Sm4Ojn99X"
      },
      "source": [
        "### Let's print the k most similar nouns to \"year\" according to each of our spaces"
      ]
    },
    {
      "cell_type": "code",
      "execution_count": null,
      "metadata": {
        "id": "nq4HwNd4n99X"
      },
      "outputs": [],
      "source": [
        "k = 10\n",
        "target_idx = vectors_indices[\"year-NOUN\"]"
      ]
    },
    {
      "cell_type": "code",
      "execution_count": null,
      "metadata": {
        "id": "qb9jOTern99X",
        "outputId": "c7066bd5-6aec-4f2a-a490-ff64a305c8e9"
      },
      "outputs": [
        {
          "name": "stdout",
          "output_type": "stream",
          "text": [
            "according to the ppmi space:\n",
            "\n",
            "time-NOUN 0.36400868601184766\n",
            "school-NOUN 0.33877559884002595\n",
            "day-NOUN 0.3357394963192104\n",
            "state-NOUN 0.33443475981094495\n",
            "work-NOUN 0.31279579879462693\n",
            "men-NOUN 0.30523953193695125\n",
            "program-NOUN 0.3008332006165108\n",
            "month-NOUN 0.3000585304373374\n",
            "man-NOUN 0.29794708066681236\n",
            "people-NOUN 0.2963328655205712\n"
          ]
        }
      ],
      "source": [
        "print(\"according to the ppmi space:\\n\")\n",
        "\n",
        "for idx in ppmiSimMat[target_idx,].argsort()[::-1][1:k+1]:\n",
        "    print(sorted_vectors[idx], ppmiSimMat[target_idx, idx])"
      ]
    },
    {
      "cell_type": "code",
      "execution_count": null,
      "metadata": {
        "id": "bUvk8ugLn99Y",
        "outputId": "b5225a84-b71b-45e6-d43b-9bdc7af7a72c"
      },
      "outputs": [
        {
          "name": "stdout",
          "output_type": "stream",
          "text": [
            "according to the plmi space:\n",
            "\n",
            "week-NOUN 0.6529282841812108\n",
            "month-NOUN 0.5773419825212871\n",
            "night-NOUN 0.43125780037970113\n",
            "day-NOUN 0.4216641387637767\n",
            "decade-NOUN 0.39203911951936243\n",
            "minute-NOUN 0.34951487475646675\n",
            "hour-NOUN 0.3365417850787026\n",
            "September-NOUN 0.3316338570011183\n",
            "year's-NOUN 0.30906166822988546\n",
            "time-NOUN 0.3002857451353878\n"
          ]
        }
      ],
      "source": [
        "print(\"according to the plmi space:\\n\")\n",
        "\n",
        "for idx in plmiSimMat[target_idx,].argsort()[::-1][1:k+1]:\n",
        "    print(sorted_vectors[idx], plmiSimMat[target_idx, idx])"
      ]
    },
    {
      "cell_type": "code",
      "execution_count": null,
      "metadata": {
        "id": "Vdl3vyVHn99Y",
        "outputId": "553edd9d-ac13-47b9-8cfe-b903492c3c45"
      },
      "outputs": [
        {
          "name": "stdout",
          "output_type": "stream",
          "text": [
            "according to the log-likelihood space:\n",
            "\n",
            "week-NOUN 0.6363850145687364\n",
            "month-NOUN 0.5455905693069585\n",
            "night-NOUN 0.4053597393163634\n",
            "day-NOUN 0.372638065173422\n",
            "decade-NOUN 0.36140585500541617\n",
            "minute-NOUN 0.321193715703064\n",
            "September-NOUN 0.3163356538833567\n",
            "hour-NOUN 0.2957833992834735\n",
            "year's-NOUN 0.2927927910986083\n",
            "June-NOUN 0.27940793908501504\n"
          ]
        }
      ],
      "source": [
        "print(\"according to the log-likelihood space:\\n\")\n",
        "\n",
        "for idx in llSimMat[target_idx,].argsort()[::-1][1:k+1]:\n",
        "    print(sorted_vectors[idx], llSimMat[target_idx, idx])"
      ]
    },
    {
      "cell_type": "markdown",
      "metadata": {
        "id": "PZebrDECn99Y"
      },
      "source": [
        "---"
      ]
    },
    {
      "cell_type": "markdown",
      "metadata": {
        "id": "v-_XnmTNn99Y"
      },
      "source": [
        "## Visualizing Similarities"
      ]
    },
    {
      "cell_type": "markdown",
      "metadata": {
        "id": "CqKDo8nEn99Y"
      },
      "source": [
        "Sometimes it is convenient to look at the distances between your word in order to have an idea of what's going on with your data. Unfortunately, human being do not cope well with more than 3 dimensions (the novel [Flatland: A Romance of Many Dimensions](https://en.wikipedia.org/wiki/Flatland) may be an insightful reading on this topic). "
      ]
    },
    {
      "cell_type": "markdown",
      "metadata": {
        "id": "iAdPoijcn99Y"
      },
      "source": [
        "### Dimensionality Reduction"
      ]
    },
    {
      "cell_type": "markdown",
      "metadata": {
        "id": "tS0qW_Xkn99Z"
      },
      "source": [
        "A usual solution is to reduce the dimensionality of your dataset to **2 or 3 dimensions** trying to preserve the pairwise distances as much as possible. Among the several **non-linear dimensionality reduction techniques** to date available (a quick review is available in the [scikit-learn documentation](http://scikit-learn.org/stable/modules/manifold.html)), **multidimensional scaling** is used to display the information contained in a distance matrix. "
      ]
    },
    {
      "cell_type": "markdown",
      "metadata": {
        "id": "BetU5Ulvn99Z"
      },
      "source": [
        "Let's try to use MDS to plot the distance between an (arbitrarily chosen) subset of our nouns:"
      ]
    },
    {
      "cell_type": "code",
      "execution_count": null,
      "metadata": {
        "id": "CL__OqOln99Z"
      },
      "outputs": [],
      "source": [
        "lemmas2plot = selected_brown_noun_frequencies.most_common()[100:125]\n",
        "lemmas2plot_idxs = [vectors_indices[lem[0]] for lem in lemmas2plot]"
      ]
    },
    {
      "cell_type": "code",
      "execution_count": null,
      "metadata": {
        "id": "MOTRS8uOn99Z",
        "outputId": "c09ad1d7-d956-42e9-894a-ddd9be1d1a30"
      },
      "outputs": [
        {
          "data": {
            "image/png": "[encoded data removed]",
            "text/plain": [
              "<Figure size 640x480 with 1 Axes>"
            ]
          },
          "metadata": {},
          "output_type": "display_data"
        },
        {
          "data": {
            "image/png": "[encoded data removed]",
            "text/plain": [
              "<Figure size 640x480 with 1 Axes>"
            ]
          },
          "metadata": {},
          "output_type": "display_data"
        },
        {
          "data": {
            "image/png": "[encoded data removed]",
            "text/plain": [
              "<Figure size 640x480 with 1 Axes>"
            ]
          },
          "metadata": {},
          "output_type": "display_data"
        }
      ],
      "source": [
        "measure2mat = {\"ppmi\": ppmiMat, \"plmi\": plmiMat, \"loglikelihood\": llMat}\n",
        "\n",
        "labels = [p[0].split(\"-\")[0] for p in lemmas2plot]\n",
        "\n",
        "for i, (m, mat) in enumerate(measure2mat.items()):\n",
        "    # we need a DISTANCE matrix\n",
        "    distMat = sklearn.metrics.pairwise.pairwise_distances(mat[lemmas2plot_idxs,:], metric=\"cosine\")\n",
        "    \n",
        "    # let's reduce the dimensionality\n",
        "    mds = sklearn.manifold.MDS(n_components = 2, max_iter = 300, eps = 1e-9, \n",
        "                               random_state = np.random.RandomState(seed = 6), \n",
        "                               dissimilarity = \"precomputed\")\n",
        "\n",
        "    coords = mds.fit(distMat).embedding_\n",
        "    \n",
        "    # let's plot the distances\n",
        "    plt.scatter(coords[:, 0], coords[:, 1], marker = '.', c = 'r')\n",
        "    \n",
        "    \n",
        "    \n",
        "    for label, x, y in zip(labels, coords[:, 0], coords[:, 1]):\n",
        "        plt.annotate(label, xy = (x,y), horizontalalignment = 'center', verticalalignment='bottom')\n",
        "\n",
        "    plt.title(\"MDS on the \" + m +\"-based space\")\n",
        "\n",
        "    plt.show()"
      ]
    },
    {
      "cell_type": "markdown",
      "metadata": {
        "id": "x2hPhFr-n99Z"
      },
      "source": [
        "#### Exercise\n",
        "\n",
        "Try other dimensionality reduction techniques, e.g., PCA."
      ]
    },
    {
      "cell_type": "code",
      "execution_count": null,
      "metadata": {
        "id": "nK9hJV75n99Z"
      },
      "outputs": [],
      "source": [
        "# Your code here"
      ]
    },
    {
      "cell_type": "markdown",
      "metadata": {
        "id": "HRtQpkmMn99a"
      },
      "source": [
        "### Clustering"
      ]
    },
    {
      "cell_type": "markdown",
      "metadata": {
        "id": "D5P-PFj6n99a"
      },
      "source": [
        "Another viable option is to perform use the pairwise similarities in order to organize our words into groups (i.e. to perform **clustering**). The general idea is to organize clusters so as to maximize the **within-group similiarities** and the **between-group differences**. There are many clustering algorithms and techniques, all of them with their pros and cons. "
      ]
    },
    {
      "cell_type": "markdown",
      "metadata": {
        "id": "OzoHEhzDn99a"
      },
      "source": [
        "**Hierachical clustering** techniques do not try to produce a single clustering, but try to produce a hierarchy of groups. As such, they are quite useful in exploratory analysis. In this class, the **Ward** algorithm is an example of **agglomerative** clustering:  each observation starts in its own cluster, and pairs of clusters are merged as one moves up the hierarchy. In the Ward's method, the distance between two clusters is the change in the sum of squared distances when they are merged."
      ]
    },
    {
      "cell_type": "markdown",
      "metadata": {
        "id": "8rIv9wGKn99a"
      },
      "source": [
        "We can use the `scipy.cluster.hierarchy.ward()` function to create our hierarchical clustering and the  `scipy.cluster.hierarchy.dendrogram()` function to visualize it (i.e. to create a dendrogram)."
      ]
    },
    {
      "cell_type": "code",
      "execution_count": null,
      "metadata": {
        "id": "fcocFu2Vn99a",
        "outputId": "6ff12af1-2944-4936-9d9a-0ed7de0deefa"
      },
      "outputs": [
        {
          "data": {
            "image/png": "[encoded data removed]",
            "text/plain": [
              "<Figure size 640x480 with 1 Axes>"
            ]
          },
          "metadata": {},
          "output_type": "display_data"
        },
        {
          "data": {
            "image/png": "[encoded data removed]",
            "text/plain": [
              "<Figure size 640x480 with 1 Axes>"
            ]
          },
          "metadata": {},
          "output_type": "display_data"
        },
        {
          "data": {
            "image/png": "[encoded data removed]",
            "text/plain": [
              "<Figure size 640x480 with 1 Axes>"
            ]
          },
          "metadata": {},
          "output_type": "display_data"
        }
      ],
      "source": [
        "measure2mat = {\"ppmi\": ppmiMat, \"plmi\": plmiMat, \"loglikelihood\": llMat}\n",
        "\n",
        "labels = [p[0].split(\"-\")[0] for p in lemmas2plot]\n",
        "\n",
        "for i, (m, mat) in enumerate(measure2mat.items()):\n",
        "    \n",
        "    # let's built a DISTANCE matrix\n",
        "    distMat = sklearn.metrics.pairwise.pairwise_distances(mat[lemmas2plot_idxs,:], metric=\"cosine\")\n",
        "    \n",
        "    # as we'll rely the scikit learn function to perform clustering, it is safer to convert our redundant distance matrix \n",
        "    # into a condensed distance matrix (i.e. into a flat array containing the upper triangular of the distance matrix)\n",
        "    condensed_distMat = scipy.spatial.distance.squareform(distMat)\n",
        "    \n",
        "    # we could alternatively have used scipy.spatial.distance.pdist() to obtain the distance matric in this format\n",
        "    # scipyPdist = scipy.spatial.distance.pdist(mat[lemmas2plot_idxs,:], \"cosine\")\n",
        "    \n",
        "    # let's perform the hierarchical clustering\n",
        "    linkage_matrix = scipy.cluster.hierarchy.ward(condensed_distMat)\n",
        "    \n",
        "    # let's create the dendrogram (i.e. let's visualize the structure of the groups)\n",
        "    scipy.cluster.hierarchy.dendrogram(linkage_matrix, orientation=\"right\", labels=labels)\n",
        "    \n",
        "    plt.xlabel (\"distance (not cosines, but those used by the Ward's method)\")\n",
        "\n",
        "    plt.title(\"MDS on the \" + m +\"-based space\")\n",
        "    \n",
        "    plt.tight_layout()\n",
        "\n",
        "    plt.show()"
      ]
    },
    {
      "cell_type": "markdown",
      "metadata": {
        "id": "6Pzc85zQn99a"
      },
      "source": [
        "## Evaluating your Model"
      ]
    },
    {
      "cell_type": "markdown",
      "metadata": {
        "id": "B9Uw6BQGn99b"
      },
      "source": [
        "VSMs can be evaluated on **semantic similarity tasks**, in which they are required to simulate the pairwise similarity judgments collected from speakers."
      ]
    },
    {
      "cell_type": "markdown",
      "metadata": {
        "id": "xWxf5KGFn99b"
      },
      "source": [
        "In what follows we evaluate our models against the [WordSim-353 dataset](http://www.cs.technion.ac.il/~gabr/resources/data/wordsim353/):\n",
        "\n",
        "\n",
        "- 353 noun pairs rated on a 0-10 scale \n",
        "\n",
        "\n",
        "- measure: [Spearman's correlation](https://en.wikipedia.org/wiki/Spearman%27s_rank_correlation_coefficient) between algorithm and human word similarity ratings"
      ]
    },
    {
      "cell_type": "code",
      "execution_count": null,
      "metadata": {
        "id": "FbPSstUdn99b"
      },
      "outputs": [],
      "source": [
        "# let's select the pairs of nouns for which we have enough distributional information\n",
        "\n",
        "wordSim353 = dict()\n",
        "\n",
        "with open(\"data/wordSim353.csv\",\"r\") as infile:\n",
        "    for line in infile:\n",
        "        raw_w1, raw_w2, rating = line.strip().split(\",\")\n",
        "        w1 = raw_w1+\"-NOUN\"\n",
        "        w2 = raw_w2+\"-NOUN\"\n",
        "        if all([w in vectors_indices for w in [w1,w2]]):\n",
        "            wordSim353[(w1, w2)] = float(rating)"
      ]
    },
    {
      "cell_type": "markdown",
      "metadata": {
        "id": "Vuem_1jJn99b"
      },
      "source": [
        "- Note that due to the size of our corpus we've lost 1/3 of the dataset"
      ]
    },
    {
      "cell_type": "code",
      "execution_count": null,
      "metadata": {
        "id": "h3Bug8vEn99b",
        "outputId": "b4ad7b1d-0482-462c-9a24-3cded3cb00f6"
      },
      "outputs": [
        {
          "name": "stdout",
          "output_type": "stream",
          "text": [
            "219\n"
          ]
        }
      ],
      "source": [
        "print(len(wordSim353))"
      ]
    },
    {
      "cell_type": "code",
      "execution_count": null,
      "metadata": {
        "id": "11G0Vje8n99c",
        "outputId": "c7b2ca3d-464e-4c60-a7d7-d9179e93c314"
      },
      "outputs": [
        {
          "name": "stdout",
          "output_type": "stream",
          "text": [
            "positivePMI-based space vs. wordSim353 -> spearman's rho:\t\n",
            "0.2173225657554284\n",
            "positiveLMI-based space vs. wordSim353 -> spearman's rho:\t\n",
            "0.24707088416441894\n",
            "log-likelihood-based space vs. wordSim353 -> spearman's rho:\t\n",
            "0.2617730910733136\n"
          ]
        }
      ],
      "source": [
        "measure2mat = {\"positivePMI\": ppmiSimMat, \"positiveLMI\": plmiSimMat, \"log-likelihood\": llSimMat}\n",
        "\n",
        "rhos = []\n",
        "measures = []\n",
        "\n",
        "for m, mat in measure2mat.items():\n",
        "    print(m+\"-based space vs. wordSim353 -> spearman's rho:\\t\", )\n",
        "    \n",
        "    wordSim_ratings = []\n",
        "    vsm_sims = []\n",
        "    for (w1, w2), r in wordSim353.items():\n",
        "        w1idx = vectors_indices[w1]\n",
        "        w2idx = vectors_indices[w2]\n",
        "        \n",
        "        wordSim_ratings.append(r)\n",
        "        vsm_sims.append(mat[w1idx, w2idx])\n",
        "        \n",
        "    rho, pval = scipy.stats.spearmanr(wordSim_ratings, vsm_sims)\n",
        "    \n",
        "    print(rho)\n",
        "    rhos.append(rho)\n",
        "    measures.append(m)"
      ]
    },
    {
      "cell_type": "code",
      "execution_count": null,
      "metadata": {
        "id": "kinsStpqn99c",
        "outputId": "39282f7f-2338-4d98-effb-1cb73ce860db"
      },
      "outputs": [
        {
          "data": {
            "image/png": "[encoded data removed]",
            "text/plain": [
              "<Figure size 640x480 with 1 Axes>"
            ]
          },
          "metadata": {},
          "output_type": "display_data"
        }
      ],
      "source": [
        "plt.bar(range(0, len(rhos)), rhos)\n",
        "plt.xticks(range(0, len(rhos)), measures, size='small')\n",
        "plt.show()"
      ]
    },
    {
      "cell_type": "markdown",
      "metadata": {
        "id": "v8LCV0NNn99c"
      },
      "source": [
        "---"
      ]
    },
    {
      "cell_type": "markdown",
      "metadata": {
        "id": "8Nxbu2PJn99c"
      },
      "source": [
        "## Working with Dense Vectors"
      ]
    },
    {
      "cell_type": "markdown",
      "metadata": {
        "collapsed": true,
        "id": "XsqDPM34n99d"
      },
      "source": [
        "Up to this moment, we've worked with **long** and **sparse** vectors:\n",
        "\n",
        "\n",
        "- the proportion of non-zeros in our ppmi weighted matrix is:"
      ]
    },
    {
      "cell_type": "code",
      "execution_count": null,
      "metadata": {
        "id": "7014m7wLn99d",
        "outputId": "76ab7e31-0e6d-4e61-db5f-5e66eaf38eaf"
      },
      "outputs": [
        {
          "data": {
            "text/plain": [
              "0.016530421105584933"
            ]
          },
          "execution_count": 68,
          "metadata": {},
          "output_type": "execute_result"
        }
      ],
      "source": [
        "np.count_nonzero(ppmiMat) / ppmiMat.size"
      ]
    },
    {
      "cell_type": "markdown",
      "metadata": {
        "id": "epgbrR2Fn99d"
      },
      "source": [
        "- the length of our vectors:"
      ]
    },
    {
      "cell_type": "code",
      "execution_count": null,
      "metadata": {
        "id": "zT1zs1oen99d",
        "outputId": "38b1267b-9661-45db-8e0c-36e2e9b95537"
      },
      "outputs": [
        {
          "data": {
            "text/plain": [
              "7576"
            ]
          },
          "execution_count": 69,
          "metadata": {},
          "output_type": "execute_result"
        }
      ],
      "source": [
        "ppmiMat.shape[1]"
      ]
    },
    {
      "cell_type": "markdown",
      "metadata": {
        "id": "0jfiilO-n99d"
      },
      "source": [
        "**Denser** representations have a number of **advantages**, among which:\n",
        "\n",
        "- their computationally easier to manipulate (e.g. to create  or to use as ML features)\n",
        "\n",
        "\n",
        "- they tend to be less noisy\n",
        "\n",
        "\n",
        "- they exploit latent meaning dimensions (e.g. they may tend to merge together correlated contexts like *car* and *automobile*)"
      ]
    },
    {
      "cell_type": "markdown",
      "metadata": {
        "id": "11NXyurnn99d"
      },
      "source": [
        "> **Dimensionality Reduction**: the process of reducing the number of features (i.e. contextual markers) by mapping data points (i.e. the vectors describing the target words) into a **low-dimensional subspace**."
      ]
    },
    {
      "cell_type": "markdown",
      "metadata": {
        "id": "5xoxFdqQn99e"
      },
      "source": [
        "### Dimensionality Reduction via Singular Value Decomposition"
      ]
    },
    {
      "cell_type": "markdown",
      "metadata": {
        "id": "KtG4zYI6n99e"
      },
      "source": [
        "SVD is a method for finding, for a given dataset, the **dimensions on which the data varies the most** (J&M)."
      ]
    },
    {
      "cell_type": "markdown",
      "metadata": {
        "id": "OiPjGqabn99e"
      },
      "source": [
        "**Intuitive Idea**: rotate the axes of the dataset into a new space, so that the order of the dimension is related to the quantity of captured variance\n",
        "\n",
        "- first dimension capture the most variance, then the second captures most of the variance unexplained by the first dimension and so on...\n",
        "\n",
        "\n",
        "- many related methods: PCA, Factor Analysis, **SVD**"
      ]
    },
    {
      "cell_type": "markdown",
      "metadata": {
        "id": "Ro5LfJMan99e"
      },
      "source": [
        "#### Matrix Factorization\n",
        "\n",
        "SVD **factorizes** a (non-symmetric, non-square) $w \\times c$ matrix $M$ into the **product of three matrices**: $U \\cdot\\Sigma \\cdot V^T$, where:\n",
        "\n",
        "\n",
        "- $U$: the rows correspond to the rows of M (i.e. our target words) and the columns represent the dimensions of the **latent space**:\n",
        "    - dimensions are orthogonal\n",
        "    - dimensions are sorted according to the amount of variance they explain\n",
        "    - e.g. the word frequency distribution for any latent topic\n",
        "    \n",
        "    \n",
        "- $\\Sigma$: a diagonal $m \\times m$ matrix (where $m$ is the rank of our matrix $M$) of singular values in decreasing order:\n",
        "    - intuitively, the **square** of each singular value $\\sigma$ express the importance of each dimension\n",
        "    - e.g. the prior frequency of each latent topic\n",
        "\n",
        "    \n",
        "- $V^T$: the columns correspond the columns of M and the rows correspond to the singular values:\n",
        "    - e.g. the contribution of each latent topic to each context"
      ]
    },
    {
      "cell_type": "markdown",
      "metadata": {
        "id": "f95EKdnMn99e"
      },
      "source": [
        "$$\\mathop{\\begin{bmatrix}\n",
        " & & & & & &\\\\\n",
        " & & & & & &\\\\\n",
        " & & & & & &\\\\\n",
        " & & & & & &\\\\\n",
        " & & & M & & &\\\\\n",
        " & & & & & &\\\\\n",
        " & & & & & &\\\\\n",
        " & & & & & &\\\\\n",
        " & & & & & &\\\\\n",
        "\\end{bmatrix}}_{\\textstyle w \\times c} \\ = \\\n",
        "\\mathop{\\begin{bmatrix}\n",
        " & & & & \\\\\n",
        " & & & & \\\\\n",
        " & & & & \\\\\n",
        " & & & & \\\\\n",
        " & & U & & \\\\\n",
        " & & & & \\\\\n",
        " & & & & \\\\\n",
        " & & & & \\\\\n",
        " & & & & \\\\\n",
        "\\end{bmatrix}}_{\\textstyle w \\times m}\\ \n",
        "\\mathop{\\begin{bmatrix}\n",
        "\\sigma_1 & 0 & 0 & \\cdots & 0 \\\\\n",
        "0 & \\sigma_2 & 0 & \\cdots & 0 \\\\\n",
        "0 & 0 & \\sigma_3 & \\cdots & 0 \\\\\n",
        "\\vdots & \\vdots & \\vdots & \\ddots & \\vdots \\\\\n",
        "0 & 0 & 0 & \\cdots & \\sigma_m \\\\\n",
        "\\end{bmatrix}}_{\\textstyle m \\times m}\\ \n",
        "\\mathop{\\begin{bmatrix}\n",
        " & & & & & &\\\\\n",
        " & & & & & &\\\\\n",
        " & & & V^T & & &\\\\\n",
        " & & & & & &\\\\\n",
        " & & & & & &\\\\\n",
        "\\end{bmatrix}}_{\\textstyle m \\times c}$$"
      ]
    },
    {
      "cell_type": "markdown",
      "metadata": {
        "id": "Uj5OeeTtn99f"
      },
      "source": [
        "#### Truncation\n",
        "\n",
        "If we use the **first $d$ singular values**, we obtain a **truncated matrix** $\\tilde{M}_d$ that is **a least-squares approximation** to the original $M$\n",
        "\n",
        "\n",
        "- dimensions $d < x < m$ are descarded\n",
        "    - by removing the dimensions that encode the least variance, we **remove noise**\n",
        "\n",
        "\n",
        "- generally $50 < d < 1000$ (with a soft spot around 300)\n",
        "\n",
        "\n",
        "- some authors (Lapesa & Evert, 2014) suggest that for some task it may be useful to get rid of the very first dimensions as well"
      ]
    },
    {
      "cell_type": "markdown",
      "metadata": {
        "id": "7-CkFobBn99f"
      },
      "source": [
        "$$\\mathop{\\begin{bmatrix}\n",
        " & & & & & &\\\\\n",
        " & & & & & &\\\\\n",
        " & & & & & &\\\\\n",
        " & & & & & &\\\\\n",
        " & & & \\tilde{M}_d & & &\\\\\n",
        " & & & & & &\\\\\n",
        " & & & & & &\\\\\n",
        " & & & & & &\\\\\n",
        " & & & & & &\\\\\n",
        "\\end{bmatrix}}_{\\textstyle w \\times c} \\ = \\\n",
        "\\mathop{\\begin{bmatrix}\n",
        " & & \\\\\n",
        " & & \\\\\n",
        " & & \\\\\n",
        " & & \\\\\n",
        " & U_d &\\\\\n",
        " & & \\\\\n",
        " & & \\\\\n",
        " & & \\\\\n",
        " & & \\\\\n",
        "\\end{bmatrix}}_{\\textstyle w \\times d}\\ \n",
        "\\mathop{\\begin{bmatrix}\n",
        " & &\\\\\n",
        " & \\Sigma_d & \\\\\n",
        " & & \\\\\n",
        "\\end{bmatrix}}_{\\textstyle d \\times d}\\\n",
        "\\mathop{\\begin{bmatrix}\n",
        " & & & & & &\\\\\n",
        " & & & V^T_d & & &\\\\\n",
        " & & & & & &\\\\\n",
        "\\end{bmatrix}}_{\\textstyle d \\times c}$$"
      ]
    },
    {
      "cell_type": "markdown",
      "metadata": {
        "id": "j4cIn1eKn99f"
      },
      "source": [
        "#### Embedding\n",
        "\n",
        "We can take advantage of the fact that **dot-products between** the rows of $W = U_d \\cdot \\Sigma_d$ are equal to those of the rows of $\\tilde{M}_d = U_d \\cdot \\Sigma_d\\cdot V^T_d$, so that we can **ignore $V^T_d$** and take the rows of $W$ as our word representations.\n",
        "\n",
        "Recently, it has been showed that an additional parameter $p$ should be added to control the eigenvalue matrix $\\Sigma$, so that we will take as **word representations** the rows of the $W'$ matrix, defined as:"
      ]
    },
    {
      "cell_type": "markdown",
      "metadata": {
        "id": "SkbugnTCn99g"
      },
      "source": [
        "$$W' = U_d \\cdot \\Sigma_d^p$$"
      ]
    },
    {
      "cell_type": "markdown",
      "metadata": {
        "id": "elwFdYF8n99g"
      },
      "source": [
        "- note that for some tasks, it has been suggested that ignoring $\\Sigma$ alltogether (i.e. setting $p = 0$) may lead to an increase in performance\n",
        "\n",
        "\n",
        "- some authors (e.g., J&M) use this setting as the default, but it is wise to spend some time tuning this hyperparameters"
      ]
    },
    {
      "cell_type": "markdown",
      "metadata": {
        "id": "wQvGgyCon99g"
      },
      "source": [
        "#### With Python"
      ]
    },
    {
      "cell_type": "markdown",
      "metadata": {
        "id": "Fx90KlHtn99g"
      },
      "source": [
        "METHOD 1: **using Scikit-learn**\n",
        "\n",
        "\n",
        "- you cannot set $p$ (it's always $p = 1$)\n",
        "\n",
        "\n",
        "- you cannot discard the first dimensions, if you want to"
      ]
    },
    {
      "cell_type": "code",
      "execution_count": null,
      "metadata": {
        "id": "cRY9LXL1n99g"
      },
      "outputs": [],
      "source": [
        "dimensions = 300"
      ]
    },
    {
      "cell_type": "code",
      "execution_count": null,
      "metadata": {
        "id": "Zsvj1e6Tn99g"
      },
      "outputs": [],
      "source": [
        "# note that the default SVD solver is the randomized algorithm proposed by Halko (2009), but we select the ARPACK wrapper \n",
        "# in SciPy (scipy.sparse.linalg.svds) because is more efficient (but slower)\n",
        "ppmiMat_tr300 = sklearn.decomposition.TruncatedSVD(n_components = dimensions, algorithm = \"arpack\").fit_transform(ppmiMat)\n",
        "\n",
        "ppmiSVD300SimMat = sklearn.metrics.pairwise.cosine_similarity(ppmiMat_tr300)"
      ]
    },
    {
      "cell_type": "code",
      "execution_count": null,
      "metadata": {
        "id": "ygrJ1mqMn99g",
        "outputId": "04934f26-81a3-4098-f3b9-40f6c73468d5"
      },
      "outputs": [
        {
          "name": "stdout",
          "output_type": "stream",
          "text": [
            "ppmi_SVD300-based space vs. wordSim353 -> spearman's rho:\t\n",
            "0.3935508179426513\n"
          ]
        }
      ],
      "source": [
        "measure2mat = {\"ppmi_SVD300\": ppmiSVD300SimMat}\n",
        "\n",
        "for m, mat in measure2mat.items():\n",
        "    print(m+\"-based space vs. wordSim353 -> spearman's rho:\\t\",)\n",
        "    \n",
        "    wordSim_ratings = []\n",
        "    vsm_sims = []\n",
        "    for (w1, w2), r in wordSim353.items():\n",
        "        w1idx = vectors_indices[w1]\n",
        "        w2idx = vectors_indices[w2]\n",
        "        \n",
        "        wordSim_ratings.append(r)\n",
        "        vsm_sims.append(mat[w1idx, w2idx])\n",
        "        \n",
        "    rho, pval = scipy.stats.spearmanr(wordSim_ratings, vsm_sims)\n",
        "    \n",
        "    print(rho)\n",
        "    rhos.append(rho)\n",
        "    measures.append(m)"
      ]
    },
    {
      "cell_type": "code",
      "execution_count": null,
      "metadata": {
        "id": "6Z56MkxVn99h",
        "outputId": "792a94c6-ed41-46f1-8284-8cfa910d736d"
      },
      "outputs": [
        {
          "data": {
            "image/png": "[encoded data removed]",
            "text/plain": [
              "<Figure size 640x480 with 1 Axes>"
            ]
          },
          "metadata": {},
          "output_type": "display_data"
        }
      ],
      "source": [
        "plt.bar(range(0, len(rhos)), rhos)\n",
        "plt.xticks(range(0, len(rhos)), measures, size='small')\n",
        "plt.show()"
      ]
    },
    {
      "cell_type": "markdown",
      "metadata": {
        "id": "s6jFNEhfn99h"
      },
      "source": [
        "METHOD 2: **using Scipy modules**\n",
        "\n",
        "We can (roughly) re-implement what we've done with scikit-learn as follows:"
      ]
    },
    {
      "cell_type": "code",
      "execution_count": null,
      "metadata": {
        "id": "dDRyaxP7n99h"
      },
      "outputs": [],
      "source": [
        "from scipy import linalg, dot\n",
        "\n",
        "# let's decompose our matrix (we can safely ignore Vt)\n",
        "U, s, Vt = linalg.svd(ppmiMat)  \n",
        "\n",
        "# SVD suffers from a problem called \"sign indeterminancy\", so that the sign of the components (i.e. U and Vt) depends\n",
        "# on the initial state and on the algorithm. As a consequence, if U (and V) are mostly negative, \n",
        "# their sign should be inverted\n",
        "if not U[U>0].size > (U.size / 2):\n",
        "    U = -U\n",
        "    Vt = -Vt"
      ]
    },
    {
      "cell_type": "code",
      "execution_count": null,
      "metadata": {
        "id": "_kMjjbg6n99h"
      },
      "outputs": [],
      "source": [
        "# let's filter out all dimensions but the first 300\n",
        "W = U[:, 0 : dimensions]\n",
        "sigma = s[:dimensions]  # note that for efficiency reasons sigma is an array, not a matrix\n",
        "C = Vt[0 : dimensions, :]\n",
        "\n",
        "ppmiMat_tr300_alt = np.dot(W, linalg.diagsvd(sigma, dimensions, len(C)))"
      ]
    },
    {
      "cell_type": "markdown",
      "metadata": {
        "id": "JlSs5B2Ln99h"
      },
      "source": [
        "Re. explained variance, see the **Scree Plot**, a graph plotting variances against singular values."
      ]
    },
    {
      "cell_type": "markdown",
      "metadata": {
        "id": "O4DhQOQBn99i"
      },
      "source": [
        "We can choose how many dimensions to retain by checking the portion of variance each dimension is able to explain:\n",
        "\n",
        "- given that the square of each singular value is proportional to the variance explained by each singular vector, we compute the relative contribution of each singular value by dividing the square of the singular value $k$ by the sum of the squares of all the singular values"
      ]
    },
    {
      "cell_type": "code",
      "execution_count": null,
      "metadata": {
        "id": "m-fPuYkwn99i",
        "outputId": "e473505d-167a-44d7-9946-3fe38670a8cd"
      },
      "outputs": [
        {
          "data": {
            "image/png": "[encoded data removed]",
            "text/plain": [
              "<Figure size 640x480 with 1 Axes>"
            ]
          },
          "metadata": {},
          "output_type": "display_data"
        }
      ],
      "source": [
        "rel_variance = ( s**2 / sum(s**2) ) * 100\n",
        "y_values =  rel_variance\n",
        "x_values = np.arange(len(y_values))\n",
        "\n",
        "plt.plot(x_values, y_values, linestyle = '-')\n",
        "\n",
        "plt.xlabel(\"Singular Values\", labelpad = 20)\n",
        "plt.ylabel(\"Relative Variance (%)\", labelpad = 10)\n",
        "\n",
        "plt.show()"
      ]
    },
    {
      "cell_type": "markdown",
      "metadata": {
        "id": "pRy5u8RCn99i"
      },
      "source": [
        "Let's focus on the first singular values..."
      ]
    },
    {
      "cell_type": "code",
      "execution_count": null,
      "metadata": {
        "id": "KJyrhVgtn99i",
        "outputId": "f1f84f6a-dad0-4c3d-fc53-df0048c8758c"
      },
      "outputs": [
        {
          "data": {
            "image/png": "[encoded data removed]",
            "text/plain": [
              "<Figure size 640x480 with 1 Axes>"
            ]
          },
          "metadata": {},
          "output_type": "display_data"
        }
      ],
      "source": [
        "y_values =  rel_variance[:100] \n",
        "x_values = np.arange(len(y_values))\n",
        "\n",
        "plt.plot(x_values, y_values, linestyle = '-')\n",
        "\n",
        "plt.xlabel(\"Singular Values\", labelpad = 20)\n",
        "plt.ylabel(\"Relative Variance (%)\", labelpad = 10)\n",
        "\n",
        "plt.show()"
      ]
    },
    {
      "cell_type": "markdown",
      "metadata": {
        "id": "B2t6M23Hn99i"
      },
      "source": [
        "A value between 5 and 20 seems reasonable (inflection point)."
      ]
    },
    {
      "cell_type": "code",
      "execution_count": null,
      "metadata": {
        "id": "hlwk5TfWn99j"
      },
      "outputs": [],
      "source": [
        "dimensions = 20\n",
        "\n",
        "W = U[:, 0 : dimensions]\n",
        "sigma = s[:dimensions]\n",
        "C = Vt[0 : dimensions, :]\n",
        "\n",
        "ppmiMat_tr50 = np.dot(W, linalg.diagsvd(sigma, dimensions, len(C)))"
      ]
    },
    {
      "cell_type": "code",
      "execution_count": null,
      "metadata": {
        "id": "TpRPKIZbn99j",
        "outputId": "4e67a252-a5ba-48c1-d365-d68c6e50df34"
      },
      "outputs": [
        {
          "name": "stdout",
          "output_type": "stream",
          "text": [
            "ppmi_SVD50-based space vs. wordSim353 -> spearman's rho:\t\n",
            "0.4505230122547882\n"
          ]
        }
      ],
      "source": [
        "measure2mat = {\"ppmi_SVD50\": ppmiMat_tr50}\n",
        "\n",
        "for m, mat in measure2mat.items():\n",
        "    print(m+\"-based space vs. wordSim353 -> spearman's rho:\\t\",)\n",
        "    \n",
        "    sim = sklearn.metrics.pairwise.cosine_similarity(mat)\n",
        "    \n",
        "    wordSim_ratings = []\n",
        "    vsm_sims = []\n",
        "    for (w1, w2), r in wordSim353.items():\n",
        "        w1idx = vectors_indices[w1]\n",
        "        w2idx = vectors_indices[w2]\n",
        "        \n",
        "        wordSim_ratings.append(r)\n",
        "        vsm_sims.append(sim[w1idx, w2idx])\n",
        "        \n",
        "    rho, pval = scipy.stats.spearmanr(wordSim_ratings, vsm_sims)\n",
        "    \n",
        "    print(rho)\n",
        "    rhos.append(rho)\n",
        "    measures.append(m)"
      ]
    },
    {
      "cell_type": "code",
      "execution_count": null,
      "metadata": {
        "id": "QlwnoY20n99j",
        "outputId": "8d058063-471b-4f2c-92d9-5046728693d4"
      },
      "outputs": [
        {
          "data": {
            "image/png": "[encoded data removed]",
            "text/plain": [
              "<Figure size 640x480 with 1 Axes>"
            ]
          },
          "metadata": {},
          "output_type": "display_data"
        }
      ],
      "source": [
        "plt.bar(range(0, len(rhos)), rhos)\n",
        "plt.xticks(range(0, len(rhos)), measures, size='small', rotation='vertical')\n",
        "plt.show()"
      ]
    },
    {
      "cell_type": "markdown",
      "metadata": {
        "id": "zrnzJAk6n99j"
      },
      "source": [
        "---"
      ]
    },
    {
      "cell_type": "markdown",
      "metadata": {
        "id": "0FAV0cz6n99j"
      },
      "source": [
        "WEIGHTING $\\Sigma$\n",
        "\n",
        "Some authors suggested to downgrade the influence of $\\Sigma$ on the final word representation by applying a weight $0 < p < 1$"
      ]
    },
    {
      "cell_type": "code",
      "execution_count": null,
      "metadata": {
        "id": "JgRPdywxn99k"
      },
      "outputs": [],
      "source": [
        "dimensions = 50"
      ]
    },
    {
      "cell_type": "code",
      "execution_count": null,
      "metadata": {
        "id": "fI9uMfBhn99k"
      },
      "outputs": [],
      "source": [
        "# let's use only U, i.e. if p == 0\n",
        "\n",
        "p = 0.\n",
        "\n",
        "W = U[:, 0 : dimensions]\n",
        "sigma = s[:dimensions]\n",
        "C = Vt[0 : dimensions, :] \n",
        "\n",
        "ppmiMat_tr50_p0 = np.dot(W, linalg.diagsvd(sigma ** p , dimensions, len(C)))"
      ]
    },
    {
      "cell_type": "code",
      "execution_count": null,
      "metadata": {
        "id": "DrhjHXHFn99k"
      },
      "outputs": [],
      "source": [
        "# let's use only U, i.e. if p == 0\n",
        "\n",
        "p = 0.\n",
        "\n",
        "W = U[:, 0 : dimensions]\n",
        "sigma = s[:dimensions] ** p\n",
        "C = Vt[0 : dimensions, :] \n",
        "\n",
        "ppmiMat_tr50_p0 = np.dot(W, linalg.diagsvd(sigma, dimensions, len(C)))"
      ]
    },
    {
      "cell_type": "code",
      "execution_count": null,
      "metadata": {
        "id": "dqtUcPa9n99k",
        "outputId": "3144c374-7336-4435-caa2-70e24f696208"
      },
      "outputs": [
        {
          "data": {
            "text/plain": [
              "True"
            ]
          },
          "execution_count": 76,
          "metadata": {},
          "output_type": "execute_result"
        }
      ],
      "source": [
        "# this is equivalent to using only W\n",
        "np.allclose(ppmiMat_tr50_p0, W)"
      ]
    },
    {
      "cell_type": "code",
      "execution_count": null,
      "metadata": {
        "id": "ItFV5VnPn99l"
      },
      "outputs": [],
      "source": [
        "p = 0.5\n",
        "\n",
        "W = U[:, 0 : dimensions]\n",
        "sigma = s[:dimensions]\n",
        "C = Vt[0 : dimensions, :] \n",
        "\n",
        "ppmiMat_tr50_p5 = np.dot(W, linalg.diagsvd(sigma ** p, dimensions, len(C)))"
      ]
    },
    {
      "cell_type": "code",
      "execution_count": null,
      "metadata": {
        "id": "_v_2dMFon99l",
        "outputId": "832b5d05-59c3-4ff0-9f23-b66dc48b3645"
      },
      "outputs": [
        {
          "name": "stdout",
          "output_type": "stream",
          "text": [
            "ppmi_SVD50_p.0-based space vs. wordSim353 -> spearman's rho:\t\n",
            "0.4787163334922676\n",
            "ppmi_SVD50_p.5-based space vs. wordSim353 -> spearman's rho:\t\n",
            "0.48067750369425066\n"
          ]
        }
      ],
      "source": [
        "measure2mat = {\"ppmi_SVD50_p.0\": ppmiMat_tr50_p0,\n",
        "              \"ppmi_SVD50_p.5\": ppmiMat_tr50_p5,}\n",
        "\n",
        "for m, mat in measure2mat.items():\n",
        "    print(m+\"-based space vs. wordSim353 -> spearman's rho:\\t\",)\n",
        "    \n",
        "    sim = sklearn.metrics.pairwise.cosine_similarity(mat)\n",
        "    \n",
        "    wordSim_ratings = []\n",
        "    vsm_sims = []\n",
        "    for (w1, w2), r in wordSim353.items():\n",
        "        w1idx = vectors_indices[w1]\n",
        "        w2idx = vectors_indices[w2]\n",
        "        \n",
        "        wordSim_ratings.append(r)\n",
        "        vsm_sims.append(sim[w1idx, w2idx])\n",
        "        \n",
        "    rho, pval = scipy.stats.spearmanr(wordSim_ratings, vsm_sims)\n",
        "    \n",
        "    print(rho)\n",
        "    rhos.append(rho)\n",
        "    measures.append(m)"
      ]
    },
    {
      "cell_type": "code",
      "execution_count": null,
      "metadata": {
        "id": "5gGxNp-mn99l",
        "outputId": "b04e08df-0056-4779-bdc7-b59d6646c40d"
      },
      "outputs": [
        {
          "data": {
            "image/png": "[encoded data removed]",
            "text/plain": [
              "<Figure size 640x480 with 1 Axes>"
            ]
          },
          "metadata": {},
          "output_type": "display_data"
        }
      ],
      "source": [
        "plt.bar(range(0, len(rhos)), rhos)\n",
        "plt.xticks(range(0, len(rhos)), measures, size='small', rotation='vertical')\n",
        "plt.show()"
      ]
    },
    {
      "cell_type": "markdown",
      "metadata": {
        "id": "Wzx5aN_6n99l"
      },
      "source": [
        "---"
      ]
    },
    {
      "cell_type": "markdown",
      "metadata": {
        "id": "dNP-uaKPn99l"
      },
      "source": [
        "### Exercise 1.\n",
        "\n",
        "Apply SVD to the PLMI Weighted dense matrix `plmiMat` and evaluate the model."
      ]
    },
    {
      "cell_type": "code",
      "execution_count": null,
      "metadata": {
        "id": "dttMIBpBn99m"
      },
      "outputs": [],
      "source": [
        "# your code here"
      ]
    },
    {
      "cell_type": "markdown",
      "metadata": {
        "id": "36Bj0n0jn99m"
      },
      "source": [
        "### Exercise 2.\n",
        "\n",
        "Create and evaluate a plmi-weighted vector space model based on the co-occurrences in a ±10 words collocational span."
      ]
    },
    {
      "cell_type": "code",
      "execution_count": null,
      "metadata": {
        "id": "x8dtKKnVn99m"
      },
      "outputs": [],
      "source": [
        "# your code here"
      ]
    },
    {
      "cell_type": "markdown",
      "metadata": {
        "id": "hgscCy6Dn99m"
      },
      "source": [
        "---"
      ]
    }
  ],
  "metadata": {
    "kernelspec": {
      "display_name": "Python 3",
      "language": "python",
      "name": "python3"
    },
    "language_info": {
      "codemirror_mode": {
        "name": "ipython",
        "version": 3
      },
      "file_extension": ".py",
      "mimetype": "text/x-python",
      "name": "python",
      "nbconvert_exporter": "python",
      "pygments_lexer": "ipython3",
      "version": "3.8.5"
    },
    "toc": {
      "base_numbering": 1,
      "nav_menu": {},
      "number_sections": true,
      "sideBar": true,
      "skip_h1_title": false,
      "title_cell": "Table of Contents",
      "title_sidebar": "Contents",
      "toc_cell": false,
      "toc_position": {},
      "toc_section_display": true,
      "toc_window_display": true
    },
    "colab": {
      "name": "4_Vector_Semantics.ipynb",
      "provenance": []
    }
  },
  "nbformat": 4,
  "nbformat_minor": 0
}